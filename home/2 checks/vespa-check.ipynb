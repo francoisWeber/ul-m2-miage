{
 "cells": [
  {
   "cell_type": "code",
   "execution_count": 4,
   "id": "ac024a62-f634-4faa-b58e-c9d585475d78",
   "metadata": {},
   "outputs": [
    {
     "name": "stdout",
     "output_type": "stream",
     "text": [
      "Application is up!\n"
     ]
    }
   ],
   "source": [
    "from vespa.application import Vespa\n",
    "vespa = Vespa(url=\"http://vespa\", port=8080)\n",
    "vespa.wait_for_application_up(5)"
   ]
  },
  {
   "cell_type": "code",
   "execution_count": 15,
   "id": "d2f6ab70-9c54-4249-8535-291fe9759bc7",
   "metadata": {},
   "outputs": [
    {
     "data": {
      "text/plain": [
       "[{'id': 'id:beer_content:beer::4617',\n",
       "  'relevance': 5.035672594418835,\n",
       "  'source': 'beer_content',\n",
       "  'fields': {'sddocname': 'beer',\n",
       "   'documentid': 'id:beer_content:beer::4617',\n",
       "   'name': 'Saranac Belgian Ale',\n",
       "   'global_description': 'The beer 4665 from brewery F.X. Matt Brewing has the following attributes:\\n- beer description: Saranac Belgian Ale is Deliciously Fruity. It is brewed with a generous amount of Belgian Aromatic Malt, Hand selected hops, and a traditional Belgian ale yeast. Brewed in the \"Trappist Style\".\\n- beer style: Other Belgian-Style Ales\\n- specs: Alcohol by volume: 5.9, bitterness unit: 36.3',\n",
       "   'description_beer': 'Saranac Belgian Ale is Deliciously Fruity. It is brewed with a generous amount of Belgian Aromatic Malt, Hand selected hops, and a traditional Belgian ale yeast. Brewed in the \"Trappist Style\".',\n",
       "   'brewery': 'F.X. Matt Brewing',\n",
       "   'country': 'United States',\n",
       "   'cat_name': 'Belgian and French Ale',\n",
       "   'style_name': 'Other Belgian-Style Ales'}},\n",
       " {'id': 'id:beer_content:beer::4222',\n",
       "  'relevance': 4.7020968324770775,\n",
       "  'source': 'beer_content',\n",
       "  'fields': {'sddocname': 'beer',\n",
       "   'documentid': 'id:beer_content:beer::4222',\n",
       "   'name': 'Cerberus 10 Dog Ale',\n",
       "   'global_description': \"The beer 4267 from brewery Thirsty Dog Brewing has the following attributes:\\n- beer description: This beer is made with one grain and 4 Belgian yeasts, a deceptive golden color, and a malty palate lend complexity to this Belgian Trippel Ale.\\n- brewery description: Here at the Thirsty Dog Brewing Company, full flavor, delicate balance, texture & aroma combine to make beer an infinitely complex experience, and one that can be thoroughly enjoyable. Each of our beers are meticulously hand crafted in small batches using the finest ingredients. High quality malted barley is the source of the beer's sweetness & body. Select American & European hops are used to balance the malt sweetness, and , at times, add special flavors & aromas to the beer. Our careful selection of ingredients, along with specially designed recipes & brewing processes, give Thirsty Dog beers their unique flavor profiles that can be hard to find in today's mass market. one size fits all society. Our microbrewed beers are far more diverse in range and character then the small spectrum of mass-marketed beers offered to the American public by the large national breweries. Enjoy the diversity, Unleash the flavor today., Welcome to Thirsty Dog Brewing Company, and welcome to great beer!\\n- beer style: Belgian-Style Tripel\\n- specs: Alcohol by volume: 10.0, bitterness unit: 24.9\",\n",
       "   'description_beer': 'This beer is made with one grain and 4 Belgian yeasts, a deceptive golden color, and a malty palate lend complexity to this Belgian Trippel Ale.',\n",
       "   'brewery': 'Thirsty Dog Brewing',\n",
       "   'country': 'United States',\n",
       "   'cat_name': 'Belgian and French Ale',\n",
       "   'style_name': 'Belgian-Style Tripel',\n",
       "   'description_brewery': \"Here at the Thirsty Dog Brewing Company, full flavor, delicate balance, texture & aroma combine to make beer an infinitely complex experience, and one that can be thoroughly enjoyable. Each of our beers are meticulously hand crafted in small batches using the finest ingredients. High quality malted barley is the source of the beer's sweetness & body. Select American & European hops are used to balance the malt sweetness, and , at times, add special flavors & aromas to the beer. Our careful selection of ingredients, along with specially designed recipes & brewing processes, give Thirsty Dog beers their unique flavor profiles that can be hard to find in today's mass market. one size fits all society. Our microbrewed beers are far more diverse in range and character then the small spectrum of mass-marketed beers offered to the American public by the large national breweries. Enjoy the diversity, Unleash the flavor today., Welcome to Thirsty Dog Brewing Company, and welcome to great beer!\"}},\n",
       " {'id': 'id:beer_content:beer::4062',\n",
       "  'relevance': 4.634560018481652,\n",
       "  'source': 'beer_content',\n",
       "  'fields': {'sddocname': 'beer',\n",
       "   'documentid': 'id:beer_content:beer::4062',\n",
       "   'name': 'Abbey Normal Ale',\n",
       "   'global_description': 'The beer 4104 from brewery Four Peaks Brewing has the following attributes:\\n- beer description: A Belgian Double Abbey.\\n- beer style: Other Belgian-Style Ales\\n- specs: Alcohol by volume: 9.9, bitterness unit: 31.4',\n",
       "   'description_beer': 'A Belgian Double Abbey.',\n",
       "   'brewery': 'Four Peaks Brewing',\n",
       "   'country': 'United States',\n",
       "   'cat_name': 'Belgian and French Ale',\n",
       "   'style_name': 'Other Belgian-Style Ales'}},\n",
       " {'id': 'id:beer_content:beer::5227',\n",
       "  'relevance': 4.578113966893565,\n",
       "  'source': 'beer_content',\n",
       "  'fields': {'sddocname': 'beer',\n",
       "   'documentid': 'id:beer_content:beer::5227',\n",
       "   'name': 'Richbrau Abbey-Style Ale',\n",
       "   'global_description': 'The beer 5275 from brewery Richbrau Brewing Company has the following attributes:\\n- beer description: This recipe is meant to replicate a Belgian Abbey-style ale. Tart from the Belgian yeast but malty and sweet from the addition of rock candy sugar. Reddish brown in color.\\n- beer style: Other Belgian-Style Ales\\n- specs: Alcohol by volume: 7.0, bitterness unit: 44.4',\n",
       "   'description_beer': 'This recipe is meant to replicate a Belgian Abbey-style ale. Tart from the Belgian yeast but malty and sweet from the addition of rock candy sugar. Reddish brown in color.',\n",
       "   'brewery': 'Richbrau Brewing Company',\n",
       "   'country': 'United States',\n",
       "   'cat_name': 'Belgian and French Ale',\n",
       "   'style_name': 'Other Belgian-Style Ales'}},\n",
       " {'id': 'id:beer_content:beer::1540',\n",
       "  'relevance': 4.367271698749777,\n",
       "  'source': 'beer_content',\n",
       "  'fields': {'sddocname': 'beer',\n",
       "   'documentid': 'id:beer_content:beer::1540',\n",
       "   'name': 'PranQster Belgian Ale',\n",
       "   'global_description': \"The beer 1560 from brewery North Coast Brewing Company has the following attributes:\\n- beer description: Pranqster\\nBelgian Style Golden Ale\\n\\nBelgian Ales represent the height of the brewers' art. Sophisticated brewing techniques, yeast blends and unique flavoring elements have elevated the beers of Belgium to the status enjoyed by wine in other countries.\\n\\nPranQster follows in this tradition using a mixed culture of antique yeast strains that produce a floral nose, a full fruity flavor and a clean finish.\\n\\nAvailable in 12oz 4 packs and 750 ml traditionally corked and wired bottles.\\n\\nVital Statistics\\nStyle: Belgian Style\\n          Golden Ale\\nColor: Soft Gold\\nABV: 7.6%\\nBitterness: 20 IBU's\\n\\n-http://www.northcoastbrewing.com/beer-Pranqster.htm\\n- beer style: \\n- specs: Alcohol by volume: 7.6, bitterness unit: 75.6\",\n",
       "   'description_beer': \"Pranqster\\nBelgian Style Golden Ale\\n\\nBelgian Ales represent the height of the brewers' art. Sophisticated brewing techniques, yeast blends and unique flavoring elements have elevated the beers of Belgium to the status enjoyed by wine in other countries.\\n\\nPranQster follows in this tradition using a mixed culture of antique yeast strains that produce a floral nose, a full fruity flavor and a clean finish.\\n\\nAvailable in 12oz 4 packs and 750 ml traditionally corked and wired bottles.\\n\\nVital Statistics\\nStyle: Belgian Style\\n          Golden Ale\\nColor: Soft Gold\\nABV: 7.6%\\nBitterness: 20 IBU's\\n\\n-http://www.northcoastbrewing.com/beer-Pranqster.htm\",\n",
       "   'brewery': 'North Coast Brewing Company',\n",
       "   'country': 'United States'}}]"
      ]
     },
     "execution_count": 15,
     "metadata": {},
     "output_type": "execute_result"
    }
   ],
   "source": [
    "resp = vespa.query(\n",
    "    {\n",
    "        \"yql\": 'select * from beer where userQuery() and name contains \"Ale\"',\n",
    "        \"hits\": 5,\n",
    "        \"query\": \"belgian\",\n",
    "        \"ranking\": \"rank-brewery-and-descr\",\n",
    "    }\n",
    ")\n",
    "\n",
    "resp.json[\"root\"][\"children\"]"
   ]
  },
  {
   "cell_type": "code",
   "execution_count": null,
   "id": "a7438aa1-8175-49b2-88c9-fc2fa7e46c60",
   "metadata": {},
   "outputs": [],
   "source": []
  }
 ],
 "metadata": {
  "kernelspec": {
   "display_name": "Python 3 (ipykernel)",
   "language": "python",
   "name": "python3"
  },
  "language_info": {
   "codemirror_mode": {
    "name": "ipython",
    "version": 3
   },
   "file_extension": ".py",
   "mimetype": "text/x-python",
   "name": "python",
   "nbconvert_exporter": "python",
   "pygments_lexer": "ipython3",
   "version": "3.11.0rc1"
  }
 },
 "nbformat": 4,
 "nbformat_minor": 5
}
