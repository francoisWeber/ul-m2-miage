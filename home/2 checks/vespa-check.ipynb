{
 "cells": [
  {
   "cell_type": "code",
   "execution_count": 1,
   "id": "ac024a62-f634-4faa-b58e-c9d585475d78",
   "metadata": {},
   "outputs": [
    {
     "name": "stdout",
     "output_type": "stream",
     "text": [
      "Waiting for application to come up, 0/5 seconds.\n"
     ]
    },
    {
     "ename": "RuntimeError",
     "evalue": "Could not connect to endpoint http://vespa:8080 using any of the available auth methods within 5 seconds.",
     "output_type": "error",
     "traceback": [
      "\u001b[31m---------------------------------------------------------------------------\u001b[39m",
      "\u001b[31mRuntimeError\u001b[39m                              Traceback (most recent call last)",
      "\u001b[36mCell\u001b[39m\u001b[36m \u001b[39m\u001b[32mIn[1]\u001b[39m\u001b[32m, line 3\u001b[39m\n\u001b[32m      1\u001b[39m \u001b[38;5;28;01mfrom\u001b[39;00m\u001b[38;5;250m \u001b[39m\u001b[34;01mvespa\u001b[39;00m\u001b[34;01m.\u001b[39;00m\u001b[34;01mapplication\u001b[39;00m\u001b[38;5;250m \u001b[39m\u001b[38;5;28;01mimport\u001b[39;00m Vespa\n\u001b[32m      2\u001b[39m vespa = Vespa(url=\u001b[33m\"\u001b[39m\u001b[33mhttp://vespa\u001b[39m\u001b[33m\"\u001b[39m, port=\u001b[32m8080\u001b[39m)\n\u001b[32m----> \u001b[39m\u001b[32m3\u001b[39m \u001b[43mvespa\u001b[49m\u001b[43m.\u001b[49m\u001b[43mwait_for_application_up\u001b[49m\u001b[43m(\u001b[49m\u001b[32;43m5\u001b[39;49m\u001b[43m)\u001b[49m\n",
      "\u001b[36mFile \u001b[39m\u001b[32m/usr/local/lib/python3.11/dist-packages/vespa/application.py:278\u001b[39m, in \u001b[36mVespa.wait_for_application_up\u001b[39m\u001b[34m(self, max_wait)\u001b[39m\n\u001b[32m    273\u001b[39m         \u001b[38;5;28mprint\u001b[39m(\n\u001b[32m    274\u001b[39m             \u001b[33mf\u001b[39m\u001b[33m\"\u001b[39m\u001b[33mWaiting for application to come up, \u001b[39m\u001b[38;5;132;01m{\u001b[39;00mwait_sec\u001b[38;5;132;01m}\u001b[39;00m\u001b[33m/\u001b[39m\u001b[38;5;132;01m{\u001b[39;00mmax_wait\u001b[38;5;132;01m}\u001b[39;00m\u001b[33m seconds.\u001b[39m\u001b[33m\"\u001b[39m,\n\u001b[32m    275\u001b[39m             file=\u001b[38;5;28mself\u001b[39m.output_file,\n\u001b[32m    276\u001b[39m         )\n\u001b[32m    277\u001b[39m \u001b[38;5;28;01melse\u001b[39;00m:\n\u001b[32m--> \u001b[39m\u001b[32m278\u001b[39m     \u001b[38;5;28;01mraise\u001b[39;00m \u001b[38;5;167;01mRuntimeError\u001b[39;00m(\n\u001b[32m    279\u001b[39m         \u001b[33m\"\u001b[39m\u001b[33mCould not connect to endpoint \u001b[39m\u001b[38;5;132;01m{0}\u001b[39;00m\u001b[33m using any of the available auth methods within \u001b[39m\u001b[38;5;132;01m{1}\u001b[39;00m\u001b[33m seconds.\u001b[39m\u001b[33m\"\u001b[39m.format(\n\u001b[32m    280\u001b[39m             \u001b[38;5;28mself\u001b[39m.end_point, max_wait\n\u001b[32m    281\u001b[39m         )\n\u001b[32m    282\u001b[39m     )\n",
      "\u001b[31mRuntimeError\u001b[39m: Could not connect to endpoint http://vespa:8080 using any of the available auth methods within 5 seconds."
     ]
    }
   ],
   "source": [
    "from vespa.application import Vespa\n",
    "vespa = Vespa(url=\"http://vespa\", port=8080)\n",
    "vespa.wait_for_application_up(5)"
   ]
  },
  {
   "cell_type": "code",
   "execution_count": 15,
   "id": "d2f6ab70-9c54-4249-8535-291fe9759bc7",
   "metadata": {},
   "outputs": [
    {
     "data": {
      "text/plain": [
       "[{'id': 'id:beer_content:beer::4617',\n",
       "  'relevance': 5.035672594418835,\n",
       "  'source': 'beer_content',\n",
       "  'fields': {'sddocname': 'beer',\n",
       "   'documentid': 'id:beer_content:beer::4617',\n",
       "   'name': 'Saranac Belgian Ale',\n",
       "   'global_description': 'The beer 4665 from brewery F.X. Matt Brewing has the following attributes:\\n- beer description: Saranac Belgian Ale is Deliciously Fruity. It is brewed with a generous amount of Belgian Aromatic Malt, Hand selected hops, and a traditional Belgian ale yeast. Brewed in the \"Trappist Style\".\\n- beer style: Other Belgian-Style Ales\\n- specs: Alcohol by volume: 5.9, bitterness unit: 36.3',\n",
       "   'description_beer': 'Saranac Belgian Ale is Deliciously Fruity. It is brewed with a generous amount of Belgian Aromatic Malt, Hand selected hops, and a traditional Belgian ale yeast. Brewed in the \"Trappist Style\".',\n",
       "   'brewery': 'F.X. Matt Brewing',\n",
       "   'country': 'United States',\n",
       "   'cat_name': 'Belgian and French Ale',\n",
       "   'style_name': 'Other Belgian-Style Ales'}},\n",
       " {'id': 'id:beer_content:beer::4222',\n",
       "  'relevance': 4.7020968324770775,\n",
       "  'source': 'beer_content',\n",
       "  'fields': {'sddocname': 'beer',\n",
       "   'documentid': 'id:beer_content:beer::4222',\n",
       "   'name': 'Cerberus 10 Dog Ale',\n",
       "   'global_description': \"The beer 4267 from brewery Thirsty Dog Brewing has the following attributes:\\n- beer description: This beer is made with one grain and 4 Belgian yeasts, a deceptive golden color, and a malty palate lend complexity to this Belgian Trippel Ale.\\n- brewery description: Here at the Thirsty Dog Brewing Company, full flavor, delicate balance, texture & aroma combine to make beer an infinitely complex experience, and one that can be thoroughly enjoyable. Each of our beers are meticulously hand crafted in small batches using the finest ingredients. High quality malted barley is the source of the beer's sweetness & body. Select American & European hops are used to balance the malt sweetness, and , at times, add special flavors & aromas to the beer. Our careful selection of ingredients, along with specially designed recipes & brewing processes, give Thirsty Dog beers their unique flavor profiles that can be hard to find in today's mass market. one size fits all society. Our microbrewed beers are far more diverse in range and character then the small spectrum of mass-marketed beers offered to the American public by the large national breweries. Enjoy the diversity, Unleash the flavor today., Welcome to Thirsty Dog Brewing Company, and welcome to great beer!\\n- beer style: Belgian-Style Tripel\\n- specs: Alcohol by volume: 10.0, bitterness unit: 24.9\",\n",
       "   'description_beer': 'This beer is made with one grain and 4 Belgian yeasts, a deceptive golden color, and a malty palate lend complexity to this Belgian Trippel Ale.',\n",
       "   'brewery': 'Thirsty Dog Brewing',\n",
       "   'country': 'United States',\n",
       "   'cat_name': 'Belgian and French Ale',\n",
       "   'style_name': 'Belgian-Style Tripel',\n",
       "   'description_brewery': \"Here at the Thirsty Dog Brewing Company, full flavor, delicate balance, texture & aroma combine to make beer an infinitely complex experience, and one that can be thoroughly enjoyable. Each of our beers are meticulously hand crafted in small batches using the finest ingredients. High quality malted barley is the source of the beer's sweetness & body. Select American & European hops are used to balance the malt sweetness, and , at times, add special flavors & aromas to the beer. Our careful selection of ingredients, along with specially designed recipes & brewing processes, give Thirsty Dog beers their unique flavor profiles that can be hard to find in today's mass market. one size fits all society. Our microbrewed beers are far more diverse in range and character then the small spectrum of mass-marketed beers offered to the American public by the large national breweries. Enjoy the diversity, Unleash the flavor today., Welcome to Thirsty Dog Brewing Company, and welcome to great beer!\"}},\n",
       " {'id': 'id:beer_content:beer::4062',\n",
       "  'relevance': 4.634560018481652,\n",
       "  'source': 'beer_content',\n",
       "  'fields': {'sddocname': 'beer',\n",
       "   'documentid': 'id:beer_content:beer::4062',\n",
       "   'name': 'Abbey Normal Ale',\n",
       "   'global_description': 'The beer 4104 from brewery Four Peaks Brewing has the following attributes:\\n- beer description: A Belgian Double Abbey.\\n- beer style: Other Belgian-Style Ales\\n- specs: Alcohol by volume: 9.9, bitterness unit: 31.4',\n",
       "   'description_beer': 'A Belgian Double Abbey.',\n",
       "   'brewery': 'Four Peaks Brewing',\n",
       "   'country': 'United States',\n",
       "   'cat_name': 'Belgian and French Ale',\n",
       "   'style_name': 'Other Belgian-Style Ales'}},\n",
       " {'id': 'id:beer_content:beer::5227',\n",
       "  'relevance': 4.578113966893565,\n",
       "  'source': 'beer_content',\n",
       "  'fields': {'sddocname': 'beer',\n",
       "   'documentid': 'id:beer_content:beer::5227',\n",
       "   'name': 'Richbrau Abbey-Style Ale',\n",
       "   'global_description': 'The beer 5275 from brewery Richbrau Brewing Company has the following attributes:\\n- beer description: This recipe is meant to replicate a Belgian Abbey-style ale. Tart from the Belgian yeast but malty and sweet from the addition of rock candy sugar. Reddish brown in color.\\n- beer style: Other Belgian-Style Ales\\n- specs: Alcohol by volume: 7.0, bitterness unit: 44.4',\n",
       "   'description_beer': 'This recipe is meant to replicate a Belgian Abbey-style ale. Tart from the Belgian yeast but malty and sweet from the addition of rock candy sugar. Reddish brown in color.',\n",
       "   'brewery': 'Richbrau Brewing Company',\n",
       "   'country': 'United States',\n",
       "   'cat_name': 'Belgian and French Ale',\n",
       "   'style_name': 'Other Belgian-Style Ales'}},\n",
       " {'id': 'id:beer_content:beer::1540',\n",
       "  'relevance': 4.367271698749777,\n",
       "  'source': 'beer_content',\n",
       "  'fields': {'sddocname': 'beer',\n",
       "   'documentid': 'id:beer_content:beer::1540',\n",
       "   'name': 'PranQster Belgian Ale',\n",
       "   'global_description': \"The beer 1560 from brewery North Coast Brewing Company has the following attributes:\\n- beer description: Pranqster\\nBelgian Style Golden Ale\\n\\nBelgian Ales represent the height of the brewers' art. Sophisticated brewing techniques, yeast blends and unique flavoring elements have elevated the beers of Belgium to the status enjoyed by wine in other countries.\\n\\nPranQster follows in this tradition using a mixed culture of antique yeast strains that produce a floral nose, a full fruity flavor and a clean finish.\\n\\nAvailable in 12oz 4 packs and 750 ml traditionally corked and wired bottles.\\n\\nVital Statistics\\nStyle: Belgian Style\\n          Golden Ale\\nColor: Soft Gold\\nABV: 7.6%\\nBitterness: 20 IBU's\\n\\n-http://www.northcoastbrewing.com/beer-Pranqster.htm\\n- beer style: \\n- specs: Alcohol by volume: 7.6, bitterness unit: 75.6\",\n",
       "   'description_beer': \"Pranqster\\nBelgian Style Golden Ale\\n\\nBelgian Ales represent the height of the brewers' art. Sophisticated brewing techniques, yeast blends and unique flavoring elements have elevated the beers of Belgium to the status enjoyed by wine in other countries.\\n\\nPranQster follows in this tradition using a mixed culture of antique yeast strains that produce a floral nose, a full fruity flavor and a clean finish.\\n\\nAvailable in 12oz 4 packs and 750 ml traditionally corked and wired bottles.\\n\\nVital Statistics\\nStyle: Belgian Style\\n          Golden Ale\\nColor: Soft Gold\\nABV: 7.6%\\nBitterness: 20 IBU's\\n\\n-http://www.northcoastbrewing.com/beer-Pranqster.htm\",\n",
       "   'brewery': 'North Coast Brewing Company',\n",
       "   'country': 'United States'}}]"
      ]
     },
     "execution_count": 15,
     "metadata": {},
     "output_type": "execute_result"
    }
   ],
   "source": [
    "resp = vespa.query(\n",
    "    {\n",
    "        \"yql\": 'select * from beer where userQuery() and name contains \"Ale\"',\n",
    "        \"hits\": 5,\n",
    "        \"query\": \"belgian\",\n",
    "        \"ranking\": \"rank-brewery-and-descr\",\n",
    "    }\n",
    ")\n",
    "\n",
    "resp.json[\"root\"][\"children\"]"
   ]
  },
  {
   "cell_type": "code",
   "execution_count": null,
   "id": "a7438aa1-8175-49b2-88c9-fc2fa7e46c60",
   "metadata": {},
   "outputs": [],
   "source": []
  }
 ],
 "metadata": {
  "kernelspec": {
   "display_name": "Python 3 (ipykernel)",
   "language": "python",
   "name": "python3"
  },
  "language_info": {
   "codemirror_mode": {
    "name": "ipython",
    "version": 3
   },
   "file_extension": ".py",
   "mimetype": "text/x-python",
   "name": "python",
   "nbconvert_exporter": "python",
   "pygments_lexer": "ipython3",
   "version": "3.11.0rc1"
  }
 },
 "nbformat": 4,
 "nbformat_minor": 5
}
