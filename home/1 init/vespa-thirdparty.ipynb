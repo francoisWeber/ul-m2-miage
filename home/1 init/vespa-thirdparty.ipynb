{
 "cells": [
  {
   "cell_type": "code",
   "execution_count": null,
   "id": "3e208877-4219-4e31-afa3-5b141d37aec4",
   "metadata": {},
   "outputs": [],
   "source": [
    "import os\n",
    "import pandas as pd\n",
    "import numpy as np\n",
    "import random\n",
    "import nest_asyncio\n",
    "\n",
    "from vespa.package import ApplicationPackage, Component, Parameter\n",
    "from vespa.package import Field, FieldSet, RankProfile\n",
    "from vespa.application import Vespa\n",
    "\n",
    "nest_asyncio.apply()\n",
    "\n",
    "VESPA_CONFIG_DIR = \"./vespa-app\"\n",
    "VESPA_CONFIG_ZIP = os.path.join(VESPA_CONFIG_DIR, \"app_package.zip\")"
   ]
  },
  {
   "cell_type": "markdown",
   "id": "219a06db-9b53-4daa-b438-57b2156f13c8",
   "metadata": {},
   "source": [
    "# Comment configurer et feeder votre vespa de projet"
   ]
  },
  {
   "cell_type": "markdown",
   "id": "03c5e6ff-27b5-43a9-95c3-9b58731c49a8",
   "metadata": {},
   "source": [
    "doc du client Python Vespa: https://pyvespa.readthedocs.io/en/latest/"
   ]
  },
  {
   "cell_type": "markdown",
   "id": "e1c5bfff-99ae-45b8-ae6b-e0e97b7ea24e",
   "metadata": {},
   "source": [
    "Renseignez ici le nom de votre groupe (peu import la casse, je normalise la string pour la suite):"
   ]
  },
  {
   "cell_type": "code",
   "execution_count": null,
   "id": "1dbb91f5-35f2-4b8c-9390-0c447bfd956b",
   "metadata": {},
   "outputs": [],
   "source": [
    "GROUP_NAME = None"
   ]
  },
  {
   "cell_type": "code",
   "execution_count": null,
   "id": "b45e0bb2-25a6-4992-a239-72599cc6255c",
   "metadata": {},
   "outputs": [],
   "source": [
    "assert GROUP_NAME, \"RENTREZ VOTRE NOM DE GROUPE !\""
   ]
  },
  {
   "cell_type": "markdown",
   "id": "d34b1f41-cd30-418e-aabe-32dcee878b44",
   "metadata": {},
   "source": [
    "### Definition du Vespa doctype de votre groupe"
   ]
  },
  {
   "cell_type": "markdown",
   "id": "4c014526-2ae3-4300-8bf6-a1767435d7a7",
   "metadata": {},
   "source": [
    "Ici vous décrivez les attributs des documents que vous souhaitez indexer. Je propose d'utiliser l'API Pytho de définition de doctype fourni par les gars de Vespa. Sources: https://pyvespa.readthedocs.io/en/latest/application-packages.html#Schema\n",
    "\n",
    "dans `fields_spec`: mettez la liste des attributs de vos docs avec au minimum un `name` et un `type` pour des champs indicatifs ; ajoutez un `indexing` pour les champs à indexer. Exemple ci-dessous:"
   ]
  },
  {
   "cell_type": "markdown",
   "id": "9a372fae-ca70-4a70-a4e4-c12afb1a2551",
   "metadata": {},
   "source": [
    "## En cas de MàJ de votre doctype\n",
    "=> il suffit de modifier `fields_spec` et de re-exec le bloc suivant. Vespa se reconfigure à chaud. Seul obstacle: certaines modifs vont déclencher une alerte chez Vespa qui vous demandera d'éditer un fichier `validation-overrides.xml` (juste pour prouver que vous savez ce que vous faites) => ce fichier est généré par le bloc de code ci-dessous => modifier la partie `<allow until ... >` en fonction du message d'erreur que vous rendra le bloc du dessous"
   ]
  },
  {
   "cell_type": "code",
   "execution_count": null,
   "id": "32b76494-5b29-410d-a3e4-f9dba7d9fa2e",
   "metadata": {},
   "outputs": [],
   "source": [
    "fields_spec = [\n",
    "    {\"name\": \"id\", \"type\": \"string\"},\n",
    "    {\"name\": \"name\", \"type\": \"string\", \"indexing\": [\"index\", \"summary\", \"attribute\"]},\n",
    "    {\n",
    "        \"name\": \"description\",\n",
    "        \"type\": \"string\",\n",
    "        \"indexing\": [\"index\", \"summary\", \"attribute\"],\n",
    "        \"index\": \"enable-bm25\",\n",
    "    },\n",
    "    {\"name\": \"width\", \"type\": \"float\", \"indexing\": [\"attribute\"]},\n",
    "]"
   ]
  },
  {
   "cell_type": "markdown",
   "id": "6aaec450-2189-461d-be57-4e73c0ab122b",
   "metadata": {},
   "source": [
    "### Pas toucher ce bloc ...\n",
    "Executez le => il s'agit de packager les confs de votre appli et de les pousser à votre Vespa"
   ]
  },
  {
   "cell_type": "code",
   "execution_count": null,
   "id": "e41df562-8692-4393-91f8-7aa0edd2e6a1",
   "metadata": {},
   "outputs": [],
   "source": [
    "import re\n",
    "def camel_to_snake(name):\n",
    "    name = re.sub('(.)([A-Z][a-z]+)', r'\\1-\\2', name)\n",
    "    return re.sub('([a-z0-9])([A-Z])', r'\\1-\\2', name).lower()\n",
    "\n",
    "app_name = GROUP_NAME.lower()\n",
    "vespa_host = \"vespa-\" + camel_to_snake(GROUP_NAME)\n",
    "app_package = ApplicationPackage(\n",
    "    name=app_name, \n",
    "    create_query_profile_by_default=False, \n",
    ")\n",
    "\n",
    "app_package.schema.add_fields(*[Field(**field_spec) for field_spec in fields_spec])\n",
    "\n",
    "app_package.schema.add_field_set(\n",
    "    FieldSet(name=\"default\", fields=[\"name\", \"description\"])\n",
    ")\n",
    "\n",
    "app_package.schema.add_rank_profile(\n",
    "    RankProfile(name=\"default-ranker\", first_phase=\"bm25(description)\")\n",
    ")\n",
    "\n",
    "app_package.schema.add_rank_profile(\n",
    "    RankProfile(name=\"other-ranking\", first_phase=\"bm25(name) + bm25(description)\")\n",
    ")\n",
    "\n",
    "validation_overrides_str = \"\"\"\n",
    "<validation-overrides>\n",
    "    <allow until='2025-01-21'>indexing-change</allow>\n",
    "    <allow until='2025-02-21'>content-cluster-removal</allow>\n",
    "</validation-overrides>\n",
    "\n",
    "\"\"\"\n",
    "with open(os.path.join(VESPA_CONFIG_DIR, \"validation-overrides.xml\"), \"w\") as f:\n",
    "    f.write(validation_overrides_str)\n",
    "\n",
    "app_package.to_files(VESPA_CONFIG_DIR)\n",
    "app_package.to_zipfile(VESPA_CONFIG_ZIP)\n",
    "\n",
    "!curl -X POST --header \"Content-Type: application/zip\" \\\n",
    "     --data-binary @$VESPA_CONFIG_ZIP \\\n",
    "     http://$vespa_host:19071/application/v2/tenant/default/prepareandactivate"
   ]
  },
  {
   "cell_type": "markdown",
   "id": "69a5b854-15c0-4adc-a43e-c08646302baa",
   "metadata": {},
   "source": [
    "Vous devriez avoir un message qui dit `Session X for tenant 'default' prepared and activated`. En cas d'erreur quelque part, le message d'erreur devrait vous aiguiller ... mais a priori si vous ne sortez pas des sentiers battus et que vous utilisez le client PyVespa, tout devrait bien se passer"
   ]
  },
  {
   "cell_type": "markdown",
   "id": "b7f41023-ad63-4b8a-9c98-546fa2eb917f",
   "metadata": {},
   "source": [
    "# Vespa est prêt ? Feedons le avec vos data\n",
    "Le plus simple (mais pas le plus rapide) est de feeder votre Vespa fraîchement configuré avec PyVespa. Pour cela, il suffit de donner la liste des documents à indexer sous la forme d'une liste de `dict` où chaque `dict` contient :\n",
    "- `id`: l'ID unique de votre doc\n",
    "- `fields`: un `dict` qui associe vos `fields` avec leur `value`\n",
    "\n",
    "Exemple avec une liste qui ne contient qu'un doc représenté par les 4 attributs définis dans `fields_spec`:"
   ]
  },
  {
   "cell_type": "code",
   "execution_count": null,
   "id": "f77a3ff2-b93b-4910-a529-3f4f6fef1bc7",
   "metadata": {},
   "outputs": [],
   "source": [
    "data_points = [\n",
    "    {\n",
    "        \"id\": \"point1\",\n",
    "        \"fields\": {\n",
    "            \"id\": \"cst1\",\n",
    "            \"name\": \"pi\",\n",
    "            \"description\": \"some awesome number\",\n",
    "            \"width\": 3.14\n",
    "        }\n",
    "    }\n",
    "]"
   ]
  },
  {
   "cell_type": "markdown",
   "id": "3b30efe1-5cb6-4288-8994-5e9f6911d7a2",
   "metadata": {},
   "source": [
    "Une fois que vous avez défini vos docs (à vous de faire une fonction pour les lire/process), voici comment les pousser à votre Vespa:"
   ]
  },
  {
   "cell_type": "code",
   "execution_count": null,
   "id": "c381e133-a712-4136-9014-db5cbf852983",
   "metadata": {},
   "outputs": [],
   "source": [
    "client = Vespa(url=f\"http://{vespa_host}\", port=8080)\n",
    "client.wait_for_application_up(5)\n",
    "client.feed_async_iterable(data_points, schema=app_name)"
   ]
  },
  {
   "cell_type": "markdown",
   "id": "0397e9e8-dd82-41c3-a372-1284952284fb",
   "metadata": {},
   "source": [
    "## Final check\n",
    "On vérifie que tout est OK en faisant une requête à Vespa"
   ]
  },
  {
   "cell_type": "code",
   "execution_count": null,
   "id": "769d31ea-9f6c-4343-86cd-c099e909029b",
   "metadata": {},
   "outputs": [],
   "source": [
    "resp = client.query(\n",
    "    {\n",
    "        \"yql\": f\"select * from {app_name} where userQuery()\",\n",
    "        \"hits\": 10,\n",
    "        \"query\": \"pi\",\n",
    "    }\n",
    ")\n",
    "resp.json[\"root\"][\"children\"][0][\"fields\"]"
   ]
  },
  {
   "cell_type": "markdown",
   "id": "2dc58718-7890-4bd0-8055-edfdbbdb9b93",
   "metadata": {},
   "source": [
    "# Vous êtes prêts pour la suite du projet"
   ]
  },
  {
   "cell_type": "code",
   "execution_count": null,
   "id": "2e7264ab-a6eb-4384-939c-7776fcb7b983",
   "metadata": {},
   "outputs": [],
   "source": []
  }
 ],
 "metadata": {
  "kernelspec": {
   "display_name": "Python 3 (ipykernel)",
   "language": "python",
   "name": "python3"
  },
  "language_info": {
   "codemirror_mode": {
    "name": "ipython",
    "version": 3
   },
   "file_extension": ".py",
   "mimetype": "text/x-python",
   "name": "python",
   "nbconvert_exporter": "python",
   "pygments_lexer": "ipython3",
   "version": "3.11.0rc1"
  }
 },
 "nbformat": 4,
 "nbformat_minor": 5
}
