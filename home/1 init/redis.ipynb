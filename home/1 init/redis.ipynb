{
 "cells": [
  {
   "cell_type": "code",
   "execution_count": 1,
   "id": "cec3b0bb-7b9a-48e9-85ab-b3484ed4c0d2",
   "metadata": {},
   "outputs": [],
   "source": [
    "import numpy as np\n",
    "import redis"
   ]
  },
  {
   "cell_type": "code",
   "execution_count": 26,
   "id": "ab27048d-1880-4660-a6a8-309e4fc1d427",
   "metadata": {},
   "outputs": [],
   "source": [
    "vectors = np.load(\"./embedding-jina-id-3.npz\").get(\"arr_0\")"
   ]
  },
  {
   "cell_type": "code",
   "execution_count": 24,
   "id": "cdc8fe2b-6f37-43ad-881c-c57d8833b493",
   "metadata": {},
   "outputs": [],
   "source": [
    "import redis\n",
    "\n",
    "# Redis connection details\n",
    "REDIS_HOST = \"redis\"  # Use \"localhost\" if running Redis locally outside of Docker\n",
    "REDIS_PORT = 6379\n",
    "rcache = redis.Redis(host=REDIS_HOST, port=REDIS_PORT)"
   ]
  },
  {
   "cell_type": "code",
   "execution_count": 37,
   "id": "053a4668-dd82-438f-aa38-7d186bd8d1ac",
   "metadata": {},
   "outputs": [],
   "source": [
    "for i, v in enumerate(vectors):\n",
    "    key = f\"id:beer:{i+1}\"\n",
    "    rcache.set(key, v.tobytes())"
   ]
  },
  {
   "cell_type": "code",
   "execution_count": null,
   "id": "6b660c3f-6680-4f1a-81ff-5af800910185",
   "metadata": {},
   "outputs": [],
   "source": []
  },
  {
   "cell_type": "code",
   "execution_count": null,
   "id": "f1e4ff98-13eb-4d20-a3d5-6ef2f30dd698",
   "metadata": {},
   "outputs": [],
   "source": []
  }
 ],
 "metadata": {
  "kernelspec": {
   "display_name": "Python 3 (ipykernel)",
   "language": "python",
   "name": "python3"
  },
  "language_info": {
   "codemirror_mode": {
    "name": "ipython",
    "version": 3
   },
   "file_extension": ".py",
   "mimetype": "text/x-python",
   "name": "python",
   "nbconvert_exporter": "python",
   "pygments_lexer": "ipython3",
   "version": "3.11.0rc1"
  }
 },
 "nbformat": 4,
 "nbformat_minor": 5
}
