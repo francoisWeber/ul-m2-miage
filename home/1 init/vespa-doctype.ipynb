{
 "cells": [
  {
   "cell_type": "code",
   "execution_count": 84,
   "id": "0ad0122f-f026-43c1-b35d-3bf981369437",
   "metadata": {},
   "outputs": [],
   "source": [
    "import os\n",
    "import pandas as pd\n",
    "import numpy as np\n",
    "import random\n",
    "\n",
    "from vespa.package import ApplicationPackage, Component, Parameter\n",
    "from vespa.package import Field, FieldSet, RankProfile\n",
    "from vespa.application import Vespa"
   ]
  },
  {
   "cell_type": "code",
   "execution_count": 85,
   "id": "d76458af-9f54-4539-b651-a3d1287a9e0a",
   "metadata": {},
   "outputs": [],
   "source": [
    "DATA_DIR = \"/datasets/csv\"\n",
    "DATA_FULL_PATH = \"/datasets/csv/beers_full.csv\""
   ]
  },
  {
   "cell_type": "markdown",
   "id": "8502226f-0b55-41b5-a210-ac2fca1cf8f3",
   "metadata": {},
   "source": [
    "# Re Generate the full beers dataset for indices"
   ]
  },
  {
   "cell_type": "code",
   "execution_count": 88,
   "id": "9c8cf4f6-3ae6-45cf-9e08-46773994fd19",
   "metadata": {},
   "outputs": [],
   "source": [
    "dfs = {}\n",
    "for fname in os.listdir(DATA_DIR):\n",
    "    if \"full\" in fname:\n",
    "        continue\n",
    "    path = os.path.join(DATA_DIR, fname)\n",
    "    os.path.basename(path)\n",
    "    table_name = os.path.splitext(os.path.basename(path))[0]\n",
    "    dfs[table_name] = pd.read_csv(path, encoding=\"utf-8\")\n",
    "\n",
    "df = dfs[\"beers\"]\n",
    "df = pd.merge(\n",
    "    df,\n",
    "    dfs[\"breweries\"].rename(columns={\"id\": \"brewery_id\"}),\n",
    "    how=\"left\",\n",
    "    on=\"brewery_id\",\n",
    "    suffixes=(\"\", \"_breweries\"),\n",
    ")\n",
    "df = pd.merge(\n",
    "    df,\n",
    "    dfs[\"categories\"].rename(columns={\"id\": \"cat_id\"}),\n",
    "    how=\"left\",\n",
    "    on=\"cat_id\",\n",
    "    suffixes=(\"\", \"_categories\"),\n",
    ")\n",
    "df = pd.merge(\n",
    "    df,\n",
    "    dfs[\"styles\"].rename(columns={\"id\": \"style_id\"}),\n",
    "    how=\"left\",\n",
    "    on=\"style_id\",\n",
    "    suffixes=(\"\", \"_styles\"),\n",
    ")\n",
    "df = pd.merge(\n",
    "    df, dfs[\"breweries_geocode\"], how=\"left\", on=\"brewery_id\", suffixes=(\"\", \"_geo\")\n",
    ")\n",
    "df = df.drop(\n",
    "    columns=[\n",
    "        \"address2\",\n",
    "        \"filepath_breweries\",\n",
    "        \"filepath\",\n",
    "        \"last_mod\",\n",
    "        \"last_mod_styles\",\n",
    "        \"last_mod_categories\",\n",
    "        \"add_user\",\n",
    "        \"add_user_breweries\",\n",
    "        \"last_mod_breweries\",\n",
    "    ]\n",
    ")\n",
    "df = df.rename(\n",
    "    columns={\n",
    "        \"descript_breweries\": \"description_brewery\",\n",
    "        \"descript\": \"description_beer\",\n",
    "        \"name_breweries\": \"brewery\",\n",
    "    }\n",
    ")\n",
    "\n",
    "df.to_csv(\"../beers_full.csv\", index=False)"
   ]
  },
  {
   "cell_type": "code",
   "execution_count": 69,
   "id": "62a05c25-663d-41bc-b3ab-12ecefaa6736",
   "metadata": {},
   "outputs": [],
   "source": [
    "def craft_global_description(row: pd.Series) -> str:\n",
    "    name = row.name\n",
    "    brewer = row.brewery\n",
    "    beer_descr = row.description_beer\n",
    "    brewer_descr = row.description_brewery\n",
    "    style = \"\" if pd.isna(row.style_name) else row.style_name\n",
    "    abv = row.abv if row.abv>0 else (random.random()*9 + 3)\n",
    "    abv = int(abv*10)/10\n",
    "    ibu = row.ibu if row.ibu>0 else 20 + (random.random()*60 + (random.random()*60 if \"ipa\" in style.lower() else 0))\n",
    "    ibu = int(ibu*10)/10\n",
    "\n",
    "    descr = f\"The beer {name} from brewery {brewer} has the following attributes:\\n\"\n",
    "    if not pd.isna(beer_descr):\n",
    "        descr += f\"- beer description: {beer_descr}\\n\"\n",
    "    if not pd.isna(brewer_descr):\n",
    "        descr += f\"- brewery description: {brewer_descr}\\n\"\n",
    "    if not pd.isna(style):\n",
    "        descr += f\"- beer style: {style}\\n\"\n",
    "    descr += f\"- specs: Alcohol by volume: {abv}, bitterness unit: {ibu}\"\n",
    "    return descr\n",
    "\n",
    "#df = df.assign(global_description=df.apply(craft_global_description, axis=1))"
   ]
  },
  {
   "cell_type": "markdown",
   "id": "ade1a8e3-3a9e-46be-8c50-52d15eaad1c5",
   "metadata": {},
   "source": [
    "# Prepare a Vespa doctype"
   ]
  },
  {
   "cell_type": "code",
   "execution_count": 76,
   "id": "3a3c8fc5-5b7d-4392-b903-0fc546142909",
   "metadata": {},
   "outputs": [],
   "source": [
    "VESPA_CONFIG_DIR = \"/vespa-config\"\n",
    "VESPA_CONFIG_ZIP = os.path.join(VESPA_CONFIG_DIR, \"app_package.zip\")"
   ]
  },
  {
   "cell_type": "markdown",
   "id": "d34b1f41-cd30-418e-aabe-32dcee878b44",
   "metadata": {},
   "source": [
    "### Define Vespa doctype"
   ]
  },
  {
   "cell_type": "code",
   "execution_count": 77,
   "id": "32b76494-5b29-410d-a3e4-f9dba7d9fa2e",
   "metadata": {},
   "outputs": [],
   "source": [
    "fields_spec = [\n",
    "    {\"name\": \"id\", \"type\": \"string\"},\n",
    "    {\"name\": \"brewery_id\", \"type\": \"string\"},\n",
    "    {\"name\": \"name\", \"type\": \"string\", \"indexing\": [\"index\", \"summary\", \"attribute\"]},\n",
    "    {\n",
    "        \"name\": \"description_beer\",\n",
    "        \"type\": \"string\",\n",
    "        \"indexing\": [\"index\", \"summary\", \"attribute\"],\n",
    "        \"index\": \"enable-bm25\",\n",
    "    },\n",
    "    {\n",
    "        \"name\": \"brewery\",\n",
    "        \"type\": \"string\",\n",
    "        \"indexing\": [\"index\", \"summary\", \"attribute\"],\n",
    "        \"index\": \"enable-bm25\",\n",
    "    },\n",
    "    {\n",
    "        \"name\": \"description_brewery\",\n",
    "        \"type\": \"string\",\n",
    "        \"indexing\": [\"index\", \"summary\", \"attribute\"],\n",
    "        \"index\": \"enable-bm25\",\n",
    "    },\n",
    "    {\"name\": \"cat_id\", \"type\": \"string\"},\n",
    "    {\"name\": \"style_id\", \"type\": \"string\"},\n",
    "    {\"name\": \"abv\", \"type\": \"float\", \"indexing\": [\"attribute\"]},\n",
    "    {\"name\": \"ibu\", \"type\": \"float\", \"indexing\": [\"attribute\"]},\n",
    "    {\"name\": \"srm\", \"type\": \"float\", \"indexing\": [\"attribute\"]},\n",
    "    {\"name\": \"upc\", \"type\": \"int\", \"indexing\": [\"attribute\"]},\n",
    "    {\"name\": \"address1\", \"type\": \"string\", \"indexing\": [\"index\"]},\n",
    "    {\"name\": \"city\", \"type\": \"string\", \"indexing\": [\"index\"]},\n",
    "    {\"name\": \"state\", \"type\": \"string\", \"indexing\": [\"index\"]},\n",
    "    {\"name\": \"code\", \"type\": \"string\"},\n",
    "    {\"name\": \"country\", \"type\": \"string\", \"indexing\": [\"index\", \"summary\", \"attribute\"]},\n",
    "    {\"name\": \"phone\", \"type\": \"string\"},\n",
    "    {\"name\": \"website\", \"type\": \"string\"},\n",
    "    {\"name\": \"cat_name\", \"type\": \"string\", \"indexing\": [\"index\", \"summary\", \"attribute\"]},\n",
    "    {\"name\": \"cat_id_styles\", \"type\": \"string\"},\n",
    "    {\"name\": \"style_name\", \"type\": \"string\", \"indexing\": [\"index\", \"summary\"]},\n",
    "    {\"name\": \"id_geo\", \"type\": \"string\"},\n",
    "    {\n",
    "        \"name\": \"geoloc\",\n",
    "        \"type\": \"position\",\n",
    "    },  # see https://docs.vespa.ai/en/geo-search.html\n",
    "    {\"name\": \"accuracy\", \"type\": \"string\"},\n",
    "]"
   ]
  },
  {
   "cell_type": "code",
   "execution_count": 78,
   "id": "903a82d7-e9b6-42e0-8ced-7085749f7471",
   "metadata": {},
   "outputs": [],
   "source": [
    "embedder = Component(\n",
    "    id=\"mxbai-old\", \n",
    "    type=\"hugging-face-embedder\",\n",
    "    parameters=[\n",
    "        Parameter(\"transformer-model\", {\"url\": \"https://huggingface.co/mixedbread-ai/mxbai-embed-xsmall-v1/resolve/main/onnx/model_q4.onnx\"}),\n",
    "        Parameter(\"tokenizer-model\", {\"url\": \"https://huggingface.co/mixedbread-ai/mxbai-embed-xsmall-v1/resolve/main/tokenizer.json\"}),\n",
    "    ]\n",
    ")"
   ]
  },
  {
   "cell_type": "code",
   "execution_count": 79,
   "id": "13ead6b9-aa44-43d2-a13b-f29e2793c56f",
   "metadata": {},
   "outputs": [],
   "source": [
    "app_name = \"beer\"\n",
    "app_package = ApplicationPackage(\n",
    "    name=app_name, \n",
    "    create_query_profile_by_default=False, \n",
    "    stateless_model_evaluation=True, \n",
    "    components=[\n",
    "        embedder\n",
    "    ]\n",
    ")"
   ]
  },
  {
   "cell_type": "code",
   "execution_count": 80,
   "id": "d3c6c62e-888d-44cf-9a86-6c06f811a0d2",
   "metadata": {},
   "outputs": [],
   "source": [
    "app_package.schema.add_fields(*[Field(**field_spec) for field_spec in fields_spec])\n",
    "\n",
    "app_package.schema.add_field_set(\n",
    "    FieldSet(name=\"default\", fields=[\"name\", \"description_beer\"])\n",
    ")\n",
    "\n",
    "app_package.schema.add_rank_profile(\n",
    "    RankProfile(name=\"root\", first_phase=\"bm25(description_beer)\")\n",
    ")\n",
    "\n",
    "app_package.schema.add_rank_profile(\n",
    "    RankProfile(name=\"rank-brewery-and-descr\", first_phase=\"bm25(name) + bm25(description_beer)\")\n",
    ")"
   ]
  },
  {
   "cell_type": "code",
   "execution_count": 81,
   "id": "cf93837d-1778-46f7-9f97-1216ecc0c40c",
   "metadata": {},
   "outputs": [
    {
     "ename": "PermissionError",
     "evalue": "[Errno 13] Permission denied: '/vespa-config/schemas/beer.sd'",
     "output_type": "error",
     "traceback": [
      "\u001b[0;31m---------------------------------------------------------------------------\u001b[0m",
      "\u001b[0;31mPermissionError\u001b[0m                           Traceback (most recent call last)",
      "Cell \u001b[0;32mIn[81], line 1\u001b[0m\n\u001b[0;32m----> 1\u001b[0m \u001b[43mapp_package\u001b[49m\u001b[38;5;241;43m.\u001b[39;49m\u001b[43mto_files\u001b[49m\u001b[43m(\u001b[49m\u001b[43mVESPA_CONFIG_DIR\u001b[49m\u001b[43m)\u001b[49m\n\u001b[1;32m      2\u001b[0m app_package\u001b[38;5;241m.\u001b[39mto_zipfile(VESPA_CONFIG_ZIP)\n",
      "File \u001b[0;32m/usr/local/lib/python3.11/dist-packages/vespa/package.py:2919\u001b[0m, in \u001b[0;36mApplicationPackage.to_files\u001b[0;34m(self, root)\u001b[0m\n\u001b[1;32m   2914\u001b[0m Path(os\u001b[38;5;241m.\u001b[39mpath\u001b[38;5;241m.\u001b[39mjoin(root, \u001b[38;5;124m\"\u001b[39m\u001b[38;5;124msearch/query-profiles/types\u001b[39m\u001b[38;5;124m\"\u001b[39m))\u001b[38;5;241m.\u001b[39mmkdir(\n\u001b[1;32m   2915\u001b[0m     parents\u001b[38;5;241m=\u001b[39m\u001b[38;5;28;01mTrue\u001b[39;00m, exist_ok\u001b[38;5;241m=\u001b[39m\u001b[38;5;28;01mTrue\u001b[39;00m\n\u001b[1;32m   2916\u001b[0m )\n\u001b[1;32m   2918\u001b[0m \u001b[38;5;28;01mfor\u001b[39;00m schema \u001b[38;5;129;01min\u001b[39;00m \u001b[38;5;28mself\u001b[39m\u001b[38;5;241m.\u001b[39mschemas:\n\u001b[0;32m-> 2919\u001b[0m     \u001b[38;5;28;01mwith\u001b[39;00m \u001b[38;5;28;43mopen\u001b[39;49m\u001b[43m(\u001b[49m\n\u001b[1;32m   2920\u001b[0m \u001b[43m        \u001b[49m\u001b[43mos\u001b[49m\u001b[38;5;241;43m.\u001b[39;49m\u001b[43mpath\u001b[49m\u001b[38;5;241;43m.\u001b[39;49m\u001b[43mjoin\u001b[49m\u001b[43m(\u001b[49m\u001b[43mroot\u001b[49m\u001b[43m,\u001b[49m\u001b[43m \u001b[49m\u001b[38;5;124;43m\"\u001b[39;49m\u001b[38;5;124;43mschemas/\u001b[39;49m\u001b[38;5;132;43;01m{}\u001b[39;49;00m\u001b[38;5;124;43m.sd\u001b[39;49m\u001b[38;5;124;43m\"\u001b[39;49m\u001b[38;5;241;43m.\u001b[39;49m\u001b[43mformat\u001b[49m\u001b[43m(\u001b[49m\u001b[43mschema\u001b[49m\u001b[38;5;241;43m.\u001b[39;49m\u001b[43mname\u001b[49m\u001b[43m)\u001b[49m\u001b[43m)\u001b[49m\u001b[43m,\u001b[49m\u001b[43m \u001b[49m\u001b[38;5;124;43m\"\u001b[39;49m\u001b[38;5;124;43mw\u001b[39;49m\u001b[38;5;124;43m\"\u001b[39;49m\n\u001b[1;32m   2921\u001b[0m \u001b[43m    \u001b[49m\u001b[43m)\u001b[49m \u001b[38;5;28;01mas\u001b[39;00m f:\n\u001b[1;32m   2922\u001b[0m         f\u001b[38;5;241m.\u001b[39mwrite(schema\u001b[38;5;241m.\u001b[39mschema_to_text)\n\u001b[1;32m   2923\u001b[0m     \u001b[38;5;28;01mfor\u001b[39;00m model \u001b[38;5;129;01min\u001b[39;00m schema\u001b[38;5;241m.\u001b[39mmodels:\n",
      "\u001b[0;31mPermissionError\u001b[0m: [Errno 13] Permission denied: '/vespa-config/schemas/beer.sd'"
     ]
    }
   ],
   "source": [
    "app_package.to_files(VESPA_CONFIG_DIR)\n",
    "app_package.to_zipfile(VESPA_CONFIG_ZIP)"
   ]
  },
  {
   "cell_type": "code",
   "execution_count": 65,
   "id": "859d65c7-0850-45fa-9235-e62ec415f25b",
   "metadata": {},
   "outputs": [
    {
     "ename": "PermissionError",
     "evalue": "[Errno 13] Permission denied: '/vespa-config/validation-overrides.xml'",
     "output_type": "error",
     "traceback": [
      "\u001b[0;31m---------------------------------------------------------------------------\u001b[0m",
      "\u001b[0;31mPermissionError\u001b[0m                           Traceback (most recent call last)",
      "Cell \u001b[0;32mIn[65], line 6\u001b[0m\n\u001b[1;32m      1\u001b[0m validation_overrides_str \u001b[38;5;241m=\u001b[39m \u001b[38;5;124m\"\"\"\u001b[39m\n\u001b[1;32m      2\u001b[0m \u001b[38;5;124m<validation-overrides>\u001b[39m\n\u001b[1;32m      3\u001b[0m \u001b[38;5;124m    <allow until=\u001b[39m\u001b[38;5;124m'\u001b[39m\u001b[38;5;124m2025-01-20\u001b[39m\u001b[38;5;124m'\u001b[39m\u001b[38;5;124m>indexing-change</allow>\u001b[39m\n\u001b[1;32m      4\u001b[0m \u001b[38;5;124m</validation-overrides>\u001b[39m\n\u001b[1;32m      5\u001b[0m \u001b[38;5;124m\"\"\"\u001b[39m\n\u001b[0;32m----> 6\u001b[0m \u001b[38;5;28;01mwith\u001b[39;00m \u001b[38;5;28;43mopen\u001b[39;49m\u001b[43m(\u001b[49m\u001b[43mos\u001b[49m\u001b[38;5;241;43m.\u001b[39;49m\u001b[43mpath\u001b[49m\u001b[38;5;241;43m.\u001b[39;49m\u001b[43mjoin\u001b[49m\u001b[43m(\u001b[49m\u001b[43mVESPA_CONFIG_DIR\u001b[49m\u001b[43m,\u001b[49m\u001b[43m \u001b[49m\u001b[38;5;124;43m\"\u001b[39;49m\u001b[38;5;124;43mvalidation-overrides.xml\u001b[39;49m\u001b[38;5;124;43m\"\u001b[39;49m\u001b[43m)\u001b[49m\u001b[43m,\u001b[49m\u001b[43m \u001b[49m\u001b[38;5;124;43m\"\u001b[39;49m\u001b[38;5;124;43mw\u001b[39;49m\u001b[38;5;124;43m\"\u001b[39;49m\u001b[43m)\u001b[49m \u001b[38;5;28;01mas\u001b[39;00m f:\n\u001b[1;32m      7\u001b[0m     f\u001b[38;5;241m.\u001b[39mwrite(validation_overrides_str)\n",
      "File \u001b[0;32m/usr/local/lib/python3.11/dist-packages/IPython/core/interactiveshell.py:324\u001b[0m, in \u001b[0;36m_modified_open\u001b[0;34m(file, *args, **kwargs)\u001b[0m\n\u001b[1;32m    317\u001b[0m \u001b[38;5;28;01mif\u001b[39;00m file \u001b[38;5;129;01min\u001b[39;00m {\u001b[38;5;241m0\u001b[39m, \u001b[38;5;241m1\u001b[39m, \u001b[38;5;241m2\u001b[39m}:\n\u001b[1;32m    318\u001b[0m     \u001b[38;5;28;01mraise\u001b[39;00m \u001b[38;5;167;01mValueError\u001b[39;00m(\n\u001b[1;32m    319\u001b[0m         \u001b[38;5;124mf\u001b[39m\u001b[38;5;124m\"\u001b[39m\u001b[38;5;124mIPython won\u001b[39m\u001b[38;5;124m'\u001b[39m\u001b[38;5;124mt let you open fd=\u001b[39m\u001b[38;5;132;01m{\u001b[39;00mfile\u001b[38;5;132;01m}\u001b[39;00m\u001b[38;5;124m by default \u001b[39m\u001b[38;5;124m\"\u001b[39m\n\u001b[1;32m    320\u001b[0m         \u001b[38;5;124m\"\u001b[39m\u001b[38;5;124mas it is likely to crash IPython. If you know what you are doing, \u001b[39m\u001b[38;5;124m\"\u001b[39m\n\u001b[1;32m    321\u001b[0m         \u001b[38;5;124m\"\u001b[39m\u001b[38;5;124myou can use builtins\u001b[39m\u001b[38;5;124m'\u001b[39m\u001b[38;5;124m open.\u001b[39m\u001b[38;5;124m\"\u001b[39m\n\u001b[1;32m    322\u001b[0m     )\n\u001b[0;32m--> 324\u001b[0m \u001b[38;5;28;01mreturn\u001b[39;00m \u001b[43mio_open\u001b[49m\u001b[43m(\u001b[49m\u001b[43mfile\u001b[49m\u001b[43m,\u001b[49m\u001b[43m \u001b[49m\u001b[38;5;241;43m*\u001b[39;49m\u001b[43margs\u001b[49m\u001b[43m,\u001b[49m\u001b[43m \u001b[49m\u001b[38;5;241;43m*\u001b[39;49m\u001b[38;5;241;43m*\u001b[39;49m\u001b[43mkwargs\u001b[49m\u001b[43m)\u001b[49m\n",
      "\u001b[0;31mPermissionError\u001b[0m: [Errno 13] Permission denied: '/vespa-config/validation-overrides.xml'"
     ]
    }
   ],
   "source": [
    "validation_overrides_str = \"\"\"\n",
    "<validation-overrides>\n",
    "    <allow until='2025-01-20'>indexing-change</allow>\n",
    "</validation-overrides>\n",
    "\"\"\"\n",
    "with open(os.path.join(VESPA_CONFIG_DIR, \"validation-overrides.xml\"), \"w\") as f:\n",
    "    f.write(validation_overrides_str)"
   ]
  },
  {
   "cell_type": "markdown",
   "id": "9da377ac-6028-4cdd-8e65-4240b3616ff9",
   "metadata": {},
   "source": [
    "**NOW** go onto Vespa's container and manually deploy the new app\n",
    "```\n",
    "cd /vespa-config\n",
    "chmod +x vespa-deploy.sh\n",
    "./vespa-deploy.sh\n",
    "```"
   ]
  },
  {
   "cell_type": "markdown",
   "id": "b7f41023-ad63-4b8a-9c98-546fa2eb917f",
   "metadata": {},
   "source": [
    "# Push data to Vespa"
   ]
  },
  {
   "cell_type": "code",
   "execution_count": 66,
   "id": "6cb564c1-d692-4c5e-8f98-48bef6fac15c",
   "metadata": {},
   "outputs": [
    {
     "name": "stdout",
     "output_type": "stream",
     "text": [
      "Application is up!\n"
     ]
    }
   ],
   "source": [
    "client = Vespa(url=\"http://vespa\", port=8080)\n",
    "client.wait_for_application_up(5)"
   ]
  },
  {
   "cell_type": "code",
   "execution_count": 82,
   "id": "0ed8b4c7-7d37-4f2d-8eff-8cea0e926f37",
   "metadata": {},
   "outputs": [],
   "source": [
    "def craft_vespa_fields(s: pd.Series) -> dict:\n",
    "    id_ = f\"beer:{s['id']}\"\n",
    "    fields = {\n",
    "        \"id\": str(s[\"id\"]), # string\n",
    "        \"brewery_id\": s[\"brewery_id\"], # string\n",
    "        \"name\": s[\"name\"], # string\n",
    "        \"cat_id\": s[\"cat_id\"], # string\n",
    "        \"style_id\": s[\"style_id\"], # string\n",
    "        \"abv\": s[\"abv\"], # float\n",
    "        \"ibu\": s[\"ibu\"], # float\n",
    "        \"srm\": s[\"srm\"], # float\n",
    "        \"upc\": s[\"upc\"], # int\n",
    "        \"description_beer\": s[\"description_beer\"], # string\n",
    "        \"brewery\": s[\"brewery\"], # string\n",
    "        \"address1\": s[\"address1\"], # string\n",
    "        \"city\": s[\"city\"], # string\n",
    "        \"state\": s[\"state\"], # string\n",
    "        \"code\": s[\"code\"], # string\n",
    "        \"country\": s[\"country\"], # string\n",
    "        \"phone\": s[\"phone\"], # string\n",
    "        \"website\": s[\"website\"], # string\n",
    "        \"description_brewery\": s[\"description_brewery\"], # string\n",
    "        \"cat_name\": s[\"cat_name\"], # string\n",
    "        \"cat_id_styles\": s[\"cat_id_styles\"], # string\n",
    "        \"style_name\": s[\"style_name\"], # string\n",
    "        \"id_geo\": s[\"id_geo\"], # string\n",
    "        \"geoloc\": {\"lat\": s[\"latitude\"], \"lng\": s[\"longitude\"]}, # position\n",
    "        \"accuracy\": s[\"accuracy\"], # string\n",
    "    }\n",
    "    return {\"id\": id_, \"fields\": fields}\n",
    "\n",
    "def craft_vespa_fields_for_cli(s: pd.Series) -> dict:\n",
    "    id_ = f\"id:beer_content:beer::{s['id']}\"\n",
    "    fields = {\n",
    "        \"id\": str(s[\"id\"]), # string\n",
    "        \"brewery_id\": s[\"brewery_id\"], # string\n",
    "        \"name\": s[\"name\"], # string\n",
    "        \"cat_id\": s[\"cat_id\"], # string\n",
    "        \"style_id\": s[\"style_id\"], # string\n",
    "        \"abv\": s[\"abv\"], # float\n",
    "        \"ibu\": s[\"ibu\"], # float\n",
    "        \"srm\": s[\"srm\"], # float\n",
    "        \"upc\": s[\"upc\"], # int\n",
    "        \"description_beer\": s[\"description_beer\"], # string\n",
    "        \"brewery\": s[\"brewery\"], # string\n",
    "        \"address1\": s[\"address1\"], # string\n",
    "        \"city\": s[\"city\"], # string\n",
    "        \"state\": s[\"state\"], # string\n",
    "        \"code\": s[\"code\"], # string\n",
    "        \"country\": s[\"country\"], # string\n",
    "        \"phone\": s[\"phone\"], # string\n",
    "        \"website\": s[\"website\"], # string\n",
    "        \"description_brewery\": s[\"description_brewery\"], # string\n",
    "        \"cat_name\": s[\"cat_name\"], # string\n",
    "        \"cat_id_styles\": s[\"cat_id_styles\"], # string\n",
    "        \"style_name\": s[\"style_name\"], # string\n",
    "        \"id_geo\": s[\"id_geo\"], # string\n",
    "        \"geoloc\": {\"lat\": s[\"latitude\"], \"lng\": s[\"longitude\"]}, # position\n",
    "        \"accuracy\": s[\"accuracy\"], # string\n",
    "    }\n",
    "    return {\"id\": id_, \"fields\": fields}\n",
    "    \n",
    "    "
   ]
  },
  {
   "cell_type": "code",
   "execution_count": 83,
   "id": "b75096d5",
   "metadata": {},
   "outputs": [
    {
     "name": "stdout",
     "output_type": "stream",
     "text": [
      "Now do:\n",
      "- cp beers_vespa.json /datasets\n",
      "- docker exec -it vespa bash\n",
      "- cd /datasets\n",
      "- vespa feed --verbose beers_vespa.json\n",
      "You should have every data into Vespa\n"
     ]
    }
   ],
   "source": [
    "# produce a whole JSONL gathering every beers ready for Vespa CLI\n",
    "df.apply(craft_vespa_fields_for_cli, axis=1).to_json(\"./beers_vespa.json\", orient=\"records\", lines=True)\n",
    "print(\"\"\"Now do:\n",
    "- cp beers_vespa.json /datasets\n",
    "- docker exec -it vespa bash\n",
    "- cd /datasets\n",
    "- vespa feed --verbose beers_vespa.json\n",
    "You should have every data into Vespa\"\"\")"
   ]
  },
  {
   "cell_type": "code",
   "execution_count": 8,
   "id": "5de04884-2577-43ff-88b6-93dfd57e17a2",
   "metadata": {},
   "outputs": [],
   "source": [
    "# PyVespa based push: not working well\n",
    "point = df.apply(craft_vespa_fields, axis=1).iloc[0]\n",
    "client.feed_iterable(df.apply(craft_vespa_fields, axis=1).to_list(), schema=\"beer\")"
   ]
  },
  {
   "cell_type": "markdown",
   "id": "0397e9e8-dd82-41c3-a372-1284952284fb",
   "metadata": {},
   "source": [
    "## Final check"
   ]
  },
  {
   "cell_type": "code",
   "execution_count": 10,
   "id": "769d31ea-9f6c-4343-86cd-c099e909029b",
   "metadata": {},
   "outputs": [
    {
     "data": {
      "text/plain": [
       "{'sddocname': 'beer',\n",
       " 'documentid': 'id:beer:beer::beer:4134',\n",
       " 'name': 'Kalamazoo Stout',\n",
       " 'description_beer': 'A full-bodied stout with plenty of roast flavor. Kalamazoo Stout is available year round, leading our vast portfolio of stouts.',\n",
       " 'brewery': \"Bell's Brewery Inc.\",\n",
       " 'country': 'United States',\n",
       " 'cat_name': 'British Ale',\n",
       " 'style_name': 'Sweet Stout',\n",
       " 'summaryfeatures': {'bm25(brewery)': 0.0,\n",
       "  'bm25(description_beer)': 3.73974816301847,\n",
       "  'length_of_descr': 1.0,\n",
       "  'vespa.summaryFeatures.cached': 0.0}}"
      ]
     },
     "execution_count": 10,
     "metadata": {},
     "output_type": "execute_result"
    }
   ],
   "source": [
    "resp = client.query(\n",
    "    {\n",
    "        \"yql\": \"select * from beer where userQuery()\",\n",
    "        \"hits\": 10,\n",
    "        \"query\": \"stout\",\n",
    "    }\n",
    ")\n",
    "resp.json[\"root\"][\"children\"][0][\"fields\"]"
   ]
  },
  {
   "cell_type": "code",
   "execution_count": null,
   "id": "c8c7edc1-9ed7-4595-8c2a-106563b0e819",
   "metadata": {},
   "outputs": [],
   "source": []
  }
 ],
 "metadata": {
  "kernelspec": {
   "display_name": "Python 3 (ipykernel)",
   "language": "python",
   "name": "python3"
  },
  "language_info": {
   "codemirror_mode": {
    "name": "ipython",
    "version": 3
   },
   "file_extension": ".py",
   "mimetype": "text/x-python",
   "name": "python",
   "nbconvert_exporter": "python",
   "pygments_lexer": "ipython3",
   "version": "3.11.0rc1"
  }
 },
 "nbformat": 4,
 "nbformat_minor": 5
}
