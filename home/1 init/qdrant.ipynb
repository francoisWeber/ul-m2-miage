{
 "cells": [
  {
   "cell_type": "code",
   "execution_count": 1,
   "id": "b7042c10-b7c9-4c8a-9d3d-9471591baccc",
   "metadata": {},
   "outputs": [],
   "source": [
    "from qdrant_client import QdrantClient\n",
    "from qdrant_client.models import Distance, VectorParams, PointStruct, Batch\n",
    "import numpy as np\n",
    "import pandas as pd"
   ]
  },
  {
   "cell_type": "code",
   "execution_count": 2,
   "id": "7787146c-ee2e-4f3d-b88a-33d1b6caf6ec",
   "metadata": {},
   "outputs": [],
   "source": [
    "jina_dim = 768\n",
    "jina_dist = Distance.COSINE\n",
    "jina_collection_name = \"beer-jina\"\n",
    "\n",
    "client = QdrantClient(url=\"http://qdrant:6333\", prefer_grpc=True)\n",
    "\n",
    "try:\n",
    "    client.create_collection(\n",
    "        collection_name=jina_collection_name,\n",
    "        vectors_config=VectorParams(size=jina_dim, distance=jina_dist),\n",
    "    )\n",
    "except Exception:\n",
    "    pass"
   ]
  },
  {
   "cell_type": "code",
   "execution_count": 3,
   "id": "26a02c4a-d34d-4627-9f65-483ec592037f",
   "metadata": {},
   "outputs": [],
   "source": [
    "df = pd.read_json(\"./to-vec.json\")\n",
    "vec = np.load(\"./embedding-jina-id-3.npz\").get(\"arr_0\")\n",
    "df[\"vector\"] = vec.tolist()"
   ]
  },
  {
   "cell_type": "code",
   "execution_count": 4,
   "id": "838a2be6-3385-4035-8e07-8e844937c93c",
   "metadata": {},
   "outputs": [
    {
     "data": {
      "text/html": [
       "<div>\n",
       "<style scoped>\n",
       "    .dataframe tbody tr th:only-of-type {\n",
       "        vertical-align: middle;\n",
       "    }\n",
       "\n",
       "    .dataframe tbody tr th {\n",
       "        vertical-align: top;\n",
       "    }\n",
       "\n",
       "    .dataframe thead th {\n",
       "        text-align: right;\n",
       "    }\n",
       "</style>\n",
       "<table border=\"1\" class=\"dataframe\">\n",
       "  <thead>\n",
       "    <tr style=\"text-align: right;\">\n",
       "      <th></th>\n",
       "      <th>id</th>\n",
       "      <th>to_vectorize</th>\n",
       "      <th>vector</th>\n",
       "    </tr>\n",
       "  </thead>\n",
       "  <tbody>\n",
       "    <tr>\n",
       "      <th>0</th>\n",
       "      <td>1</td>\n",
       "      <td>the beer Hocus Pocus from brewery Magic Hat (B...</td>\n",
       "      <td>[-0.0039892346, -0.045099236, 0.050918385, 0.0...</td>\n",
       "    </tr>\n",
       "    <tr>\n",
       "      <th>1</th>\n",
       "      <td>2</td>\n",
       "      <td>the beer Grimbergen Blonde from brewery Brouwe...</td>\n",
       "      <td>[-0.020186651, -0.027529828, 0.011570356, 0.02...</td>\n",
       "    </tr>\n",
       "    <tr>\n",
       "      <th>2</th>\n",
       "      <td>3</td>\n",
       "      <td>the beer Widdershins Barleywine from brewery L...</td>\n",
       "      <td>[0.013534898, -0.02075706, 0.012209548, 0.0202...</td>\n",
       "    </tr>\n",
       "    <tr>\n",
       "      <th>3</th>\n",
       "      <td>4</td>\n",
       "      <td>the beer Lucifer from brewery Brouwerij Liefma...</td>\n",
       "      <td>[-0.015566914, -0.0016491069, 0.017164018, 0.0...</td>\n",
       "    </tr>\n",
       "    <tr>\n",
       "      <th>4</th>\n",
       "      <td>5</td>\n",
       "      <td>the beer Bitter from brewery Ridgeway Brewing ...</td>\n",
       "      <td>[0.008074477, -0.028539756, 0.033621587, 0.010...</td>\n",
       "    </tr>\n",
       "    <tr>\n",
       "      <th>...</th>\n",
       "      <td>...</td>\n",
       "      <td>...</td>\n",
       "      <td>...</td>\n",
       "    </tr>\n",
       "    <tr>\n",
       "      <th>5896</th>\n",
       "      <td>5910</td>\n",
       "      <td>the beer Honey Rye Ale from brewery Abita Brew...</td>\n",
       "      <td>[-0.025921917, -0.057531673, 0.08032945, 0.003...</td>\n",
       "    </tr>\n",
       "    <tr>\n",
       "      <th>5897</th>\n",
       "      <td>5911</td>\n",
       "      <td>the beer Strawberry from brewery Abita Brewing...</td>\n",
       "      <td>[-0.03335241, -0.061649293, 0.06562442, 0.0025...</td>\n",
       "    </tr>\n",
       "    <tr>\n",
       "      <th>5898</th>\n",
       "      <td>5912</td>\n",
       "      <td>the beer Satsuma Wit from brewery Abita Brewin...</td>\n",
       "      <td>[-0.010935032, -0.037077338, 0.07624469, 0.015...</td>\n",
       "    </tr>\n",
       "    <tr>\n",
       "      <th>5899</th>\n",
       "      <td>5913</td>\n",
       "      <td>the beer Abhi beer from brewery Abhi Brewery (...</td>\n",
       "      <td>[-0.0061397105, -0.036626168, 0.006759288, -0....</td>\n",
       "    </tr>\n",
       "    <tr>\n",
       "      <th>5900</th>\n",
       "      <td>5914</td>\n",
       "      <td>the beer Ambr from brewery Brasserie du Bouffa...</td>\n",
       "      <td>[-0.02596708, -0.0681614, 0.0042653456, 0.0335...</td>\n",
       "    </tr>\n",
       "  </tbody>\n",
       "</table>\n",
       "<p>5901 rows × 3 columns</p>\n",
       "</div>"
      ],
      "text/plain": [
       "        id                                       to_vectorize  \\\n",
       "0        1  the beer Hocus Pocus from brewery Magic Hat (B...   \n",
       "1        2  the beer Grimbergen Blonde from brewery Brouwe...   \n",
       "2        3  the beer Widdershins Barleywine from brewery L...   \n",
       "3        4  the beer Lucifer from brewery Brouwerij Liefma...   \n",
       "4        5  the beer Bitter from brewery Ridgeway Brewing ...   \n",
       "...    ...                                                ...   \n",
       "5896  5910  the beer Honey Rye Ale from brewery Abita Brew...   \n",
       "5897  5911  the beer Strawberry from brewery Abita Brewing...   \n",
       "5898  5912  the beer Satsuma Wit from brewery Abita Brewin...   \n",
       "5899  5913  the beer Abhi beer from brewery Abhi Brewery (...   \n",
       "5900  5914  the beer Ambr from brewery Brasserie du Bouffa...   \n",
       "\n",
       "                                                 vector  \n",
       "0     [-0.0039892346, -0.045099236, 0.050918385, 0.0...  \n",
       "1     [-0.020186651, -0.027529828, 0.011570356, 0.02...  \n",
       "2     [0.013534898, -0.02075706, 0.012209548, 0.0202...  \n",
       "3     [-0.015566914, -0.0016491069, 0.017164018, 0.0...  \n",
       "4     [0.008074477, -0.028539756, 0.033621587, 0.010...  \n",
       "...                                                 ...  \n",
       "5896  [-0.025921917, -0.057531673, 0.08032945, 0.003...  \n",
       "5897  [-0.03335241, -0.061649293, 0.06562442, 0.0025...  \n",
       "5898  [-0.010935032, -0.037077338, 0.07624469, 0.015...  \n",
       "5899  [-0.0061397105, -0.036626168, 0.006759288, -0....  \n",
       "5900  [-0.02596708, -0.0681614, 0.0042653456, 0.0335...  \n",
       "\n",
       "[5901 rows x 3 columns]"
      ]
     },
     "execution_count": 4,
     "metadata": {},
     "output_type": "execute_result"
    }
   ],
   "source": [
    "df"
   ]
  },
  {
   "cell_type": "code",
   "execution_count": 5,
   "id": "1c868968-58e9-4a11-9a20-0e856de85c03",
   "metadata": {},
   "outputs": [],
   "source": [
    "def row_to_point(row: pd.Series) -> PointStruct:\n",
    "    data = {\n",
    "        \"id\": row.id,\n",
    "        \"vector\": row.vector,\n",
    "        \"payload\": {\"description\": row.to_vectorize}\n",
    "    }\n",
    "    return PointStruct(**data)"
   ]
  },
  {
   "cell_type": "code",
   "execution_count": 6,
   "id": "4aa1f2c0-d35d-490f-9ec7-1d2a66618908",
   "metadata": {},
   "outputs": [
    {
     "name": "stdout",
     "output_type": "stream",
     "text": [
      "operation_id=0 status=<UpdateStatus.COMPLETED: 'completed'>\n"
     ]
    }
   ],
   "source": [
    "operation_info = client.upsert(\n",
    "    collection_name=jina_collection_name,\n",
    "    wait=True,\n",
    "    points=df.apply(row_to_point, axis=1).to_list(),\n",
    ")\n",
    "\n",
    "print(operation_info)\n"
   ]
  },
  {
   "cell_type": "code",
   "execution_count": 7,
   "id": "da98f484-6cdc-48d1-b440-105bffceb727",
   "metadata": {},
   "outputs": [
    {
     "data": {
      "text/plain": [
       "'the beer Hocus Pocus from brewery Magic Hat (Burlington microbrewers of Humble Patience, Fat Angel, #9, Blind Faith IPA, and Heart of Darkness Oatmeal Stout.) crafts the beer Hocus Pocus defined as Our take on a classic summer ale.  A toast to weeds, rays, and summer haze.  A light, crisp ale for mowing lawns, hitting lazy fly balls, and communing with nature, Hocus Pocus is offered up as a summer sacrifice to clodless days.\\r\\n\\r\\nIts malty sweetness finishes tart and crisp and is best apprediated with a wedge of orange.. Spec of the beer are: ABV=4.5, IBU=0, SRM=0'"
      ]
     },
     "execution_count": 7,
     "metadata": {},
     "output_type": "execute_result"
    }
   ],
   "source": [
    "df.iloc[0].to_vectorize"
   ]
  },
  {
   "cell_type": "code",
   "execution_count": 8,
   "id": "64b9ba1b-597d-4c2d-932a-3b5097c76645",
   "metadata": {},
   "outputs": [
    {
     "data": {
      "text/plain": [
       "[ScoredPoint(id=1, version=0, score=1.0, payload={'description': 'the beer Hocus Pocus from brewery Magic Hat (Burlington microbrewers of Humble Patience, Fat Angel, #9, Blind Faith IPA, and Heart of Darkness Oatmeal Stout.) crafts the beer Hocus Pocus defined as Our take on a classic summer ale.  A toast to weeds, rays, and summer haze.  A light, crisp ale for mowing lawns, hitting lazy fly balls, and communing with nature, Hocus Pocus is offered up as a summer sacrifice to clodless days.\\r\\n\\r\\nIts malty sweetness finishes tart and crisp and is best apprediated with a wedge of orange.. Spec of the beer are: ABV=4.5, IBU=0, SRM=0'}, vector=None, shard_key=None, order_value=None),\n",
       " ScoredPoint(id=3949, version=0, score=0.8944739103317261, payload={'description': 'the beer HIPA from brewery Magic Hat (Burlington microbrewers of Humble Patience, Fat Angel, #9, Blind Faith IPA, and Heart of Darkness Oatmeal Stout.) crafts the beer HIPA defined as . Spec of the beer are: ABV=6.8, IBU=0, SRM=0'}, vector=None, shard_key=None, order_value=None),\n",
       " ScoredPoint(id=4157, version=0, score=0.8924959301948547, payload={'description': 'the beer Odd Notion Summer 08 from brewery Magic Hat (Burlington microbrewers of Humble Patience, Fat Angel, #9, Blind Faith IPA, and Heart of Darkness Oatmeal Stout.) crafts the beer Odd Notion Summer 08 defined as A stupendous Midland Mild Ale whose epic malt infused acts of sweet caramel sensations leave all who pour it speechless.  Its roasted notes of sun soaked grain are appearing in the Summer Variety Show in a not to be missed engagement.  Brewed with Belgian Candi Sugar.. Spec of the beer are: ABV=3.6, IBU=0, SRM=0'}, vector=None, shard_key=None, order_value=None)]"
      ]
     },
     "execution_count": 8,
     "metadata": {},
     "output_type": "execute_result"
    }
   ],
   "source": [
    "client.query_points(\n",
    "    collection_name=jina_collection_name,\n",
    "    query=df.iloc[0].vector,\n",
    "    with_payload=True,\n",
    "    limit=3\n",
    ").points"
   ]
  },
  {
   "cell_type": "code",
   "execution_count": null,
   "id": "16732b78-2139-4a08-ab38-db6eb5b77fce",
   "metadata": {},
   "outputs": [],
   "source": []
  }
 ],
 "metadata": {
  "kernelspec": {
   "display_name": "Python 3 (ipykernel)",
   "language": "python",
   "name": "python3"
  },
  "language_info": {
   "codemirror_mode": {
    "name": "ipython",
    "version": 3
   },
   "file_extension": ".py",
   "mimetype": "text/x-python",
   "name": "python",
   "nbconvert_exporter": "python",
   "pygments_lexer": "ipython3",
   "version": "3.11.0rc1"
  }
 },
 "nbformat": 4,
 "nbformat_minor": 5
}
