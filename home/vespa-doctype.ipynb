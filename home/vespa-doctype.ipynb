{
 "cells": [
  {
   "cell_type": "code",
   "execution_count": 4,
   "id": "0ad0122f-f026-43c1-b35d-3bf981369437",
   "metadata": {},
   "outputs": [],
   "source": [
    "import os\n",
    "import random\n",
    "\n",
    "from vespa.package import ApplicationPackage, Component, Parameter\n",
    "from vespa.package import Field, FieldSet, RankProfile\n",
    "from vespa.application import Vespa"
   ]
  },
  {
   "cell_type": "markdown",
   "id": "ade1a8e3-3a9e-46be-8c50-52d15eaad1c5",
   "metadata": {},
   "source": [
    "# Prepare a Vespa doctype"
   ]
  },
  {
   "cell_type": "code",
   "execution_count": 1,
   "id": "3a3c8fc5-5b7d-4392-b903-0fc546142909",
   "metadata": {},
   "outputs": [],
   "source": [
    "VESPA_CONFIG_DIR = \"./vespa-app\"\n",
    "VESPA_CONFIG_ZIP = \"app_package.zip\""
   ]
  },
  {
   "cell_type": "markdown",
   "id": "d34b1f41-cd30-418e-aabe-32dcee878b44",
   "metadata": {},
   "source": [
    "### Define Vespa doctype"
   ]
  },
  {
   "cell_type": "code",
   "execution_count": 2,
   "id": "32b76494-5b29-410d-a3e4-f9dba7d9fa2e",
   "metadata": {},
   "outputs": [],
   "source": [
    "fields_spec = [\n",
    "    {\"name\": \"id\", \"type\": \"string\"},\n",
    "    {\"name\": \"name\", \"type\": \"string\", \"indexing\": [\"index\", \"summary\", \"attribute\"]},\n",
    "    {\n",
    "        \"name\": \"description\",\n",
    "        \"type\": \"string\",\n",
    "        \"indexing\": [\"index\", \"summary\", \"attribute\"],\n",
    "        \"index\": \"enable-bm25\",\n",
    "    },\n",
    "    {\"name\": \"width\", \"type\": \"float\", \"indexing\": [\"attribute\"]},\n",
    "]"
   ]
  },
  {
   "cell_type": "code",
   "execution_count": 6,
   "id": "13ead6b9-aa44-43d2-a13b-f29e2793c56f",
   "metadata": {},
   "outputs": [],
   "source": [
    "app_name = \"quanticpriests\"\n",
    "app_package = ApplicationPackage(\n",
    "    name=app_name, \n",
    "    create_query_profile_by_default=False, \n",
    ")"
   ]
  },
  {
   "cell_type": "code",
   "execution_count": 9,
   "id": "d3c6c62e-888d-44cf-9a86-6c06f811a0d2",
   "metadata": {},
   "outputs": [],
   "source": [
    "app_package.schema.add_fields(*[Field(**field_spec) for field_spec in fields_spec])\n",
    "\n",
    "app_package.schema.add_field_set(\n",
    "    FieldSet(name=\"default\", fields=[\"name\", \"description\"])\n",
    ")\n",
    "\n",
    "app_package.schema.add_rank_profile(\n",
    "    RankProfile(name=\"root\", first_phase=\"bm25(description) + bm25(name)\")\n",
    ")"
   ]
  },
  {
   "cell_type": "code",
   "execution_count": 10,
   "id": "cf93837d-1778-46f7-9f97-1216ecc0c40c",
   "metadata": {},
   "outputs": [],
   "source": [
    "app_package.to_files(VESPA_CONFIG_DIR)\n",
    "app_package.to_zipfile(VESPA_CONFIG_ZIP)"
   ]
  },
  {
   "cell_type": "code",
   "execution_count": 11,
   "id": "b2095581-afc7-40dd-a7d5-1c98bc574c1c",
   "metadata": {},
   "outputs": [
    {
     "name": "stdout",
     "output_type": "stream",
     "text": [
      "{\"error-code\":\"INVALID_APPLICATION_PACKAGE\",\"message\":\"Invalid application: content-cluster-removal: Content cluster 'beer_content' is removed. This will cause loss of all data in this cluster. To allow this add <allow until='yyyy-mm-dd'>content-cluster-removal</allow> to validation-overrides.xml, see https://docs.vespa.ai/en/reference/validation-overrides.html\"}"
     ]
    }
   ],
   "source": [
    "!curl -s --data-binary @app_package.zip -H \"Content-Type: application/zip\" -X POST http://vespa:19071/application/v2/tenant/default/prepareandactivate"
   ]
  },
  {
   "cell_type": "code",
   "execution_count": 65,
   "id": "859d65c7-0850-45fa-9235-e62ec415f25b",
   "metadata": {},
   "outputs": [
    {
     "ename": "PermissionError",
     "evalue": "[Errno 13] Permission denied: '/vespa-config/validation-overrides.xml'",
     "output_type": "error",
     "traceback": [
      "\u001b[0;31m---------------------------------------------------------------------------\u001b[0m",
      "\u001b[0;31mPermissionError\u001b[0m                           Traceback (most recent call last)",
      "Cell \u001b[0;32mIn[65], line 6\u001b[0m\n\u001b[1;32m      1\u001b[0m validation_overrides_str \u001b[38;5;241m=\u001b[39m \u001b[38;5;124m\"\"\"\u001b[39m\n\u001b[1;32m      2\u001b[0m \u001b[38;5;124m<validation-overrides>\u001b[39m\n\u001b[1;32m      3\u001b[0m \u001b[38;5;124m    <allow until=\u001b[39m\u001b[38;5;124m'\u001b[39m\u001b[38;5;124m2025-01-20\u001b[39m\u001b[38;5;124m'\u001b[39m\u001b[38;5;124m>indexing-change</allow>\u001b[39m\n\u001b[1;32m      4\u001b[0m \u001b[38;5;124m</validation-overrides>\u001b[39m\n\u001b[1;32m      5\u001b[0m \u001b[38;5;124m\"\"\"\u001b[39m\n\u001b[0;32m----> 6\u001b[0m \u001b[38;5;28;01mwith\u001b[39;00m \u001b[38;5;28;43mopen\u001b[39;49m\u001b[43m(\u001b[49m\u001b[43mos\u001b[49m\u001b[38;5;241;43m.\u001b[39;49m\u001b[43mpath\u001b[49m\u001b[38;5;241;43m.\u001b[39;49m\u001b[43mjoin\u001b[49m\u001b[43m(\u001b[49m\u001b[43mVESPA_CONFIG_DIR\u001b[49m\u001b[43m,\u001b[49m\u001b[43m \u001b[49m\u001b[38;5;124;43m\"\u001b[39;49m\u001b[38;5;124;43mvalidation-overrides.xml\u001b[39;49m\u001b[38;5;124;43m\"\u001b[39;49m\u001b[43m)\u001b[49m\u001b[43m,\u001b[49m\u001b[43m \u001b[49m\u001b[38;5;124;43m\"\u001b[39;49m\u001b[38;5;124;43mw\u001b[39;49m\u001b[38;5;124;43m\"\u001b[39;49m\u001b[43m)\u001b[49m \u001b[38;5;28;01mas\u001b[39;00m f:\n\u001b[1;32m      7\u001b[0m     f\u001b[38;5;241m.\u001b[39mwrite(validation_overrides_str)\n",
      "File \u001b[0;32m/usr/local/lib/python3.11/dist-packages/IPython/core/interactiveshell.py:324\u001b[0m, in \u001b[0;36m_modified_open\u001b[0;34m(file, *args, **kwargs)\u001b[0m\n\u001b[1;32m    317\u001b[0m \u001b[38;5;28;01mif\u001b[39;00m file \u001b[38;5;129;01min\u001b[39;00m {\u001b[38;5;241m0\u001b[39m, \u001b[38;5;241m1\u001b[39m, \u001b[38;5;241m2\u001b[39m}:\n\u001b[1;32m    318\u001b[0m     \u001b[38;5;28;01mraise\u001b[39;00m \u001b[38;5;167;01mValueError\u001b[39;00m(\n\u001b[1;32m    319\u001b[0m         \u001b[38;5;124mf\u001b[39m\u001b[38;5;124m\"\u001b[39m\u001b[38;5;124mIPython won\u001b[39m\u001b[38;5;124m'\u001b[39m\u001b[38;5;124mt let you open fd=\u001b[39m\u001b[38;5;132;01m{\u001b[39;00mfile\u001b[38;5;132;01m}\u001b[39;00m\u001b[38;5;124m by default \u001b[39m\u001b[38;5;124m\"\u001b[39m\n\u001b[1;32m    320\u001b[0m         \u001b[38;5;124m\"\u001b[39m\u001b[38;5;124mas it is likely to crash IPython. If you know what you are doing, \u001b[39m\u001b[38;5;124m\"\u001b[39m\n\u001b[1;32m    321\u001b[0m         \u001b[38;5;124m\"\u001b[39m\u001b[38;5;124myou can use builtins\u001b[39m\u001b[38;5;124m'\u001b[39m\u001b[38;5;124m open.\u001b[39m\u001b[38;5;124m\"\u001b[39m\n\u001b[1;32m    322\u001b[0m     )\n\u001b[0;32m--> 324\u001b[0m \u001b[38;5;28;01mreturn\u001b[39;00m \u001b[43mio_open\u001b[49m\u001b[43m(\u001b[49m\u001b[43mfile\u001b[49m\u001b[43m,\u001b[49m\u001b[43m \u001b[49m\u001b[38;5;241;43m*\u001b[39;49m\u001b[43margs\u001b[49m\u001b[43m,\u001b[49m\u001b[43m \u001b[49m\u001b[38;5;241;43m*\u001b[39;49m\u001b[38;5;241;43m*\u001b[39;49m\u001b[43mkwargs\u001b[49m\u001b[43m)\u001b[49m\n",
      "\u001b[0;31mPermissionError\u001b[0m: [Errno 13] Permission denied: '/vespa-config/validation-overrides.xml'"
     ]
    }
   ],
   "source": [
    "validation_overrides_str = \"\"\"\n",
    "<validation-overrides>\n",
    "    <allow until='2025-01-20'>indexing-change</allow>\n",
    "</validation-overrides>\n",
    "\"\"\"\n",
    "with open(os.path.join(VESPA_CONFIG_DIR, \"validation-overrides.xml\"), \"w\") as f:\n",
    "    f.write(validation_overrides_str)"
   ]
  },
  {
   "cell_type": "markdown",
   "id": "9da377ac-6028-4cdd-8e65-4240b3616ff9",
   "metadata": {},
   "source": [
    "**NOW** go onto Vespa's container and manually deploy the new app\n",
    "```\n",
    "cd /vespa-config\n",
    "chmod +x vespa-deploy.sh\n",
    "./vespa-deploy.sh\n",
    "```"
   ]
  },
  {
   "cell_type": "markdown",
   "id": "b7f41023-ad63-4b8a-9c98-546fa2eb917f",
   "metadata": {},
   "source": [
    "# Push data to Vespa"
   ]
  },
  {
   "cell_type": "code",
   "execution_count": 66,
   "id": "6cb564c1-d692-4c5e-8f98-48bef6fac15c",
   "metadata": {},
   "outputs": [
    {
     "name": "stdout",
     "output_type": "stream",
     "text": [
      "Application is up!\n"
     ]
    }
   ],
   "source": [
    "client = Vespa(url=\"http://vespa\", port=8080)\n",
    "client.wait_for_application_up(5)"
   ]
  },
  {
   "cell_type": "code",
   "execution_count": 82,
   "id": "0ed8b4c7-7d37-4f2d-8eff-8cea0e926f37",
   "metadata": {},
   "outputs": [],
   "source": [
    "def craft_vespa_fields(s: pd.Series) -> dict:\n",
    "    id_ = f\"beer:{s['id']}\"\n",
    "    fields = {\n",
    "        \"id\": str(s[\"id\"]), # string\n",
    "        \"brewery_id\": s[\"brewery_id\"], # string\n",
    "        \"name\": s[\"name\"], # string\n",
    "        \"cat_id\": s[\"cat_id\"], # string\n",
    "        \"style_id\": s[\"style_id\"], # string\n",
    "        \"abv\": s[\"abv\"], # float\n",
    "        \"ibu\": s[\"ibu\"], # float\n",
    "        \"srm\": s[\"srm\"], # float\n",
    "        \"upc\": s[\"upc\"], # int\n",
    "        \"description_beer\": s[\"description_beer\"], # string\n",
    "        \"brewery\": s[\"brewery\"], # string\n",
    "        \"address1\": s[\"address1\"], # string\n",
    "        \"city\": s[\"city\"], # string\n",
    "        \"state\": s[\"state\"], # string\n",
    "        \"code\": s[\"code\"], # string\n",
    "        \"country\": s[\"country\"], # string\n",
    "        \"phone\": s[\"phone\"], # string\n",
    "        \"website\": s[\"website\"], # string\n",
    "        \"description_brewery\": s[\"description_brewery\"], # string\n",
    "        \"cat_name\": s[\"cat_name\"], # string\n",
    "        \"cat_id_styles\": s[\"cat_id_styles\"], # string\n",
    "        \"style_name\": s[\"style_name\"], # string\n",
    "        \"id_geo\": s[\"id_geo\"], # string\n",
    "        \"geoloc\": {\"lat\": s[\"latitude\"], \"lng\": s[\"longitude\"]}, # position\n",
    "        \"accuracy\": s[\"accuracy\"], # string\n",
    "    }\n",
    "    return {\"id\": id_, \"fields\": fields}\n",
    "\n",
    "def craft_vespa_fields_for_cli(s: pd.Series) -> dict:\n",
    "    id_ = f\"id:beer_content:beer::{s['id']}\"\n",
    "    fields = {\n",
    "        \"id\": str(s[\"id\"]), # string\n",
    "        \"brewery_id\": s[\"brewery_id\"], # string\n",
    "        \"name\": s[\"name\"], # string\n",
    "        \"cat_id\": s[\"cat_id\"], # string\n",
    "        \"style_id\": s[\"style_id\"], # string\n",
    "        \"abv\": s[\"abv\"], # float\n",
    "        \"ibu\": s[\"ibu\"], # float\n",
    "        \"srm\": s[\"srm\"], # float\n",
    "        \"upc\": s[\"upc\"], # int\n",
    "        \"description_beer\": s[\"description_beer\"], # string\n",
    "        \"brewery\": s[\"brewery\"], # string\n",
    "        \"address1\": s[\"address1\"], # string\n",
    "        \"city\": s[\"city\"], # string\n",
    "        \"state\": s[\"state\"], # string\n",
    "        \"code\": s[\"code\"], # string\n",
    "        \"country\": s[\"country\"], # string\n",
    "        \"phone\": s[\"phone\"], # string\n",
    "        \"website\": s[\"website\"], # string\n",
    "        \"description_brewery\": s[\"description_brewery\"], # string\n",
    "        \"cat_name\": s[\"cat_name\"], # string\n",
    "        \"cat_id_styles\": s[\"cat_id_styles\"], # string\n",
    "        \"style_name\": s[\"style_name\"], # string\n",
    "        \"id_geo\": s[\"id_geo\"], # string\n",
    "        \"geoloc\": {\"lat\": s[\"latitude\"], \"lng\": s[\"longitude\"]}, # position\n",
    "        \"accuracy\": s[\"accuracy\"], # string\n",
    "    }\n",
    "    return {\"id\": id_, \"fields\": fields}\n",
    "    \n",
    "    "
   ]
  },
  {
   "cell_type": "code",
   "execution_count": 83,
   "id": "b75096d5",
   "metadata": {},
   "outputs": [
    {
     "name": "stdout",
     "output_type": "stream",
     "text": [
      "Now do:\n",
      "- cp beers_vespa.json /datasets\n",
      "- docker exec -it vespa bash\n",
      "- cd /datasets\n",
      "- vespa feed --verbose beers_vespa.json\n",
      "You should have every data into Vespa\n"
     ]
    }
   ],
   "source": [
    "# produce a whole JSONL gathering every beers ready for Vespa CLI\n",
    "df.apply(craft_vespa_fields_for_cli, axis=1).to_json(\"./beers_vespa.json\", orient=\"records\", lines=True)\n",
    "print(\"\"\"Now do:\n",
    "- cp beers_vespa.json /datasets\n",
    "- docker exec -it vespa bash\n",
    "- cd /datasets\n",
    "- vespa feed --verbose beers_vespa.json\n",
    "You should have every data into Vespa\"\"\")"
   ]
  },
  {
   "cell_type": "code",
   "execution_count": 8,
   "id": "5de04884-2577-43ff-88b6-93dfd57e17a2",
   "metadata": {},
   "outputs": [],
   "source": [
    "# PyVespa based push: not working well\n",
    "point = df.apply(craft_vespa_fields, axis=1).iloc[0]\n",
    "client.feed_iterable(df.apply(craft_vespa_fields, axis=1).to_list(), schema=\"beer\")"
   ]
  },
  {
   "cell_type": "markdown",
   "id": "0397e9e8-dd82-41c3-a372-1284952284fb",
   "metadata": {},
   "source": [
    "## Final check"
   ]
  },
  {
   "cell_type": "code",
   "execution_count": 10,
   "id": "769d31ea-9f6c-4343-86cd-c099e909029b",
   "metadata": {},
   "outputs": [
    {
     "data": {
      "text/plain": [
       "{'sddocname': 'beer',\n",
       " 'documentid': 'id:beer:beer::beer:4134',\n",
       " 'name': 'Kalamazoo Stout',\n",
       " 'description_beer': 'A full-bodied stout with plenty of roast flavor. Kalamazoo Stout is available year round, leading our vast portfolio of stouts.',\n",
       " 'brewery': \"Bell's Brewery Inc.\",\n",
       " 'country': 'United States',\n",
       " 'cat_name': 'British Ale',\n",
       " 'style_name': 'Sweet Stout',\n",
       " 'summaryfeatures': {'bm25(brewery)': 0.0,\n",
       "  'bm25(description_beer)': 3.73974816301847,\n",
       "  'length_of_descr': 1.0,\n",
       "  'vespa.summaryFeatures.cached': 0.0}}"
      ]
     },
     "execution_count": 10,
     "metadata": {},
     "output_type": "execute_result"
    }
   ],
   "source": [
    "resp = client.query(\n",
    "    {\n",
    "        \"yql\": \"select * from beer where userQuery()\",\n",
    "        \"hits\": 10,\n",
    "        \"query\": \"stout\",\n",
    "    }\n",
    ")\n",
    "resp.json[\"root\"][\"children\"][0][\"fields\"]"
   ]
  },
  {
   "cell_type": "code",
   "execution_count": null,
   "id": "c8c7edc1-9ed7-4595-8c2a-106563b0e819",
   "metadata": {},
   "outputs": [],
   "source": []
  }
 ],
 "metadata": {
  "kernelspec": {
   "display_name": "Python 3 (ipykernel)",
   "language": "python",
   "name": "python3"
  },
  "language_info": {
   "codemirror_mode": {
    "name": "ipython",
    "version": 3
   },
   "file_extension": ".py",
   "mimetype": "text/x-python",
   "name": "python",
   "nbconvert_exporter": "python",
   "pygments_lexer": "ipython3",
   "version": "3.11.0rc1"
  }
 },
 "nbformat": 4,
 "nbformat_minor": 5
}
