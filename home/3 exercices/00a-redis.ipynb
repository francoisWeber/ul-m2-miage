{
 "cells": [
  {
   "cell_type": "markdown",
   "id": "e4b338aa-874a-49ca-b2a0-991a8385b1e1",
   "metadata": {},
   "source": [
    "# Intro au caching - Redis"
   ]
  },
  {
   "cell_type": "markdown",
   "id": "755b588b-2004-4581-bfef-aae4b9dbc569",
   "metadata": {},
   "source": [
    "Les caches sont des instances qui permettent de retenir ponctuellement des paires clef/valeur lorsque l'obtention des valeurs est couteuse/longue. Voyons les caches comme des dictionnaires / hashmap qui permettent une récupération très rapides de ces valeur indexées par une clef. Le stockage du dictionnaire se fait souvent en RAM pour accélérer l'insertion et la récupération.\n",
    "\n",
    "## Principe de fonctionnement\n",
    "\n",
    "Un cache est un intermédiaire entre 2 services : un `client` et un `serveur`. Plutôt que d'interroger directement le `serveur` pour obtenir une réponse à propos d'un objet (quelconque) `A`, le `client` va interroger le cache pour savoir s'il connait une clef qui correspond à `A` : `KEY:A`. Alors :\n",
    "- si le cache ne connaît pas la clef `KEY:A`, alors\n",
    "  - le `serveur` est tout de même interroger et renvoie la réponse `RESP(A)`\n",
    "  - le cache intercepte `RESP(A)` et crée une entrée `KEY:A -> RESP(A)` dans son dictionnaire\n",
    "  - le cache renvoie `RESP(A)` au client\n",
    "- si le cache connaît `KEY:A`, alors il renvoie `RESP(A)` au `client` sans interroger le serveur\n",
    "\n",
    "2 cas de figure peuvent justifier le recours à un cache : économiser de l'argent ou du temps.\n",
    "\n",
    "### Caching pour économiser de l'argent\n",
    "Supposons qu'un service distant doive être appelé par une notre archi logicielle. Supposons que \n",
    "- ce service ait un coût ; soit car il nécessite de payer un service tiers à l'appel (exemple: ChatGPT), soit parce que le volume d'appel engendré implique un agrandissement des ressources pour ce service\n",
    "- sa réponse varie peu dans le temps (ie pas un flux vidéo, pas une donnée météo, etc...). Exemple de service distant : un service IA d'embedding de texte en vu d'une recherche vectorielle.\n",
    "\n",
    "Notre architecture peut être amenée à évoluer, des techno peuvent changer, des data re-traitées ... Sans pour autant que les données changent fondamentalement. Dans ce cas, il est préférable d'éviter de payer des appels inutiles au service coûteux s'il faut regénérer ses outputs. Le cache intervient ici en stockant les retours des appels au service tiers une fois pour toute. Le coût d'appel est donc remplacé par un coût de stockage.\n",
    "\n",
    "### Caching pour économiser du temps\n",
    "Supposons qu'une donnée soit stockée en DB, tel le résultat d'une jointure. Supposons que plusieurs services de notre architecture nécessitent ponctuellement la connaissance de cette information. Exemple : connaître les 10 dernières commandes d'un acheteur sur un site e-commerce => les services ayant simultanément besoin de cette info : le front pour affichage, un service ML pour calcul de la probabilité d'achat du client, un service comptable de vérification que toutes les factures sont honorées ... le tout en l'espace de 5 secondes.\n",
    "\n",
    "Chaque appel à la DB a un coût ; diviser la charge de la DB par 2 pourrait permettre de diviser les CPU et la RAM loués par ~2 (estimation grosse maille). Ainsi, la stratégie suivante :\n",
    "- n'appeler la DB qu'une seule fois lorsque le premier service demande l'info\n",
    "- stocker sa réponse dans un cache\n",
    "- économiser les appels DB suivants en distribuant simplement à la réponse cachée aux autres services lorsqu'ils demandent l'info\n",
    "=> Permet de diviser sensiblement la charge sur la DB.\n",
    "\n",
    "## Time to live\n",
    "\n",
    "Un cache peut programmer l'expiration des clefs enregistrées au bout de `x` secondes. Ce délai s'appelle *time to live* ou TTL. Le TTL permet d'établir un compromis entre 2 types de coûts\n",
    "- coût de stockage RAM du cache qui augmente sans fin\n",
    "- coût de rappel ponctuel du service caché\n",
    "\n",
    "Lorsqu'une clef expire, le cache la supprime. Le prochain appel sur cette clef provoquera une interrogation du serveur et permettra de rafraîchir la clef dans le cache.\n",
    "\n",
    "Le TTL permet également de faire expirer une information lorsqu'on sait qu'elle peut périmer après un certain temps. Exemple : dans un moteur de recherche web (Qwant, Google), les recherches \"facebook\", \"youtube\", \"gmail\" sont faites des milliers de fois par seconde. Or il inutile de déclencher la cascade de calcul qui permet d'y répondre à chaque fois - les résultats attendus risquent de ne changer qu'en quelques heures. Ainsi, programmer un TTL de 3600 secondes permet :\n",
    "- d'économiser 3600*1000=3.6M requêtes au moteur\n",
    "- de maintenir les résultats à jour à intervalle régulier\n",
    "\n",
    "\n",
    "## Redis\n",
    "Redis, pour *RE*mote *DI*ctionary *S*erver, est un cache très répandu que nous allons aborder ici."
   ]
  },
  {
   "cell_type": "code",
   "execution_count": 1,
   "id": "84724b22-00f2-4eee-9be8-15cba8d34eeb",
   "metadata": {},
   "outputs": [
    {
     "name": "stdout",
     "output_type": "stream",
     "text": [
      "Defaulting to user installation because normal site-packages is not writeable\n",
      "Collecting redis\n",
      "  Downloading redis-5.2.0-py3-none-any.whl (261 kB)\n",
      "\u001b[2K     \u001b[90m━━━━━━━━━━━━━━━━━━━━━━━━━━━━━━━━━━━━━━━\u001b[0m \u001b[32m261.4/261.4 KB\u001b[0m \u001b[31m5.1 MB/s\u001b[0m eta \u001b[36m0:00:00\u001b[0ma \u001b[36m0:00:01\u001b[0m\n",
      "\u001b[?25hInstalling collected packages: redis\n",
      "Successfully installed redis-5.2.0\n"
     ]
    }
   ],
   "source": [
    "import redis\n",
    "import requests\n",
    "import time\n",
    "\n",
    "# Redis connection details\n",
    "REDIS_HOST = \"redis\"  # Use \"localhost\" if running Redis locally outside of Docker\n",
    "REDIS_PORT = 6379\n",
    "CACHE_EXPIRATION = 300"
   ]
  },
  {
   "cell_type": "code",
   "execution_count": null,
   "id": "76fbd0f4-01b1-4be8-a152-fb35cd5c4830",
   "metadata": {},
   "outputs": [],
   "source": []
  }
 ],
 "metadata": {
  "kernelspec": {
   "display_name": "Python 3 (ipykernel)",
   "language": "python",
   "name": "python3"
  },
  "language_info": {
   "codemirror_mode": {
    "name": "ipython",
    "version": 3
   },
   "file_extension": ".py",
   "mimetype": "text/x-python",
   "name": "python",
   "nbconvert_exporter": "python",
   "pygments_lexer": "ipython3",
   "version": "3.11.0rc1"
  }
 },
 "nbformat": 4,
 "nbformat_minor": 5
}
