{
 "cells": [
  {
   "cell_type": "code",
   "execution_count": 3,
   "id": "cce92556-7f25-41fb-88f3-b434796f0a06",
   "metadata": {},
   "outputs": [
    {
     "name": "stdout",
     "output_type": "stream",
     "text": [
      "  adding: vespa-app/ (stored 0%)\n",
      "  adding: vespa-app/schemas/ (stored 0%)\n",
      "  adding: vespa-app/schemas/a.sd (deflated 70%)\n",
      "  adding: vespa-app/services.xml (deflated 61%)\n"
     ]
    }
   ],
   "source": [
    "!zip -r my-vespa-app.zip vespa-app/"
   ]
  },
  {
   "cell_type": "code",
   "execution_count": 11,
   "id": "63f7ca82-7546-4ad2-80bc-8216e8e0c4a8",
   "metadata": {},
   "outputs": [
    {
     "name": "stdout",
     "output_type": "stream",
     "text": [
      "{\"log\":[],\"tenant\":\"default\",\"session-id\":\"23\",\"prepared\":\"http://vespa:19071/application/v2/tenant/default/session/23/prepared\",\"content\":\"http://vespa:19071/application/v2/tenant/default/session/23/content/\",\"message\":\"Session 23 for tenant 'default' created.\"}"
     ]
    }
   ],
   "source": [
    "!curl -s --data-binary @my-application.zip -H \"Content-Type: application/zip\" -X POST http://vespa:19071/application/v2/tenant/default/session"
   ]
  },
  {
   "cell_type": "code",
   "execution_count": 16,
   "id": "344a1a57-e2c0-41a6-b5df-88dc00801225",
   "metadata": {},
   "outputs": [
    {
     "name": "stdout",
     "output_type": "stream",
     "text": [
      "{\"error-code\":\"BAD_REQUEST\",\"message\":\"Error preprocessing application package for default.default, session 24: services.xml does not exist in application package. There are 1 files in the directory\"}"
     ]
    }
   ],
   "source": [
    "!curl -s --data-binary @my-application.zip -H \"Content-Type: application/zip\" -X POST http://vespa:19071/application/v2/tenant/default/prepareandactivate"
   ]
  },
  {
   "cell_type": "code",
   "execution_count": 17,
   "id": "7536cf89-5f35-40d3-a7fe-8431d738b246",
   "metadata": {},
   "outputs": [
    {
     "name": "stdout",
     "output_type": "stream",
     "text": [
      "total 8.0K\n",
      "drwxrwxr-x 2 adam adam 4.0K Jan 23 14:12 schemas/\n",
      "-rwxrwxr-x 1 adam adam  732 Jan 23 14:14 services.xml*\n"
     ]
    }
   ],
   "source": [
    "!ls -lhF vespa-app/"
   ]
  },
  {
   "cell_type": "code",
   "execution_count": null,
   "id": "5d7fc4da-53d2-4e96-aa71-f39d7a9e3b03",
   "metadata": {},
   "outputs": [],
   "source": []
  }
 ],
 "metadata": {
  "kernelspec": {
   "display_name": "Python 3 (ipykernel)",
   "language": "python",
   "name": "python3"
  },
  "language_info": {
   "codemirror_mode": {
    "name": "ipython",
    "version": 3
   },
   "file_extension": ".py",
   "mimetype": "text/x-python",
   "name": "python",
   "nbconvert_exporter": "python",
   "pygments_lexer": "ipython3",
   "version": "3.11.0rc1"
  }
 },
 "nbformat": 4,
 "nbformat_minor": 5
}
