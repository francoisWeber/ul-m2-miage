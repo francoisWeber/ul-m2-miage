{
 "cells": [
  {
   "cell_type": "markdown",
   "id": "3e218368-0e0a-4cdf-accb-698b731c39de",
   "metadata": {},
   "source": [
    "# Intro aux index\n",
    "\n",
    "## SQL DB vs Index\n",
    "Les index sont des cousins des bases de données (DB - databse) dans le sens où ils stockent de la données et permettent d'y accéder via des requêtes. Commençons par voir les index comme des DB munis d'une seule table qui contient des **documents** qu'un utilisateur voudra requêter. Les index ne sont pas capables de jointure et les opérations classiques du SQL y sont difficiles (`GROUP BY`) voire simplement impossibles (`JOIN`, `ROW NUMBER`). Appelons *corpus* l'ensemble de documents indéxés.\n",
    "\n",
    "NB: dans une moindre mesure, les *index* sont régulièrement utilisés dans les coulisses des DB SQL sur les clefs fréquemment manipulés. On y reviendra.\n",
    "\n",
    "### Alors à quoi sert un index ?\n",
    "\n",
    "Un **index** est un puissant outil *pour retrouver des documents à partir de **query** sur leurs attributs, une partie de leurs attributs, ou d'une information partielle sur leurs attributs*. De plus, ces outils sont souvent équipés d'un système de **scores d'adéquation** qui *ordonnent* les documents par ordre de pertinence face à la query.\n",
    "\n",
    "Il existe une infinité de façon de définir un score d'adéquation. En effet, il ne s'agit \"que\" d'un calcul opéré sur le coupe `(query, document)` et qui propose une mesure de l'adéquation query/document. Nous parlerons simplement de *score* par la suite\n",
    "\n",
    "# Index lexical\n",
    "\n",
    "Un index est capable de retrouver extrêmement vite des attributs d'un documents à partir d'une requête. Les index sont équipés de structures de données complexes permettant d'insérer des documents et d'y effectuer des recherches en complexité $O(\\log n)$ (où $n$ est le nombre de documents). Contrairement à une `hashMap`, il ne s'agit pas de simplement `get` un document via son identifiant (auquel cas il s'agit d'une compléxité de $O(1)$) mais de trouver *tous les documents qui correspondent à une recherche*. "
   ]
  },
  {
   "cell_type": "markdown",
   "id": "c38d59a1-9763-452c-ab31-8b517235c05e",
   "metadata": {},
   "source": [
    "## Exercice préliminaire\n",
    "But: mimer les index et leur capacité de retrouver tous les documents qui parlent d'un mot. \n",
    "\n",
    "Proposer :\n",
    "- une structure de donnée optimisée pour représenter les documents (on considèrera uniquement les `name`, `description_beer`, `description_brewery`)\n",
    "- une fonction qui utilise cette structure pour trouver le plus rapidement possible tous les documents qui possède le mot \"scottish\"\n",
    "\n",
    "Le dataset `/datasets/beers_full.csv` contient un condensé des infos de chaque bière. Le dictionnaire `beer_id2desct` associe à chaque `beer_id` sa description"
   ]
  },
  {
   "cell_type": "code",
   "execution_count": 82,
   "id": "bafe28f9-d953-4e5b-9365-6c096bd45ec7",
   "metadata": {},
   "outputs": [
    {
     "data": {
      "text/plain": [
       "'Maracaibo Especial A rich brown ale inspired by the enigmatic monastic brews of Belgium, and the mysterious mist shrouded jungles of the tropics. Brewed with real cacao, and spiced with cinnamon and sweet orange peel for a sensual delight. A brew to be sipped, savored, and enjoyed! Welcome to a land of open fermentation, oak barrel aging, and bottle conditioning. At Jolly Pumpkin Artisan Ales we are dedicated to more than the traditions of old world craftsmanship. Everything we do is designed to create ales of outstanding art and flavor. Focusing on traditional rustic country style beers brought to life through labor and love, we strive to create beers to lighten the spirit, and soothe the soul. Sharing our joy to the betterment of mankind is the most that we could hope for.'"
      ]
     },
     "execution_count": 82,
     "metadata": {},
     "output_type": "execute_result"
    }
   ],
   "source": [
    "import pandas as pd\n",
    "df = pd.read_csv(\"/datasets/beers_full.csv\")\n",
    "beer_id2desct = df.fillna(\"\").apply(lambda row: \" \".join([str(row[\"name\"]), row[\"description_beer\"], row[\"description_brewery\"]]), axis=1).to_dict()\n",
    "\n",
    "beer_id2desct[42]"
   ]
  },
  {
   "cell_type": "markdown",
   "id": "7bd4a56f-14bc-451d-8101-615cc06eacf7",
   "metadata": {},
   "source": [
    "Chacun testera la vitesse de son code avec le bloc suivant:\n",
    "```python\n",
    "%%timeit\n",
    "for word in [\"ale\", \"scottish\", \"Bouffay\"]:\n",
    "    beer_ids = fetch_doc_ids_having_word(word)\n",
    "```\n",
    "La \"magic function\" `%%timeit` mesure le temps moyen d'éxecution de la cellule ne l'appelant ~1k-1M fois.\n",
    "\n",
    "Perf à battre pour cet exo 😎:"
   ]
  },
  {
   "cell_type": "code",
   "execution_count": 63,
   "id": "810300bc-5fa9-40f3-9a1e-05f87a8a5541",
   "metadata": {},
   "outputs": [
    {
     "name": "stdout",
     "output_type": "stream",
     "text": [
      "506 ns ± 2.27 ns per loop (mean ± std. dev. of 7 runs, 1,000,000 loops each)\n"
     ]
    }
   ],
   "source": [
    "%%timeit\n",
    "for word in [\"ale\", \"scottish\", \"Bouffay\"]:\n",
    "    beer_ids = fetch_doc_ids_having_word(word)"
   ]
  },
  {
   "cell_type": "markdown",
   "id": "3c96e808-1098-47e5-abe2-12b36059f402",
   "metadata": {},
   "source": [
    "## Structure de donné de l'index lexical inversé\n",
    "\n",
    "Un index maintient une [\"posting list\" ou \"index inversé\"](https://www.wikiwand.com/en/articles/Inverted_index) en mémoire : à la façon d'un glossaire dans un livre, l'index maintient en mémoire un vocabulaire (les mots contenus dans tout le corpus) ainsi que, pour chaque mot, **la liste de tous les documents qui l'évoquent ainsi que les positions du mot dans les documents**. Trouver les documents qui contiennent une série de mot devient rapide : $O(\\log n)$.\n",
    "\n",
    "Exemple :\n",
    "Soit le (mini) corpus suivant\n",
    "- \"portez ce vieux whiskey au juge blond qui fume\"\n",
    "- \"On fume ce type de malts pour obtenir ce whiskey tourbé\"\n",
    "\n",
    "Calculons la `posting_list`"
   ]
  },
  {
   "cell_type": "code",
   "execution_count": 78,
   "id": "4c297ec7-5097-417c-a2f5-e7acf38f6083",
   "metadata": {},
   "outputs": [],
   "source": [
    "beer_id2desct = {\n",
    "    1: \"portez ce vieux whiskey au juge blond qui fume\",\n",
    "    2: \"On fume ce malt pour obtenir ce whiskey tourbé\",\n",
    "    3: \"La fermentation haute donne des bières plus fruitées.\", \n",
    "    4: \"Ce houblon ajoute une amertume distincte à la bière.\", \n",
    "    5: \"Le malt apporte la rondeur à la bière mais un malt torréfié apporte des arômes de café à la bière.\", \n",
    "    6: \"La bière de fermentation basse est plus légère et rafraîchissante.\", \n",
    "    7: \"La température de fermentation influence le goût final de la bière.\", \n",
    "}"
   ]
  },
  {
   "cell_type": "code",
   "execution_count": 83,
   "id": "512bf6fe-81cf-4437-90a7-448845d80f58",
   "metadata": {},
   "outputs": [],
   "source": [
    "# get vocabulary\n",
    "vocab = sorted(set([word for doc in beer_id2desct.values() for word in doc.lower().split()]))"
   ]
  },
  {
   "cell_type": "code",
   "execution_count": null,
   "id": "b21b5fc7-7c02-4109-83a5-b526ae89d530",
   "metadata": {},
   "outputs": [],
   "source": [
    "# compute posting list in a naïve whay\n",
    "posting_list = {\n",
    "    word: {\n",
    "        doc_id: [i for i, w in enumerate(str(doc_str).lower().split()) if w == word]\n",
    "        for doc_id, doc_str in beer_id2desct.items()\n",
    "        if \" \" + word + \" \" in str(doc_str).lower()\n",
    "    }\n",
    "    for word in vocab\n",
    "}\n",
    "\n",
    "def fetch_doc_ids_having_word(word):\n",
    "    return posting_list[word.lower()]"
   ]
  },
  {
   "cell_type": "code",
   "execution_count": null,
   "id": "82654f95-4f30-4212-965a-5825cb13f614",
   "metadata": {},
   "outputs": [],
   "source": [
    "posting_list"
   ]
  },
  {
   "cell_type": "code",
   "execution_count": 88,
   "id": "99365001-d612-4979-a232-66655884bf6e",
   "metadata": {},
   "outputs": [
    {
     "data": {
      "text/plain": [
       "{110: [3],\n",
       " 217: [31, 51],\n",
       " 292: [2],\n",
       " 676: [1],\n",
       " 990: [1],\n",
       " 1047: [3],\n",
       " 1977: [3],\n",
       " 2002: [2],\n",
       " 2045: [2],\n",
       " 2048: [1],\n",
       " 2064: [2],\n",
       " 2070: [2],\n",
       " 2269: [0, 11, 34],\n",
       " 2396: [23],\n",
       " 2513: [2],\n",
       " 2518: [1],\n",
       " 2585: [12],\n",
       " 2818: [2],\n",
       " 3051: [4],\n",
       " 3362: [1],\n",
       " 3836: [2],\n",
       " 4119: [11, 65],\n",
       " 4146: [47],\n",
       " 4266: [18],\n",
       " 4286: [123],\n",
       " 4496: [1, 21, 78],\n",
       " 4664: [6, 20],\n",
       " 4673: [14, 29],\n",
       " 4774: [3],\n",
       " 4791: [6],\n",
       " 4831: [59],\n",
       " 5005: [28],\n",
       " 5035: [1],\n",
       " 5325: [58],\n",
       " 5614: [35],\n",
       " 5748: [32],\n",
       " 5755: [19],\n",
       " 5758: [73],\n",
       " 5843: [27]}"
      ]
     },
     "execution_count": 88,
     "metadata": {},
     "output_type": "execute_result"
    }
   ],
   "source": [
    "posting_list[\"scottish\"]"
   ]
  },
  {
   "attachments": {},
   "cell_type": "markdown",
   "id": "7ffb5cb3-f799-4db1-952d-c605ba6da92d",
   "metadata": {},
   "source": [
    "## BM25 : score de priorité pour un index lexical\n",
    "Le score de référence dans le domaine de la recherche lexicale est le [BM25](https://www.wikiwand.com/fr/articles/Okapi_BM25) (pas nécessaire de comprendre les formules). En première approximation, supposons que ce score attribué à chaque document calcule, pour chaque mot de la query, la fréquence d'apparition du mot dans le document pondéré par des notions de rareté du mot dans le corpus (une `posting_list` permet d'obtenir cette information très facilement).\n",
    "\n"
   ]
  },
  {
   "cell_type": "code",
   "execution_count": 91,
   "id": "a06b010e-914b-4749-80f3-03854553c41f",
   "metadata": {},
   "outputs": [
    {
     "data": {
      "text/plain": [
       "Results(documents=array([['Saranac Single Malt We use 100% Scottish Maris Otter Malt. Traditionally used in the distilling industry. The combination of the Scottish Malt and slow aging process produces a unique brew as distinctive as single malt whiskey with a flavor than any other beer. ',\n",
       "        '5 Malt Ale  ',\n",
       "        'Noblesse pure malt blond ale with a touch of wheat malt.\\ngreat hop-aroma  due to hop-filtering the hot wort.\\nbottle-conditioned. ']],\n",
       "      dtype='<U262'), scores=array([[1.5552694, 1.4462007, 1.423193 ]], dtype=float32))"
      ]
     },
     "execution_count": 91,
     "metadata": {},
     "output_type": "execute_result"
    }
   ],
   "source": [
    "from bm25s import BM25, tokenize\n",
    "\n",
    "# Tokenize the corpus and index it\n",
    "corpus_tokens = tokenize(list(beer_id2desct.values()))\n",
    "retriever = BM25(corpus=list(beer_id2desct.values()))\n",
    "retriever.index(corpus_tokens)\n",
    "\n",
    "retriever.retrieve(tokenize(\"malt\"), k=3)"
   ]
  },
  {
   "cell_type": "markdown",
   "id": "903f648b-00c8-44c9-a5bb-e3fecef8ddd6",
   "metadata": {},
   "source": [
    "## Index Vespa\n",
    "[Vespa](https://vespa.ai/) est un index moderne, puissant, hautement distribué, concurrent du très connu [ElasticSearch](https://www.elastic.co/fr/). Ces 2 index permettent d'être utilisés en mode lexical pour de la recherche d'information dans un corpus.\n",
    "\n",
    "Nous utiliserons Vespa pendant ce TP : ne pas hésiter à [aller voir la doc](https://docs.vespa.ai/en/overview.html) (attention, ne pas se laisser impressionner par toute la technique) ou poser des questions à leur [chat-bot](https://search.vespa.ai/) (même remarque).\n",
    "\n",
    "Une instance Vespa tourne sur le serveur à l'adresse http://vespa:8080 . Pour y accéder facilement nous utiliserons le package Python PyVespa (voir [le doc](https://pyvespa.readthedocs.io/en/latest/index.html)) proposé par l'équipe Vespa :"
   ]
  },
  {
   "cell_type": "code",
   "execution_count": 11,
   "id": "9be68aff-7695-4ea2-827b-7b01c205de1a",
   "metadata": {},
   "outputs": [
    {
     "name": "stdout",
     "output_type": "stream",
     "text": [
      "Application is up!\n"
     ]
    }
   ],
   "source": [
    "from vespa.application import Vespa, VespaSync\n",
    "import json\n",
    "\n",
    "vespa = Vespa(url=\"http://vespa\", port=8080)\n",
    "vespa.wait_for_application_up(30)"
   ]
  },
  {
   "cell_type": "code",
   "execution_count": 89,
   "id": "13c689de-807d-4531-825b-0cf7f7d762b6",
   "metadata": {},
   "outputs": [
    {
     "name": "stdout",
     "output_type": "stream",
     "text": [
      "Réponse de Vespa:\n",
      "\n",
      "{\n",
      "  \"id\": \"toplevel\",\n",
      "  \"relevance\": 1.0,\n",
      "  \"fields\": {\n",
      "    \"totalCount\": 557\n",
      "  },\n",
      "  \"coverage\": {\n",
      "    \"coverage\": 100,\n",
      "    \"documents\": 5699,\n",
      "    \"full\": true,\n",
      "    \"nodes\": 1,\n",
      "    \"results\": 1,\n",
      "    \"resultsFull\": 1\n",
      "  },\n",
      "  \"children\": [\n",
      "    {\n",
      "      \"id\": \"index:beer_content/0/a6a767bbba7d4e24424f25fa\",\n",
      "      \"relevance\": 3.8957892428405834,\n",
      "      \"source\": \"beer_content\",\n",
      "      \"fields\": {\n",
      "        \"sddocname\": \"beer\",\n",
      "        \"name\": \"Kalamazoo Stout\",\n",
      "        \"id\": \"4134\",\n",
      "        \"brewery\": \"Bell's Brewery Inc.\",\n",
      "        \"description_beer\": \"A full-bodied stout with plenty of roast flavor. Kalamazoo Stout is available year round, leading our vast portfolio of stouts.\"\n",
      "      }\n",
      "    },\n",
      "    {\n",
      "      \"id\": \"index:beer_content/0/21ce68912bc0dda9d1677ec8\",\n",
      "      \"relevance\": 3.7687755444265045,\n",
      "      \"source\": \"beer_content\",\n",
      "      \"fields\": {\n",
      "        \"sddocname\": \"beer\",\n",
      "        \"name\": \"Oatmeal Stout\",\n",
      "        \"id\": \"3751\",\n",
      "        \"brewery\": \"Troegs Brewing\",\n",
      "        \"description_beer\": \"Tr\\u00c3\\u00b6egs Oatmeal Stout is our interpretation of the classic dry stout style. Dark and creamy with hints of chocolate and black currants, our Oatmeal Stout includes a healthy dose of Centennial and Chinook hops creating a unique stout perfect for the late Fall and Winter.\"\n",
      "      }\n",
      "    }\n",
      "  ]\n",
      "}\n"
     ]
    }
   ],
   "source": [
    "# requête simple\n",
    "resp = vespa.query(\n",
    "    {\n",
    "        \"yql\": \"select * from beer where userQuery()\", # <-- on dirait du SQL !\n",
    "        \"hits\": 2, # <-- nombre de résultats voulus\n",
    "        \"query\": \"stout\", # <-- query textuelle, nous verrons son usage après\n",
    "        \"presentation.summary\": \"textual\"\n",
    "    }\n",
    ")\n",
    "print(\"Réponse de Vespa:\\n\")\n",
    "print(json.dumps(resp.json[\"root\"], indent=2))"
   ]
  },
  {
   "cell_type": "markdown",
   "id": "4968d0f7-49cd-4174-868f-0c70f830e92f",
   "metadata": {},
   "source": [
    "Un index (Vespa ou ES) a besoin de connaître le schéma de data à indexer. Il s'agit de :\n",
    "- l'ensemble des attributs d'un document à indexer : nom, type (string, float, ...)\n",
    "- si nécessaire, la façon dont un champ doit être utilisés par Vespa lors de l'indexation : simple attribut, indexé par `posting list`, exploitable via BM25, affichable dans les réponses aux queries, etc ...\n",
    "\n",
    "Elastic nomme cela [mapping](https://www.elastic.co/guide/en/elasticsearch/reference/current/mapping.html), Vespa nomme cela la [schema](https://docs.vespa.ai/en/schemas.html). Exemple avec nos données montées sur Vespa\n",
    "```\n",
    "schema beer {\n",
    "    document beer {\n",
    "        field id type string {\n",
    "        }\n",
    "        field name type string {\n",
    "            indexing: index | summary\n",
    "        }\n",
    "        field description_beer type string {\n",
    "            indexing: index | summary | attribute\n",
    "            index: enable-bm25\n",
    "        }\n",
    "        field brewery type string {\n",
    "            indexing: index | summary\n",
    "            index: enable-bm25\n",
    "        }\n",
    "        field address1 type string {\n",
    "            indexing: index | summary | attribute\n",
    "        }\n",
    "        field description_brewery type string {\n",
    "            indexing: index\n",
    "            index: enable-bm25\n",
    "        }\n",
    "    [...]\n",
    "    }\n",
    "\n",
    "  [...]\n",
    "\n",
    "}\n",
    "```"
   ]
  },
  {
   "cell_type": "markdown",
   "id": "d5289ff0-2268-45ce-9518-3eea01dfb25b",
   "metadata": {},
   "source": [
    "Vespa est très orienté recherche d'information et permet également de définir des façons de très précise le **score d'adéquation** à utiliser pour classer (ranker) les documents. Il s'agit d'une autre partie du schéma :\n",
    "```\n",
    "  [...]\n",
    "\n",
    "    rank-profile basic_bm25 {\n",
    "        first-phase {\n",
    "            expression {\n",
    "                bm25(name) + bm25(description_beer)\n",
    "            }\n",
    "        }\n",
    "    }\n",
    "\n",
    "  [...]\n",
    "```"
   ]
  },
  {
   "cell_type": "markdown",
   "id": "311e21ce-be01-440a-9140-c548d85655b9",
   "metadata": {},
   "source": [
    "# Uses cases"
   ]
  },
  {
   "cell_type": "markdown",
   "id": "f196d8ff-9502-419a-a3e7-8ac3411003f5",
   "metadata": {},
   "source": [
    "## UC-1 : description data\n",
    "\n",
    "Attention, plus compliqué qu'en SQL. Voir les docs spécifiques\n",
    "- [doc spécifique Vespa sur le grouping](https://docs.vespa.ai/en/grouping.html)\n",
    "- [doc sur le SQL façon Vespa - YQL](https://docs.vespa.ai/en/vespa-cli#cheat-sheet)\n",
    "\n",
    "**Ne pas chercher à aller jusqu'au bout !!** Nous remarquerons assez vite que c'est galère avec Vespa\n",
    "\n",
    "- Q1: Combien y a-t-il de bières dans la DB ?\n",
    "- Q2: Top10 brasseries les plus représentées avec le nombre de bière par brasserie ?\n",
    "- Q3: Top10 des bières les plus fortes (ABV) en France ?\n",
    "- Q4: Par pays, nombre de brasseries qui proposent des bières de type `Porter` et ABV moyen de celles-ci ?\n",
    "- Q5: Mediane du nombre de bière par pays ?"
   ]
  },
  {
   "cell_type": "code",
   "execution_count": 113,
   "id": "7ceab508-cacb-457d-99b7-85b25bf17c3a",
   "metadata": {},
   "outputs": [],
   "source": [
    "# your code"
   ]
  },
  {
   "cell_type": "markdown",
   "id": "540b83d3-ad59-49ec-b81b-7be6ab494327",
   "metadata": {},
   "source": [
    "# UC-2 : préparer un dataset de ranking \n",
    "\n",
    "Plusieurs problèmes pour résoudre ce use-case:\n",
    "- cf intro : un index ne peut pas faire de jointure \n",
    "- cf UC-1 : les grouping sont horribles à réaliser\n",
    "\n",
    "Conclusion : les index ne sont vraiment pas adaptés pour fabriquer des datasets !"
   ]
  },
  {
   "cell_type": "code",
   "execution_count": 113,
   "id": "c7544207-f8f6-4954-b8de-e59dcb4f537d",
   "metadata": {},
   "outputs": [],
   "source": [
    "# your code"
   ]
  },
  {
   "cell_type": "markdown",
   "id": "42b943ce-e976-4477-ba12-e80e8437286b",
   "metadata": {},
   "source": [
    "# UC-3 : récupérer les docs qui parlent d'un mot\n",
    "\n",
    "Peut-on utiliser Vespa pour réaliser un mini moteur de recherche ? \n",
    "\n",
    "**Rappel:** une configuration Vespa intègre la définition d'un **score d'adéquation** entre query et document ! Le `rank-profile` suivant existe sur l'instance Vespa utilisées :\n",
    "```\n",
    "  [...]\n",
    "\n",
    "    rank-profile rank-brewery-and-descr inherits root{\n",
    "        first-phase {\n",
    "            expression {\n",
    "                bm25(description_brewery) + bm25(description_beer)\n",
    "            }\n",
    "        }\n",
    "    }\n",
    "\n",
    "  [...]\n",
    "```\n",
    "\n",
    "**Question 1:** expliquer en 2 phrases comment le rank-profile `rank-brewery-and-descr` va agir.\n",
    "\n",
    "**Question 2:** pour différentes requêtes textuelles très simples à base de mot-clef, retrouver les bières qui semblent répondre à la demande :\n",
    "- trouver les bières ou les brasseries qui parlent de bières \"fine\"\n",
    "- idem pour \"juicy\"\n",
    "- idem pour \"genuine\"\n",
    "- idem pour les bières mâturées dans des \"oak cask\" (fûts en chêne) -> combien y en a-t-il ? $N_1$\n",
    "   - idem pour les bières qui évoquent uniquement \"cask\" -> combien y en a-t-il ? $N_{1,1}$\n",
    "   - idem pour celles ne parlant que de \"oak\" -> combien y en a-t-il ? $N_{1,2}$\n",
    "- idem pour les bières qui évoquent \"oak\" et \"cask\" -> combien y en a-t-il ? $N_{2}$"
   ]
  },
  {
   "cell_type": "code",
   "execution_count": 113,
   "id": "6bd62802-b094-4195-98c6-e0bb0149a764",
   "metadata": {},
   "outputs": [],
   "source": [
    "# your code"
   ]
  },
  {
   "cell_type": "markdown",
   "id": "dfc09e9d-5759-4242-b7bc-c01517cbfb20",
   "metadata": {},
   "source": [
    "# UC-4 : vectorisation des description des bières\n",
    "\n",
    "## Index et \"scrolling/visiting\"\n",
    "\n",
    "Les index ne sont \"pas faits\" pour manipuler la donnée qu'ils hébergent, néanmoins il existe plusieurs systèmes qui permettent à un code arbitraire de s'exécuter sur chaque document. Vespa nomme son système `visitor` ([doc](https://docs.vespa.ai/en/visiting.html)) et permet de \n",
    "- selectionner des documents à processer\n",
    "- dumper l'index en parallèle (et possiblement les modifier + update à la volée)\n",
    "- appliquer un code arbitraire à des documents (Nécessite le recours à Java pour expliciter l'opération :o )\n",
    "\n",
    "L'équivalent Elastic Search est le [scroll](https://www.elastic.co/guide/en/elasticsearch/guide/current/scroll.html).\n",
    "\n",
    "**Remarque:** on comprend vite qu'il n'est pas forcément simple de manipuler une donnée une fois qu'elle est indexée. Vespa étant très tourné vers le ML, il est toutefois possible de vectoriser des documents automatiquement lors de leur upsert. Voir la [doc Vespa sur la gestion en direct des embeddings](https://docs.vespa.ai/en/embedding.html#huggingface-embedder)\n",
    "\n",
    "## Vespa est capable de vectorisation à la volée\n",
    "\n",
    "Vespa (contrairement à ES) est capable de gérer nativement des embedding, de créer des vecteurs à la volée à partir des documents indéxés, de les retrouver dans des index vectoriels (explications détaillées au prochain TP) ..! Voir [ce blog post](https://blog.vespa.ai/combining-matryoshka-with-binary-quantization-using-embedder/) de Vespa sur le sujet."
   ]
  },
  {
   "cell_type": "code",
   "execution_count": null,
   "id": "c46dc150-fff3-4cfb-81e8-8bb5c8044b98",
   "metadata": {},
   "outputs": [],
   "source": []
  },
  {
   "cell_type": "markdown",
   "id": "459c04bc-29c2-4c96-a2c5-078b8098ec52",
   "metadata": {},
   "source": [
    "# UC-5 : answer question in corpa\n",
    "**Grandes lignes :** trouvons les documents qui répondent à une question. Exemple : à partir de la description vectorisée à UC-4 pour chaque bière, comment trouver les bières qui répondent à une description plus complète ? Exemple:\n",
    "- \"very bitter beer with smoky taste\"\n",
    "- \"fruity sour - balanced sourness\"\n",
    "- \"weird beer\"\n"
   ]
  },
  {
   "cell_type": "code",
   "execution_count": 10,
   "id": "d1bd0e1c-58a8-4d3e-8523-4031834a837f",
   "metadata": {},
   "outputs": [
    {
     "ename": "VespaError",
     "evalue": "[{'code': 12, 'summary': 'Timed out', 'message': 'No time left after waiting for 1005ms to execute query'}]",
     "output_type": "error",
     "traceback": [
      "\u001b[0;31m---------------------------------------------------------------------------\u001b[0m",
      "\u001b[0;31mHTTPError\u001b[0m                                 Traceback (most recent call last)",
      "File \u001b[0;32m/usr/local/lib/python3.11/dist-packages/vespa/application.py:62\u001b[0m, in \u001b[0;36mraise_for_status\u001b[0;34m(response, raise_on_not_found)\u001b[0m\n\u001b[1;32m     61\u001b[0m \u001b[38;5;28;01mtry\u001b[39;00m:\n\u001b[0;32m---> 62\u001b[0m     \u001b[43mresponse\u001b[49m\u001b[38;5;241;43m.\u001b[39;49m\u001b[43mraise_for_status\u001b[49m\u001b[43m(\u001b[49m\u001b[43m)\u001b[49m\n\u001b[1;32m     63\u001b[0m \u001b[38;5;28;01mexcept\u001b[39;00m HTTPError \u001b[38;5;28;01mas\u001b[39;00m http_error:\n",
      "File \u001b[0;32m/usr/local/lib/python3.11/dist-packages/requests/models.py:1024\u001b[0m, in \u001b[0;36mResponse.raise_for_status\u001b[0;34m(self)\u001b[0m\n\u001b[1;32m   1023\u001b[0m \u001b[38;5;28;01mif\u001b[39;00m http_error_msg:\n\u001b[0;32m-> 1024\u001b[0m     \u001b[38;5;28;01mraise\u001b[39;00m HTTPError(http_error_msg, response\u001b[38;5;241m=\u001b[39m\u001b[38;5;28mself\u001b[39m)\n",
      "\u001b[0;31mHTTPError\u001b[0m: 504 Server Error: Gateway Timeout for url: http://vespa:8080/search/",
      "\nThe above exception was the direct cause of the following exception:\n",
      "\u001b[0;31mVespaError\u001b[0m                                Traceback (most recent call last)",
      "Cell \u001b[0;32mIn[10], line 2\u001b[0m\n\u001b[1;32m      1\u001b[0m query \u001b[38;5;241m=\u001b[39m \u001b[38;5;124m\"\u001b[39m\u001b[38;5;124mhigh alcohol\u001b[39m\u001b[38;5;124m\"\u001b[39m\n\u001b[0;32m----> 2\u001b[0m resp \u001b[38;5;241m=\u001b[39m \u001b[43mvespa\u001b[49m\u001b[38;5;241;43m.\u001b[39;49m\u001b[43mquery\u001b[49m\u001b[43m(\u001b[49m\n\u001b[1;32m      3\u001b[0m \u001b[43m    \u001b[49m\u001b[43m{\u001b[49m\n\u001b[1;32m      4\u001b[0m \u001b[43m        \u001b[49m\u001b[38;5;124;43m\"\u001b[39;49m\u001b[38;5;124;43myql\u001b[39;49m\u001b[38;5;124;43m\"\u001b[39;49m\u001b[43m:\u001b[49m\u001b[43m \u001b[49m\u001b[38;5;124;43m\"\u001b[39;49m\u001b[38;5;124;43mselect * from beer where \u001b[39;49m\u001b[38;5;132;43;01m{targetHits:3}\u001b[39;49;00m\u001b[38;5;124;43mnearestNeighbor(mrl_embedding, q)\u001b[39;49m\u001b[38;5;124;43m\"\u001b[39;49m\u001b[43m,\u001b[49m\n\u001b[1;32m      5\u001b[0m \u001b[43m        \u001b[49m\u001b[38;5;124;43m\"\u001b[39;49m\u001b[38;5;124;43minput.query(q)\u001b[39;49m\u001b[38;5;124;43m\"\u001b[39;49m\u001b[43m:\u001b[49m\u001b[43m \u001b[49m\u001b[38;5;124;43m\"\u001b[39;49m\u001b[38;5;124;43membed(mxbai, @text)\u001b[39;49m\u001b[38;5;124;43m\"\u001b[39;49m\u001b[43m,\u001b[49m\n\u001b[1;32m      6\u001b[0m \u001b[43m        \u001b[49m\u001b[38;5;124;43m\"\u001b[39;49m\u001b[38;5;124;43mranking.profile\u001b[39;49m\u001b[38;5;124;43m\"\u001b[39;49m\u001b[43m:\u001b[49m\u001b[43m \u001b[49m\u001b[38;5;124;43m\"\u001b[39;49m\u001b[38;5;124;43mann\u001b[39;49m\u001b[38;5;124;43m\"\u001b[39;49m\u001b[43m,\u001b[49m\n\u001b[1;32m      7\u001b[0m \u001b[43m        \u001b[49m\u001b[38;5;124;43m\"\u001b[39;49m\u001b[38;5;124;43mtext\u001b[39;49m\u001b[38;5;124;43m\"\u001b[39;49m\u001b[43m:\u001b[49m\u001b[43m \u001b[49m\u001b[43mquery\u001b[49m\n\u001b[1;32m      8\u001b[0m \u001b[43m    \u001b[49m\u001b[43m}\u001b[49m\n\u001b[1;32m      9\u001b[0m \u001b[43m)\u001b[49m\n\u001b[1;32m     10\u001b[0m \u001b[38;5;28mprint\u001b[39m(json\u001b[38;5;241m.\u001b[39mdumps(resp\u001b[38;5;241m.\u001b[39mjson[\u001b[38;5;124m\"\u001b[39m\u001b[38;5;124mroot\u001b[39m\u001b[38;5;124m\"\u001b[39m][\u001b[38;5;124m\"\u001b[39m\u001b[38;5;124mchildren\u001b[39m\u001b[38;5;124m\"\u001b[39m], indent\u001b[38;5;241m=\u001b[39m\u001b[38;5;241m2\u001b[39m))\n",
      "File \u001b[0;32m/usr/local/lib/python3.11/dist-packages/vespa/application.py:316\u001b[0m, in \u001b[0;36mVespa.query\u001b[0;34m(self, body, groupname, **kwargs)\u001b[0m\n\u001b[1;32m    314\u001b[0m \u001b[38;5;66;03m# Use one connection as this is a single query\u001b[39;00m\n\u001b[1;32m    315\u001b[0m \u001b[38;5;28;01mwith\u001b[39;00m VespaSync(\u001b[38;5;28mself\u001b[39m, pool_maxsize\u001b[38;5;241m=\u001b[39m\u001b[38;5;241m1\u001b[39m, pool_connections\u001b[38;5;241m=\u001b[39m\u001b[38;5;241m1\u001b[39m) \u001b[38;5;28;01mas\u001b[39;00m sync_app:\n\u001b[0;32m--> 316\u001b[0m     \u001b[38;5;28;01mreturn\u001b[39;00m \u001b[43msync_app\u001b[49m\u001b[38;5;241;43m.\u001b[39;49m\u001b[43mquery\u001b[49m\u001b[43m(\u001b[49m\u001b[43mbody\u001b[49m\u001b[38;5;241;43m=\u001b[39;49m\u001b[43mbody\u001b[49m\u001b[43m,\u001b[49m\u001b[43m \u001b[49m\u001b[43mgroupname\u001b[49m\u001b[38;5;241;43m=\u001b[39;49m\u001b[43mgroupname\u001b[49m\u001b[43m,\u001b[49m\u001b[43m \u001b[49m\u001b[38;5;241;43m*\u001b[39;49m\u001b[38;5;241;43m*\u001b[39;49m\u001b[43mkwargs\u001b[49m\u001b[43m)\u001b[49m\n",
      "File \u001b[0;32m/usr/local/lib/python3.11/dist-packages/vespa/application.py:1236\u001b[0m, in \u001b[0;36mVespaSync.query\u001b[0;34m(self, body, groupname, **kwargs)\u001b[0m\n\u001b[1;32m   1232\u001b[0m     kwargs[\u001b[38;5;124m\"\u001b[39m\u001b[38;5;124mstreaming.groupname\u001b[39m\u001b[38;5;124m\"\u001b[39m] \u001b[38;5;241m=\u001b[39m groupname\n\u001b[1;32m   1233\u001b[0m response \u001b[38;5;241m=\u001b[39m \u001b[38;5;28mself\u001b[39m\u001b[38;5;241m.\u001b[39mhttp_session\u001b[38;5;241m.\u001b[39mpost(\n\u001b[1;32m   1234\u001b[0m     \u001b[38;5;28mself\u001b[39m\u001b[38;5;241m.\u001b[39mapp\u001b[38;5;241m.\u001b[39msearch_end_point, json\u001b[38;5;241m=\u001b[39mbody, params\u001b[38;5;241m=\u001b[39mkwargs\n\u001b[1;32m   1235\u001b[0m )\n\u001b[0;32m-> 1236\u001b[0m \u001b[43mraise_for_status\u001b[49m\u001b[43m(\u001b[49m\u001b[43mresponse\u001b[49m\u001b[43m)\u001b[49m\n\u001b[1;32m   1237\u001b[0m \u001b[38;5;28;01mreturn\u001b[39;00m VespaQueryResponse(\n\u001b[1;32m   1238\u001b[0m     json\u001b[38;5;241m=\u001b[39mresponse\u001b[38;5;241m.\u001b[39mjson(),\n\u001b[1;32m   1239\u001b[0m     status_code\u001b[38;5;241m=\u001b[39mresponse\u001b[38;5;241m.\u001b[39mstatus_code,\n\u001b[1;32m   1240\u001b[0m     url\u001b[38;5;241m=\u001b[39m\u001b[38;5;28mstr\u001b[39m(response\u001b[38;5;241m.\u001b[39murl),\n\u001b[1;32m   1241\u001b[0m )\n",
      "File \u001b[0;32m/usr/local/lib/python3.11/dist-packages/vespa/application.py:73\u001b[0m, in \u001b[0;36mraise_for_status\u001b[0;34m(response, raise_on_not_found)\u001b[0m\n\u001b[1;32m     71\u001b[0m error_message \u001b[38;5;241m=\u001b[39m response_json\u001b[38;5;241m.\u001b[39mget(\u001b[38;5;124m\"\u001b[39m\u001b[38;5;124mmessage\u001b[39m\u001b[38;5;124m\"\u001b[39m, \u001b[38;5;28;01mNone\u001b[39;00m)\n\u001b[1;32m     72\u001b[0m \u001b[38;5;28;01mif\u001b[39;00m errors:\n\u001b[0;32m---> 73\u001b[0m     \u001b[38;5;28;01mraise\u001b[39;00m VespaError(errors) \u001b[38;5;28;01mfrom\u001b[39;00m \u001b[38;5;21;01mhttp_error\u001b[39;00m\n\u001b[1;32m     74\u001b[0m \u001b[38;5;28;01mif\u001b[39;00m error_message:\n\u001b[1;32m     75\u001b[0m     \u001b[38;5;28;01mraise\u001b[39;00m VespaError(error_message) \u001b[38;5;28;01mfrom\u001b[39;00m \u001b[38;5;21;01mhttp_error\u001b[39;00m\n",
      "\u001b[0;31mVespaError\u001b[0m: [{'code': 12, 'summary': 'Timed out', 'message': 'No time left after waiting for 1005ms to execute query'}]"
     ]
    }
   ],
   "source": [
    "query = \"high alcohol\"\n",
    "resp = vespa.query(\n",
    "    {\n",
    "        \"yql\": \"select * from beer where {targetHits:3}nearestNeighbor(mrl_embedding, q)\",\n",
    "        \"input.query(q)\": \"embed(mxbai, @text)\",\n",
    "        \"ranking.profile\": \"ann\",\n",
    "        \"text\": query\n",
    "    }\n",
    ")\n",
    "print(json.dumps(resp.json[\"root\"][\"children\"], indent=2))"
   ]
  },
  {
   "cell_type": "markdown",
   "id": "e5fe8a65-bb26-4ad3-8e04-aa108602eaa1",
   "metadata": {},
   "source": [
    "## Index vectoriel : NN et ANN, équivalent ML des index lexicaux\n",
    "Depuis ~2020, le ML permet de représenter des documents textuels par des vecteurs en grande dimension (appelés **embedding**) qui possèdent l'énorme propriété de traduire numériquement/vectoriellement l'information sémantique contenue dans les documents. De surcroit, ces embeddings peuvent se comparer algébriquement très simplement dans le sens où 2 embeddings \"proches\" (dans leur espace) correspondent à des objets proches (dans notre perception). Le uses-case 4 des TP précédent visait à obtenir de tels embeddings à partir d'un service externe.\n",
    "\n",
    "et les algorithmes *Nearest Neighbors* ou plus récemment *Approximated Nearest Neighbors*.\n",
    "### Recherche par plus proche voisins \n",
    "#### Algorithme Nearest Neighbors - NN\n",
    "\n",
    "Puisqu'il est possible de représenter (presque) tout document sous format embedding et que ces derniers ont la propriété d'être comparables entre eux, un nouveau type de recherche s'ouvre : recherche par embeddings les plus proche de l'embedding d'une query. Opérer une recherche à partir d'une query revient à trouver les *plus proches voisins* (Nearest Neighbors - NN) de l'embedding de la query parmi les embeddings de documents.\n",
    "\n",
    "Exemple en dimension 2 : les coordonnées GPS 2D d'une ville sont en quelque sort un embedding basique d'une ville. Trouver les 5 villes les plus proches de Nancy est simple : il suffit de cacluler les distances de Nancy à toutes les villes grâce à leurs coordonnées et de trouver les top5 distances les plus faibles.\n",
    "\n",
    "**Problème:** une telle recherche exhaustive implique $O(n^2)$ calculs où $n$ est le nombre de villes. Si $n=10^6$, le calcul devient difficile.\n",
    "\n",
    "#### Variante Approximative Nearest Neihbors - ANN\n",
    "\n",
    "**Solution proposée:** sachant qu'il est inutile de calculer la distance entre Nancy et Timbuktu ou New-York (celles-ci ne seront jamais dans le top5 proximité), il peut être intéressant de restreindre le champ de recherche afin de ne payer une recherche exhaustive en $O(n^2)$ que pour une poignée de villes qu'on sait déjà être \"proches\". Dans notre exemple, une recherche limitée au département de la ville cible et aux départements limitrophes suffit. \n",
    "\n",
    "Il s'agit d'un début de compréhension de la famille d'algorithmes Approximative Nearest Neihbors (ANN par la suite) qui permet de casser la complexité du problème de recherche de plus proches voisins en hierarchisant l'information. Cette hierarchisation se fait via une structure de donnée particulière ; l'implémentation la plus courante en 2024 est [Hierarchical Navigable Small World - HNSW](https://www.wikiwand.com/en/articles/HNSW_indexes).\n",
    "\n",
    "Remarque : l'algo qui traduit réellement la hierarchisation stricte est plutôt de la famille [K-d tree](https://www.wikiwand.com/en/articles/K-d_tree) mais il est inefficace pour des vecteurs de dimension $k=768+$ comme c'est le cas pour la plupart des embeddings"
   ]
  },
  {
   "cell_type": "code",
   "execution_count": null,
   "id": "ad74b2ff-2bf8-40e7-a925-c5b73c4f8a12",
   "metadata": {},
   "outputs": [],
   "source": []
  }
 ],
 "metadata": {
  "kernelspec": {
   "display_name": "Python 3 (ipykernel)",
   "language": "python",
   "name": "python3"
  },
  "language_info": {
   "codemirror_mode": {
    "name": "ipython",
    "version": 3
   },
   "file_extension": ".py",
   "mimetype": "text/x-python",
   "name": "python",
   "nbconvert_exporter": "python",
   "pygments_lexer": "ipython3",
   "version": "3.11.0rc1"
  }
 },
 "nbformat": 4,
 "nbformat_minor": 5
}
