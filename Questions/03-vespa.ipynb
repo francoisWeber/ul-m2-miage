{
 "cells": [
  {
   "cell_type": "code",
   "execution_count": null,
   "id": "712f4a52-d4e9-4d7c-9e8e-27eafa6afd98",
   "metadata": {},
   "outputs": [],
   "source": []
  },
  {
   "cell_type": "markdown",
   "id": "3e218368-0e0a-4cdf-accb-698b731c39de",
   "metadata": {},
   "source": [
    "# Intro aux index\n",
    "\n",
    "## SQL DB vs Index\n",
    "Les index sont des cousins des bases de données (DB - databse) dans le sens où ils stockent de la données et permettent d'y accéder via des requêtes. Commençons par voir les index comme des DB munis d'une seule table qui contient des **documents** qu'un utilisateur voudra requêter. Les index ne sont pas capables de jointure et les opérations classiques du SQL y sont difficiles (`GROUP BY`) voire simplement impossibles (`JOIN`, `ROW NUMBER`). Appelons *corpus* l'ensemble de documents indéxés.\n",
    "\n",
    "NB: dans une moindre mesure, les *index* sont régulièrement utilisés dans les coulisses des DB SQL sur les clefs fréquemment manipulés. On y reviendra.\n",
    "\n",
    "### Alors à quoi sert un index ?\n",
    "\n",
    "Un **index** est un puissant outil *pour retrouver des documents à partir de **query** sur leurs attributs, une partie de leurs attributs, ou d'une information partielle sur leurs attributs*. De plus, ces outils sont souvent équipés d'un système de **scores d'adéquation** qui *ordonnent* les documents par ordre de pertinence face à la query.\n",
    "\n",
    "Il existe une infinité de façon de définir un score d'adéquation. En effet, il ne s'agit \"que\" d'un calcul opéré sur le coupe `(query, document)` et qui propose une mesure de l'adéquation query/document. Nous parlerons simplement de *score* par la suite\n",
    "\n",
    "# Index lexical pour la fouille de texte\n",
    "\n",
    "Au delà du simple matching d'attributs, un index lexical est capable de retrouver efficacement des documents qui contiennent les mots de la query. Les index sont équipés de structures de données complexes permettant d'insérer des documents et d'y effectuer des recherches en complexité $O(\\log n)$ (où $n$ est le nombre de documents). Contrairement à une `hashMap`, il ne s'agit pas de simplement `get` un document via son identifiant (auquel cas il s'agit d'une compléxité de $O(1)$) mais de trouver *tous les documents qui correspondent à une recherche*. "
   ]
  },
  {
   "cell_type": "markdown",
   "id": "c38d59a1-9763-452c-ab31-8b517235c05e",
   "metadata": {},
   "source": [
    "## Exercice préliminaire\n",
    "But: mimer les index et leur capacité à retrouver tous les documents qui parlent d'un mot. \n",
    "\n",
    "Proposer :\n",
    "- une structure de donnée optimisée pour représenter les documents et leur texte (on considèrera uniquement les `name`, `description_beer`, `description_brewery`)\n",
    "- une fonction qui utilise cette structure pour trouver le plus rapidement possible tous les documents qui possède le mot \"scottish\"\n",
    "\n",
    "Le dataset `/datasets/beers_full.csv` contient un condensé des infos de chaque bière. Le dictionnaire `beer_id2desct` associe à chaque `beer_id` sa description"
   ]
  },
  {
   "cell_type": "code",
   "execution_count": 92,
   "id": "bafe28f9-d953-4e5b-9365-6c096bd45ec7",
   "metadata": {},
   "outputs": [
    {
     "name": "stdout",
     "output_type": "stream",
     "text": [
      "Beer id 42: Maracaibo Especial A rich brown ale inspired by the enigmatic monastic brews of Belgium, and the mysterious mist shrouded jungles of the tropics. Brewed with real cacao, and spiced with cinnamon and sweet orange peel for a sensual delight. A brew to be sipped, savored, and enjoyed! Welcome to a land of open fermentation, oak barrel aging, and bottle conditioning. At Jolly Pumpkin Artisan Ales we are dedicated to more than the traditions of old world craftsmanship. Everything we do is designed to create ales of outstanding art and flavor. Focusing on traditional rustic country style beers brought to life through labor and love, we strive to create beers to lighten the spirit, and soothe the soul. Sharing our joy to the betterment of mankind is the most that we could hope for.\n"
     ]
    }
   ],
   "source": [
    "import pandas as pd\n",
    "df = pd.read_csv(\"/datasets/beers_full.csv\")\n",
    "beer_id2desct = df.fillna(\"\").apply(lambda row: \" \".join([str(row[\"name\"]), row[\"description_beer\"], row[\"description_brewery\"]]), axis=1).to_dict()\n",
    "\n",
    "print(\"Beer id 42:\", beer_id2desct[42])"
   ]
  },
  {
   "cell_type": "markdown",
   "id": "7bd4a56f-14bc-451d-8101-615cc06eacf7",
   "metadata": {},
   "source": [
    "Chacun testera la vitesse de son code avec le bloc suivant:\n",
    "```python\n",
    "%%timeit\n",
    "for word in [\"ale\", \"scottish\", \"Bouffay\"]:\n",
    "    beer_ids = fetch_doc_ids_having_word(word)\n",
    "```\n",
    "La \"magic function\" `%%timeit` mesure le temps moyen d'éxecution de la cellule ne l'appelant ~1k-1M fois.\n",
    "\n",
    "Perf à battre pour cet exo 😎:"
   ]
  },
  {
   "cell_type": "code",
   "execution_count": 93,
   "id": "e6388a0e-f6cc-4cd4-b56c-bb141a787c29",
   "metadata": {},
   "outputs": [],
   "source": [
    "def fetch_doc_ids_having_word(word):\n",
    "    resp = []\n",
    "    for id_, descr in beer_id2desct.items():\n",
    "        if word in descr:\n",
    "            resp.append(id_)\n",
    "    return resp"
   ]
  },
  {
   "cell_type": "code",
   "execution_count": 94,
   "id": "d06bf0ed-df39-4138-8faf-53190570f601",
   "metadata": {},
   "outputs": [
    {
     "name": "stdout",
     "output_type": "stream",
     "text": [
      "4.74 ms ± 31.9 μs per loop (mean ± std. dev. of 7 runs, 100 loops each)\n"
     ]
    }
   ],
   "source": [
    "%%timeit\n",
    "for word in [\"ale\", \"scottish\", \"Bouffay\"]:\n",
    "    beer_ids = fetch_doc_ids_having_word(word.lower())"
   ]
  },
  {
   "cell_type": "code",
   "execution_count": 95,
   "id": "e8a9df17-6b65-4657-ac24-2566e9f107fc",
   "metadata": {},
   "outputs": [
    {
     "name": "stdout",
     "output_type": "stream",
     "text": [
      "CPU times: user 60.9 ms, sys: 4.02 ms, total: 64.9 ms\n",
      "Wall time: 64 ms\n"
     ]
    }
   ],
   "source": [
    "%%time\n",
    "# get vocabulary\n",
    "vocab = sorted(set([word for doc in beer_id2desct.values() for word in doc.lower().split()]))"
   ]
  },
  {
   "cell_type": "code",
   "execution_count": 96,
   "id": "1f4e7696-175e-4b1f-a9bb-61a9c1b4cd3e",
   "metadata": {},
   "outputs": [
    {
     "name": "stdout",
     "output_type": "stream",
     "text": [
      "CPU times: user 2min 12s, sys: 30.9 ms, total: 2min 12s\n",
      "Wall time: 2min 12s\n"
     ]
    }
   ],
   "source": [
    "%%time\n",
    "# compute posting list in a naïve whay\n",
    "posting_list = {\n",
    "    word: {\n",
    "        doc_id: [i for i, w in enumerate(str(doc_str).lower().split()) if w == word]\n",
    "        for doc_id, doc_str in beer_id2desct.items()\n",
    "        if \" \" + word + \" \" in str(doc_str).lower()\n",
    "    }\n",
    "    for word in vocab\n",
    "}\n",
    "\n",
    "\n",
    "def fetch_doc_ids_having_word(word):\n",
    "    return posting_list[word.lower()]"
   ]
  },
  {
   "cell_type": "code",
   "execution_count": 97,
   "id": "810300bc-5fa9-40f3-9a1e-05f87a8a5541",
   "metadata": {},
   "outputs": [
    {
     "name": "stdout",
     "output_type": "stream",
     "text": [
      "655 ns ± 7.84 ns per loop (mean ± std. dev. of 7 runs, 1,000,000 loops each)\n"
     ]
    }
   ],
   "source": [
    "%%timeit\n",
    "for word in [\"ale\", \"scottish\", \"Bouffay\"]:\n",
    "    beer_ids = fetch_doc_ids_having_word(word.lower())"
   ]
  },
  {
   "cell_type": "code",
   "execution_count": 103,
   "id": "1eec1a71-435e-4163-92dc-8e0979630f2c",
   "metadata": {},
   "outputs": [],
   "source": [
    "beer_ids = fetch_doc_ids_having_word(\"scottish\".lower())"
   ]
  },
  {
   "cell_type": "code",
   "execution_count": 104,
   "id": "cd3150dd-c751-487e-af94-e571faea9eff",
   "metadata": {},
   "outputs": [
    {
     "data": {
      "text/plain": [
       "{110: [3],\n",
       " 217: [31, 51],\n",
       " 292: [2],\n",
       " 676: [1],\n",
       " 990: [1],\n",
       " 1047: [3],\n",
       " 1977: [3],\n",
       " 2002: [2],\n",
       " 2045: [2],\n",
       " 2048: [1],\n",
       " 2064: [2],\n",
       " 2070: [2],\n",
       " 2269: [0, 11, 34],\n",
       " 2396: [23],\n",
       " 2513: [2],\n",
       " 2518: [1],\n",
       " 2585: [12],\n",
       " 2818: [2],\n",
       " 3051: [4],\n",
       " 3362: [1],\n",
       " 3836: [2],\n",
       " 4119: [11, 65],\n",
       " 4146: [47],\n",
       " 4266: [18],\n",
       " 4286: [123],\n",
       " 4496: [1, 21, 78],\n",
       " 4664: [6, 20],\n",
       " 4673: [14, 29],\n",
       " 4774: [3],\n",
       " 4791: [6],\n",
       " 4831: [59],\n",
       " 5005: [28],\n",
       " 5035: [1],\n",
       " 5325: [58],\n",
       " 5614: [35],\n",
       " 5748: [32],\n",
       " 5755: [19],\n",
       " 5758: [73],\n",
       " 5843: [27]}"
      ]
     },
     "execution_count": 104,
     "metadata": {},
     "output_type": "execute_result"
    }
   ],
   "source": [
    "beer_ids"
   ]
  },
  {
   "cell_type": "markdown",
   "id": "3c96e808-1098-47e5-abe2-12b36059f402",
   "metadata": {},
   "source": [
    "## Structure de donné de l'index lexical inversé\n",
    "\n",
    "Un index maintient une [\"posting list\" ou \"index inversé\"](https://www.wikiwand.com/en/articles/Inverted_index) en mémoire : à la façon d'un glossaire dans un livre, l'index maintient en mémoire un vocabulaire (les mots contenus dans tout le corpus) ainsi que, pour chaque mot, **la liste de tous les documents qui l'évoquent ainsi que les positions du mot dans les documents**. Trouver les documents qui contiennent une série de mot devient rapide : $O(\\log n)$.\n",
    "\n",
    "Exemple :\n",
    "Soit le (mini) corpus suivant\n",
    "- \"portez ce vieux whiskey au juge blond qui fume\"\n",
    "- \"On fume ce type de malts pour obtenir ce whiskey tourbé\"\n",
    "\n",
    "Calculons la `posting_list`"
   ]
  },
  {
   "cell_type": "code",
   "execution_count": 78,
   "id": "4c297ec7-5097-417c-a2f5-e7acf38f6083",
   "metadata": {},
   "outputs": [],
   "source": [
    "beer_id2desct = {\n",
    "    1: \"portez ce vieux whiskey au juge blond qui fume\",\n",
    "    2: \"On fume ce malt pour obtenir ce whiskey tourbé\",\n",
    "    3: \"La fermentation haute donne des bières plus fruitées.\", \n",
    "    4: \"Ce houblon ajoute une amertume distincte à la bière.\", \n",
    "    5: \"Le malt apporte la rondeur à la bière mais un malt torréfié apporte des arômes de café à la bière.\", \n",
    "    6: \"La bière de fermentation basse est plus légère et rafraîchissante.\", \n",
    "    7: \"La température de fermentation influence le goût final de la bière.\", \n",
    "}"
   ]
  },
  {
   "attachments": {},
   "cell_type": "markdown",
   "id": "7ffb5cb3-f799-4db1-952d-c605ba6da92d",
   "metadata": {},
   "source": [
    "## BM25 : score de priorité pour un index lexical\n",
    "Le score de référence dans le domaine de la recherche lexicale est le [BM25](https://www.wikiwand.com/fr/articles/Okapi_BM25) (pas nécessaire de comprendre les formules). En première approximation, supposons que ce score attribué à chaque document calcule, pour chaque mot de la query, la fréquence d'apparition du mot dans le document pondéré par des notions de rareté du mot dans le corpus (une `posting_list` permet d'obtenir cette information très facilement).\n",
    "\n"
   ]
  },
  {
   "cell_type": "code",
   "execution_count": 107,
   "id": "a06b010e-914b-4749-80f3-03854553c41f",
   "metadata": {},
   "outputs": [
    {
     "data": {
      "text/plain": [
       "Results(documents=array([['Hocus Pocus Our take on a classic summer ale.  A toast to weeds, rays, and summer haze.  A light, crisp ale for mowing lawns, hitting lazy fly balls, and communing with nature, Hocus Pocus is offered up as a summer sacrifice to clodless days. Its malty sweetness finishes tart and crisp and is best apprediated with a wedge of orange. Burlington microbrewers of Humble Patience, Fat Angel, #9, Blind Faith IPA, and Heart of Darkness Oatmeal Stout.',\n",
       "        'Ambr  La Brasserie du Bouffay est situ', 'Abhi beer  ']],\n",
       "      dtype='<U447'), scores=array([[0., 0., 0.]], dtype=float32))"
      ]
     },
     "execution_count": 107,
     "metadata": {},
     "output_type": "execute_result"
    }
   ],
   "source": [
    "from bm25s import BM25, tokenize\n",
    "\n",
    "# Tokenize the corpus and index it\n",
    "corpus_tokens = tokenize(list(beer_id2desct.values()))\n",
    "retriever = BM25(corpus=list(beer_id2desct.values()))\n",
    "retriever.index(corpus_tokens)\n",
    "\n",
    "retriever.retrieve(tokenize(\"youoi\"), k=3)"
   ]
  },
  {
   "cell_type": "markdown",
   "id": "903f648b-00c8-44c9-a5bb-e3fecef8ddd6",
   "metadata": {},
   "source": [
    "## Index Vespa\n",
    "[Vespa](https://vespa.ai/) est un index moderne, puissant, hautement distribué, concurrent du très connu [ElasticSearch](https://www.elastic.co/fr/). Ces 2 index permettent d'être utilisés en mode lexical pour de la recherche d'information dans un corpus.\n",
    "\n",
    "Nous utiliserons Vespa pendant ce TP : ne pas hésiter à [aller voir la doc](https://docs.vespa.ai/en/overview.html) (attention, ne pas se laisser impressionner par toute la technique) ou poser des questions à leur [chat-bot](https://search.vespa.ai/) (même remarque).\n",
    "\n",
    "Une instance Vespa tourne sur le serveur à l'adresse http://vespa:8080 . Pour y accéder facilement nous utiliserons le package Python PyVespa (voir [le doc](https://pyvespa.readthedocs.io/en/latest/index.html)) proposé par l'équipe Vespa :"
   ]
  },
  {
   "cell_type": "code",
   "execution_count": 108,
   "id": "9be68aff-7695-4ea2-827b-7b01c205de1a",
   "metadata": {},
   "outputs": [
    {
     "name": "stdout",
     "output_type": "stream",
     "text": [
      "Application is up!\n"
     ]
    }
   ],
   "source": [
    "from vespa.application import Vespa, VespaSync\n",
    "import json\n",
    "\n",
    "vespa = Vespa(url=\"http://vespa\", port=8080)\n",
    "vespa.wait_for_application_up(30)"
   ]
  },
  {
   "cell_type": "markdown",
   "id": "b9c21468",
   "metadata": {},
   "source": [
    "## Recherche distribuée\n",
    "Pour stocker 10G documents, un seul serveur ne suffit pas. Vespa (comme ES) utilise un cluster de machine, chacune possédant un fragment (shard) du corpus. Des options de redondance existent : une donnée est stockée sur plusieurs noeuds. Cette redondance permet de perdre des noeuds sans pour autant perdre la moindre data.\n",
    "\n",
    "Distribution implique ici parallélisme : lors d'une requête, chaque noeud effectue la plupart des étapes de recherche de son côté. Les résultats ne sont fusionnés que très tardivement pour tirer profit du parallélisme jusqu'en dernière minute.\n",
    "\n",
    "## Multi-stage retrieval\n",
    "Vespa est capable d'indéxer des milliards de documents (exemple avec [Vinted](https://vinted.engineering/2024/09/05/goodbye-elasticsearch-hello-vespa/) ou [Spotify](https://engineering.atspotify.com/2022/03/introducing-natural-language-search-for-podcast-episodes/) ou Qwant).\n",
    "\n",
    "Pour sortir le top10 résultats pour une query parmi 10G documents, plusieurs étapes sont nécessaires. La recherche est un entonnoir à data qui s'effectue indépendamment sur chaque noeud:\n",
    "1. matching: ne récupérer que les documents qui parlent dess mots de la query (via posting list)\n",
    "2. first-phase: classer grossièrement les documents survivants sur des critères d'adéquation query/document faciles à calculer (BM25 via posting list) et ne garder que le top1k par noeud\n",
    "3. second-phase: classer finement les 1k documents survivants sur chaque noeud afin de préparer le top final. Ne prendre que le top100 par noeud\n",
    "4. fusion: tous les noeuds acheminent leurs top100 respectifs à un noeud principal qui crée le résultat final"
   ]
  },
  {
   "cell_type": "markdown",
   "id": "62a43287",
   "metadata": {},
   "source": [
    "## Exemple de requête à Vespa\n",
    "En utilisant le client Python PyVespa:"
   ]
  },
  {
   "cell_type": "code",
   "execution_count": 111,
   "id": "13c689de-807d-4531-825b-0cf7f7d762b6",
   "metadata": {},
   "outputs": [
    {
     "name": "stdout",
     "output_type": "stream",
     "text": [
      "Réponse de Vespa:\n",
      "\n",
      "{\n",
      "  \"id\": \"toplevel\",\n",
      "  \"relevance\": 1.0,\n",
      "  \"fields\": {\n",
      "    \"totalCount\": 557\n",
      "  },\n",
      "  \"coverage\": {\n",
      "    \"coverage\": 100,\n",
      "    \"documents\": 5699,\n",
      "    \"full\": true,\n",
      "    \"nodes\": 1,\n",
      "    \"results\": 1,\n",
      "    \"resultsFull\": 1\n",
      "  },\n",
      "  \"children\": [\n",
      "    {\n",
      "      \"id\": \"index:beer_content/0/a6a767bbba7d4e24424f25fa\",\n",
      "      \"relevance\": 7.0372892428405835,\n",
      "      \"source\": \"beer_content\",\n",
      "      \"fields\": {\n",
      "        \"sddocname\": \"beer\",\n",
      "        \"name\": \"Kalamazoo Stout\",\n",
      "        \"id\": \"4134\",\n",
      "        \"brewery\": \"Bell's Brewery Inc.\",\n",
      "        \"description_beer\": \"A full-bodied stout with plenty of roast flavor. Kalamazoo Stout is available year round, leading our vast portfolio of stouts.\"\n",
      "      }\n",
      "    },\n",
      "    {\n",
      "      \"id\": \"index:beer_content/0/21ce68912bc0dda9d1677ec8\",\n",
      "      \"relevance\": 6.910275544426504,\n",
      "      \"source\": \"beer_content\",\n",
      "      \"fields\": {\n",
      "        \"sddocname\": \"beer\",\n",
      "        \"name\": \"Oatmeal Stout\",\n",
      "        \"id\": \"3751\",\n",
      "        \"brewery\": \"Troegs Brewing\",\n",
      "        \"description_beer\": \"Tr\\u00c3\\u00b6egs Oatmeal Stout is our interpretation of the classic dry stout style. Dark and creamy with hints of chocolate and black currants, our Oatmeal Stout includes a healthy dose of Centennial and Chinook hops creating a unique stout perfect for the late Fall and Winter.\"\n",
      "      }\n",
      "    }\n",
      "  ]\n",
      "}\n"
     ]
    }
   ],
   "source": [
    "# requête simple\n",
    "resp = vespa.query(\n",
    "    {\n",
    "        \"yql\": \"select * from beer where userQuery()\", # <-- on dirait du SQL ! Mais en plus limité ...\n",
    "        \"hits\": 2, # <-- nombre de résultats voulus\n",
    "        \"query\": \"stout\", # <-- query textuelle, nous verrons son usage après\n",
    "        \"presentation.summary\": \"textual\"\n",
    "    }\n",
    ")\n",
    "print(\"Réponse de Vespa:\\n\")\n",
    "print(json.dumps(resp.json[\"root\"], indent=2))"
   ]
  },
  {
   "cell_type": "markdown",
   "id": "4968d0f7-49cd-4174-868f-0c70f830e92f",
   "metadata": {},
   "source": [
    "Un index (Vespa ou ES) a besoin de connaître le schéma de data à indexer. Il s'agit de :\n",
    "- l'ensemble des attributs d'un document à indexer : nom, type (string, float, ...)\n",
    "- si nécessaire, la façon dont un champ doit être utilisés par Vespa lors de l'indexation : simple attribut, indexé par `posting list`, exploitable via BM25, affichable dans les réponses aux queries, etc ...\n",
    "\n",
    "Elastic nomme cela [mapping](https://www.elastic.co/guide/en/elasticsearch/reference/current/mapping.html), Vespa nomme cela la [schema](https://docs.vespa.ai/en/schemas.html). Exemple avec nos données montées sur Vespa\n",
    "```\n",
    "schema beer {\n",
    "    document beer {\n",
    "        field id type string {\n",
    "        }\n",
    "        field name type string {\n",
    "            indexing: index | summary\n",
    "        }\n",
    "        field description_beer type string {\n",
    "            indexing: index | summary | attribute\n",
    "            index: enable-bm25\n",
    "        }\n",
    "        field brewery type string {\n",
    "            indexing: index | summary\n",
    "            index: enable-bm25\n",
    "        }\n",
    "        field address1 type string {\n",
    "            indexing: index | summary | attribute\n",
    "        }\n",
    "        field description_brewery type string {\n",
    "            indexing: index\n",
    "            index: enable-bm25\n",
    "        }\n",
    "    [...]\n",
    "    }\n",
    "\n",
    "  [...]\n",
    "\n",
    "}\n",
    "```"
   ]
  },
  {
   "cell_type": "markdown",
   "id": "d5289ff0-2268-45ce-9518-3eea01dfb25b",
   "metadata": {},
   "source": [
    "Vespa est très orienté recherche d'information et permet également de définir des façons de très précise le **score d'adéquation** à utiliser pour classer (ranker) les documents. Il s'agit d'une autre partie du schéma :\n",
    "```\n",
    "  [...]\n",
    "\n",
    "    rank-profile basic_bm25 {\n",
    "        first-phase {\n",
    "            expression {\n",
    "                bm25(name) + bm25(description_beer)\n",
    "            }\n",
    "        }\n",
    "    }\n",
    "\n",
    "  [...]\n",
    "```"
   ]
  },
  {
   "cell_type": "markdown",
   "id": "311e21ce-be01-440a-9140-c548d85655b9",
   "metadata": {},
   "source": [
    "# Uses cases"
   ]
  },
  {
   "cell_type": "markdown",
   "id": "f196d8ff-9502-419a-a3e7-8ac3411003f5",
   "metadata": {},
   "source": [
    "## UC-1 : description data\n",
    "\n",
    "Attention, plus compliqué qu'en SQL. Voir les docs spécifiques\n",
    "- [doc spécifique Vespa sur le grouping](https://docs.vespa.ai/en/grouping.html)\n",
    "- [doc sur le SQL façon Vespa - YQL](https://docs.vespa.ai/en/vespa-cli#cheat-sheet)\n",
    "\n",
    "**Ne pas chercher à aller jusqu'au bout !!** Nous remarquerons assez vite que c'est galère avec Vespa\n",
    "\n",
    "- Q1: Combien y a-t-il de bières dans la DB ?\n",
    "- Q2: Top10 brasseries les plus représentées avec le nombre de bière par brasserie ?\n",
    "- Q3: Top10 des bières les plus fortes (ABV) en France ?\n",
    "- Q4: Par pays, nombre de brasseries qui proposent des bières de type `Porter` et ABV moyen de celles-ci ?\n",
    "- Q5: Mediane du nombre de bière par pays ?"
   ]
  },
  {
   "cell_type": "code",
   "execution_count": 115,
   "id": "9c95b690-4755-42a8-a0a3-8b82aae0ed17",
   "metadata": {},
   "outputs": [
    {
     "name": "stdout",
     "output_type": "stream",
     "text": [
      "[\n",
      "  {\n",
      "    \"id\": \"group:root:0\",\n",
      "    \"relevance\": 1.0,\n",
      "    \"continuation\": {\n",
      "      \"this\": \"\"\n",
      "    },\n",
      "    \"fields\": {\n",
      "      \"count()\": 5699\n",
      "    }\n",
      "  }\n",
      "]\n"
     ]
    }
   ],
   "source": [
    "# Q1\n",
    "resp = vespa.query(\n",
    "    {\n",
    "        \"yql\": \"select * from beer where true limit 0 | all( output(count()) )\", \n",
    "        \"hits\": 10\n",
    "    }\n",
    ")\n",
    "print(json.dumps(resp.json[\"root\"][\"children\"], indent=2))"
   ]
  },
  {
   "cell_type": "code",
   "execution_count": 124,
   "id": "e569595a-92a2-4d9a-a312-9857a556cebe",
   "metadata": {},
   "outputs": [
    {
     "name": "stdout",
     "output_type": "stream",
     "text": [
      "{\n",
      "  \"id\": \"toplevel\",\n",
      "  \"relevance\": 1.0,\n",
      "  \"fields\": {\n",
      "    \"totalCount\": 5699\n",
      "  },\n",
      "  \"coverage\": {\n",
      "    \"coverage\": 100,\n",
      "    \"documents\": 5699,\n",
      "    \"full\": true,\n",
      "    \"nodes\": 1,\n",
      "    \"results\": 1,\n",
      "    \"resultsFull\": 1\n",
      "  },\n",
      "  \"children\": [\n",
      "    {\n",
      "      \"id\": \"group:root:0\",\n",
      "      \"relevance\": 1.0,\n",
      "      \"continuation\": {\n",
      "        \"this\": \"\"\n",
      "      },\n",
      "      \"children\": [\n",
      "        {\n",
      "          \"id\": \"grouplist:brewery\",\n",
      "          \"relevance\": 1.0,\n",
      "          \"label\": \"brewery\",\n",
      "          \"continuation\": {\n",
      "            \"next\": \"BGAAABECBEBC\"\n",
      "          },\n",
      "          \"children\": [\n",
      "            {\n",
      "              \"id\": \"group:string:Midnight Sun Brewing Co.\",\n",
      "              \"relevance\": 1.0,\n",
      "              \"value\": \"Midnight Sun Brewing Co.\",\n",
      "              \"fields\": {\n",
      "                \"count()\": 57\n",
      "              }\n",
      "            },\n",
      "            {\n",
      "              \"id\": \"group:string:Rogue Ales\",\n",
      "              \"relevance\": 0.9,\n",
      "              \"value\": \"Rogue Ales\",\n",
      "              \"fields\": {\n",
      "                \"count()\": 49\n",
      "              }\n",
      "            },\n",
      "            {\n",
      "              \"id\": \"group:string:Anheuser-Busch\",\n",
      "              \"relevance\": 0.8,\n",
      "              \"value\": \"Anheuser-Busch\",\n",
      "              \"fields\": {\n",
      "                \"count()\": 38\n",
      "              }\n",
      "            },\n",
      "            {\n",
      "              \"id\": \"group:string:Egan Brewing\",\n",
      "              \"relevance\": 0.7,\n",
      "              \"value\": \"Egan Brewing\",\n",
      "              \"fields\": {\n",
      "                \"count()\": 37\n",
      "              }\n",
      "            },\n",
      "            {\n",
      "              \"id\": \"group:string:Troegs Brewing\",\n",
      "              \"relevance\": 0.6,\n",
      "              \"value\": \"Troegs Brewing\",\n",
      "              \"fields\": {\n",
      "                \"count()\": 37\n",
      "              }\n",
      "            },\n",
      "            {\n",
      "              \"id\": \"group:string:Boston Beer Company\",\n",
      "              \"relevance\": 0.5,\n",
      "              \"value\": \"Boston Beer Company\",\n",
      "              \"fields\": {\n",
      "                \"count()\": 36\n",
      "              }\n",
      "            },\n",
      "            {\n",
      "              \"id\": \"group:string:F.X. Matt Brewing\",\n",
      "              \"relevance\": 0.4,\n",
      "              \"value\": \"F.X. Matt Brewing\",\n",
      "              \"fields\": {\n",
      "                \"count()\": 34\n",
      "              }\n",
      "            },\n",
      "            {\n",
      "              \"id\": \"group:string:Titletown Brewing\",\n",
      "              \"relevance\": 0.3,\n",
      "              \"value\": \"Titletown Brewing\",\n",
      "              \"fields\": {\n",
      "                \"count()\": 34\n",
      "              }\n",
      "            },\n",
      "            {\n",
      "              \"id\": \"group:string:Sierra Nevada Brewing Co.\",\n",
      "              \"relevance\": 0.2,\n",
      "              \"value\": \"Sierra Nevada Brewing Co.\",\n",
      "              \"fields\": {\n",
      "                \"count()\": 33\n",
      "              }\n",
      "            },\n",
      "            {\n",
      "              \"id\": \"group:string:Stone Brewing Co.\",\n",
      "              \"relevance\": 0.1,\n",
      "              \"value\": \"Stone Brewing Co.\",\n",
      "              \"fields\": {\n",
      "                \"count()\": 32\n",
      "              }\n",
      "            }\n",
      "          ]\n",
      "        }\n",
      "      ]\n",
      "    }\n",
      "  ]\n",
      "}\n"
     ]
    }
   ],
   "source": [
    "# Q2: Top10 brasseries les plus représentées avec le nombre de bière par brasserie ?\n",
    "resp = vespa.query(\n",
    "   {\n",
    "       \"yql\": \"select * from beer where true limit 0 | all( group(brewery) order(-count()) each(output(count()))) \",\n",
    "       \"hits\": 1\n",
    "   } \n",
    ")\n",
    "print(json.dumps(resp.json[\"root\"], indent=2))"
   ]
  },
  {
   "cell_type": "code",
   "execution_count": 130,
   "id": "9b5e693e-92e8-45a1-84ba-2b71bd0ee4cf",
   "metadata": {},
   "outputs": [
    {
     "name": "stdout",
     "output_type": "stream",
     "text": [
      "{\n",
      "  \"id\": \"toplevel\",\n",
      "  \"relevance\": 1.0,\n",
      "  \"fields\": {\n",
      "    \"totalCount\": 18\n",
      "  },\n",
      "  \"coverage\": {\n",
      "    \"coverage\": 100,\n",
      "    \"documents\": 5699,\n",
      "    \"full\": true,\n",
      "    \"nodes\": 1,\n",
      "    \"results\": 1,\n",
      "    \"resultsFull\": 1\n",
      "  },\n",
      "  \"children\": [\n",
      "    {\n",
      "      \"id\": \"index:beer_content/0/934b5358a7f53b68b8e76113\",\n",
      "      \"relevance\": 0.0,\n",
      "      \"source\": \"beer_content\",\n",
      "      \"fields\": {\n",
      "        \"sddocname\": \"beer\",\n",
      "        \"name\": \"Belzebuth\",\n",
      "        \"id\": \"2222\",\n",
      "        \"brewery\": \"Brasserie Grain D'Orge\",\n",
      "        \"description_beer\": \"Beer of top fermentation, Belzebuth represents the achievement of a more than one hundred year-old know-how, the one of the Brewery Grain d'Orge. Under its copper colour, it hides a strong character for the lovers of sensations. It owes its strength to the subtle mixture of pure malts, hops and yeasts especially selected by our Master-Brewer.\\r\\n\\r\\nAt one time this beer was 15%. After the name change it was lowered to 13%.\"\n",
      "      }\n",
      "    },\n",
      "    {\n",
      "      \"id\": \"index:beer_content/0/ab013ca61c76da56415adb3e\",\n",
      "      \"relevance\": 0.0,\n",
      "      \"source\": \"beer_content\",\n",
      "      \"fields\": {\n",
      "        \"sddocname\": \"beer\",\n",
      "        \"name\": \"3 Monts\",\n",
      "        \"id\": \"5394\",\n",
      "        \"brewery\": \"Brasserie De Saint Sylvestre\"\n",
      "      }\n",
      "    },\n",
      "    {\n",
      "      \"id\": \"index:beer_content/0/f7e6c8554fd0d3f21551f84a\",\n",
      "      \"relevance\": 0.0,\n",
      "      \"source\": \"beer_content\",\n",
      "      \"fields\": {\n",
      "        \"sddocname\": \"beer\",\n",
      "        \"name\": \"Gavroche French Red Ale\",\n",
      "        \"id\": \"173\",\n",
      "        \"brewery\": \"Brasserie De Saint Sylvestre\"\n",
      "      }\n",
      "    },\n",
      "    {\n",
      "      \"id\": \"index:beer_content/0/c2aee861b2efb1547be17eef\",\n",
      "      \"relevance\": 0.0,\n",
      "      \"source\": \"beer_content\",\n",
      "      \"fields\": {\n",
      "        \"sddocname\": \"beer\",\n",
      "        \"name\": \"Yeti\",\n",
      "        \"id\": \"892\",\n",
      "        \"brewery\": \"Brasserie des Cimes\"\n",
      "      }\n",
      "    },\n",
      "    {\n",
      "      \"id\": \"index:beer_content/0/182be0c5583d03f5fb8aee8b\",\n",
      "      \"relevance\": 0.0,\n",
      "      \"source\": \"beer_content\",\n",
      "      \"fields\": {\n",
      "        \"sddocname\": \"beer\",\n",
      "        \"name\": \"Jenlain Blonde\",\n",
      "        \"id\": \"33\",\n",
      "        \"brewery\": \"Brasserie Duyck\"\n",
      "      }\n",
      "    },\n",
      "    {\n",
      "      \"id\": \"index:beer_content/0/e369853d5a0438a31163e8c4\",\n",
      "      \"relevance\": 0.0,\n",
      "      \"source\": \"beer_content\",\n",
      "      \"fields\": {\n",
      "        \"sddocname\": \"beer\",\n",
      "        \"name\": \"Blonde\",\n",
      "        \"id\": \"34\",\n",
      "        \"brewery\": \"Brasserie La Choulette\"\n",
      "      }\n",
      "    },\n",
      "    {\n",
      "      \"id\": \"index:beer_content/0/fa83a11abb3fc45aee1b4298\",\n",
      "      \"relevance\": 0.0,\n",
      "      \"source\": \"beer_content\",\n",
      "      \"fields\": {\n",
      "        \"sddocname\": \"beer\",\n",
      "        \"name\": \"Les Sans Culottes\",\n",
      "        \"id\": \"840\",\n",
      "        \"brewery\": \"Brasserie La Choulette\"\n",
      "      }\n",
      "    },\n",
      "    {\n",
      "      \"id\": \"index:beer_content/0/8f7d807e0685e31438360c1d\",\n",
      "      \"relevance\": 0.0,\n",
      "      \"source\": \"beer_content\",\n",
      "      \"fields\": {\n",
      "        \"sddocname\": \"beer\",\n",
      "        \"name\": \"Jenlain St Druon de Sebourg\",\n",
      "        \"id\": \"839\",\n",
      "        \"brewery\": \"Brasserie Duyck\"\n",
      "      }\n",
      "    },\n",
      "    {\n",
      "      \"id\": \"index:beer_content/0/1f0e3dad19c5812b442300b6\",\n",
      "      \"relevance\": 0.0,\n",
      "      \"source\": \"beer_content\",\n",
      "      \"fields\": {\n",
      "        \"sddocname\": \"beer\",\n",
      "        \"name\": \"Framboise\",\n",
      "        \"id\": \"19\",\n",
      "        \"brewery\": \"Brasserie La Choulette\"\n",
      "      }\n",
      "    },\n",
      "    {\n",
      "      \"id\": \"index:beer_content/0/04ecb1fab2a0ce1eb4d54592\",\n",
      "      \"relevance\": 0.0,\n",
      "      \"source\": \"beer_content\",\n",
      "      \"fields\": {\n",
      "        \"sddocname\": \"beer\",\n",
      "        \"name\": \"Castelain St.Amand French Country Ale\",\n",
      "        \"id\": \"595\",\n",
      "        \"brewery\": \"Brasserie Bnifontaine\"\n",
      "      }\n",
      "    }\n",
      "  ]\n",
      "}\n"
     ]
    }
   ],
   "source": [
    "#Q3: Top10 des bières les plus fortes (ABV) en France ?\n",
    "resp = vespa.query(\n",
    "   {\n",
    "        \"yql\": \"select * from beer where true and country contains 'France' order by abv desc\",\n",
    "        \"presentation.summary\": \"textual\",\n",
    "        \"hits\": 10\n",
    "   } \n",
    ")\n",
    "print(json.dumps(resp.json[\"root\"], indent=2))"
   ]
  },
  {
   "cell_type": "code",
   "execution_count": 113,
   "id": "7ceab508-cacb-457d-99b7-85b25bf17c3a",
   "metadata": {},
   "outputs": [],
   "source": [
    "# your code"
   ]
  },
  {
   "cell_type": "markdown",
   "id": "540b83d3-ad59-49ec-b81b-7be6ab494327",
   "metadata": {},
   "source": [
    "# UC-2 : préparer un dataset de ranking \n",
    "\n",
    "Plusieurs problèmes pour résoudre ce use-case:\n",
    "- cf intro : un index ne peut pas faire de jointure \n",
    "- cf UC-1 : les grouping sont horribles à réaliser\n",
    "\n",
    "Conclusion : les index ne sont vraiment pas adaptés pour fabriquer des datasets !"
   ]
  },
  {
   "cell_type": "code",
   "execution_count": 113,
   "id": "c7544207-f8f6-4954-b8de-e59dcb4f537d",
   "metadata": {},
   "outputs": [],
   "source": [
    "# your code"
   ]
  },
  {
   "cell_type": "markdown",
   "id": "42b943ce-e976-4477-ba12-e80e8437286b",
   "metadata": {},
   "source": [
    "# UC-3 : récupérer les docs qui parlent d'un mot\n",
    "\n",
    "Peut-on utiliser Vespa pour réaliser un mini moteur de recherche ? \n",
    "\n",
    "**Rappel:** une configuration Vespa intègre la définition d'un **score d'adéquation** entre query et document ! Le `rank-profile` suivant existe sur l'instance Vespa utilisées :\n",
    "```\n",
    "  [...]\n",
    "\n",
    "    rank-profile rank-brewery-and-descr inherits root{\n",
    "        first-phase {\n",
    "            expression {\n",
    "                bm25(description_brewery) + bm25(description_beer)\n",
    "            }\n",
    "        }\n",
    "    }\n",
    "\n",
    "  [...]\n",
    "```\n",
    "\n",
    "**Question 1:** expliquer en 2 phrases comment le rank-profile `rank-brewery-and-descr` va agir.\n",
    "\n",
    "**Question 2:** pour différentes requêtes textuelles très simples à base de mot-clef, retrouver les bières qui semblent répondre à la demande :\n",
    "- trouver les bières ou les brasseries qui parlent de bières \"fine\"\n",
    "- idem pour \"juicy\"\n",
    "- idem pour \"genuine\"\n",
    "- idem pour les bières mâturées dans des \"oak cask\" (fûts en chêne) -> combien y en a-t-il ? $N_1$\n",
    "   - idem pour les bières qui évoquent uniquement \"cask\" -> combien y en a-t-il ? $N_{1,1}$\n",
    "   - idem pour celles ne parlant que de \"oak\" -> combien y en a-t-il ? $N_{1,2}$\n",
    "- idem pour les bières qui évoquent \"oak\" et \"cask\" -> combien y en a-t-il ? $N_{2}$"
   ]
  },
  {
   "cell_type": "code",
   "execution_count": 147,
   "id": "db5c68dd-ce75-462d-b9d6-ec341b7b6333",
   "metadata": {},
   "outputs": [
    {
     "name": "stdout",
     "output_type": "stream",
     "text": [
      "Réponse de Vespa:\n",
      "\n",
      "{\n",
      "  \"id\": \"toplevel\",\n",
      "  \"relevance\": 1.0,\n",
      "  \"fields\": {\n",
      "    \"totalCount\": 62\n",
      "  },\n",
      "  \"coverage\": {\n",
      "    \"coverage\": 100,\n",
      "    \"documents\": 5699,\n",
      "    \"full\": true,\n",
      "    \"nodes\": 1,\n",
      "    \"results\": 1,\n",
      "    \"resultsFull\": 1\n",
      "  },\n",
      "  \"children\": [\n",
      "    {\n",
      "      \"id\": \"index:beer_content/0/582967e04a0cf6bf51211863\",\n",
      "      \"relevance\": 11.529384358323982,\n",
      "      \"source\": \"beer_content\",\n",
      "      \"fields\": {\n",
      "        \"sddocname\": \"beer\",\n",
      "        \"name\": \"Arthur's Nugget Pale Ale\",\n",
      "        \"id\": \"3852\",\n",
      "        \"brewery\": \"Otto's Pub and Brewery\",\n",
      "        \"description_beer\": \"A cask-conditioned American Pale Ale. This is a bright dry ale brewed only with American Nugget hops.\",\n",
      "        \"description_brewery\": \"Otto's typically offers a selection of 9-11 beers on draft. These include seasonal offerings as well as some of our favorite year-round ales and lagers including our special cask-conditioned ales. All of our beers are brewed on-premises at Otto's for the utmost freshness and quality control. They are made with the finest ingredients available, all of our skill, and a true love for the craft of brewing. Enjoy!\",\n",
      "        \"summaryfeatures\": {\n",
      "          \"bm25(description_beer)\": 6.311956235633194,\n",
      "          \"bm25(description_brewery)\": 5.217428122690788,\n",
      "          \"vespa.summaryFeatures.cached\": 0.0\n",
      "        }\n",
      "      }\n",
      "    },\n",
      "    {\n",
      "      \"id\": \"index:beer_content/0/ce052ea95e0e5c3d1a566867\",\n",
      "      \"relevance\": 7.259037368222061,\n",
      "      \"source\": \"beer_content\",\n",
      "      \"fields\": {\n",
      "        \"sddocname\": \"beer\",\n",
      "        \"name\": \"Blue Bell Bitter\",\n",
      "        \"id\": \"4430\",\n",
      "        \"brewery\": \"Magnolia Pub and Brewery\",\n",
      "        \"description_beer\": \"Diacetyl dominated cask bitter.\",\n",
      "        \"summaryfeatures\": {\n",
      "          \"bm25(description_beer)\": 7.259037368222061,\n",
      "          \"bm25(description_brewery)\": 0.0,\n",
      "          \"vespa.summaryFeatures.cached\": 0.0\n",
      "        }\n",
      "      }\n",
      "    }\n",
      "  ]\n",
      "}\n"
     ]
    }
   ],
   "source": [
    "# requête simple\n",
    "QUERY = \"cask\"\n",
    "resp = vespa.query(\n",
    "    {\n",
    "        \"yql\": \"select * from beer where userQuery()\", \n",
    "        \"hits\": 2, # <-- nombre de résultats voulus\n",
    "        \"query\": QUERY,\n",
    "        \"presentation.summary\": \"textual\"\n",
    "    }\n",
    ")\n",
    "print(\"Réponse de Vespa:\\n\")\n",
    "print(json.dumps(resp.json[\"root\"], indent=2))"
   ]
  },
  {
   "cell_type": "code",
   "execution_count": 113,
   "id": "6bd62802-b094-4195-98c6-e0bb0149a764",
   "metadata": {},
   "outputs": [],
   "source": [
    "# your code"
   ]
  },
  {
   "cell_type": "markdown",
   "id": "dfc09e9d-5759-4242-b7bc-c01517cbfb20",
   "metadata": {},
   "source": [
    "# UC-4 : vectorisation des description des bières\n",
    "\n",
    "## Index et \"scrolling/visiting\"\n",
    "\n",
    "Les index ne sont \"pas faits\" pour manipuler la donnée qu'ils hébergent, néanmoins il existe plusieurs systèmes qui permettent à un code arbitraire de s'exécuter sur chaque document. Vespa nomme son système `visitor` ([doc](https://docs.vespa.ai/en/visiting.html)) et permet de \n",
    "- selectionner des documents à processer\n",
    "- dumper l'index en parallèle (et possiblement les modifier + update à la volée)\n",
    "- appliquer un code arbitraire à des documents (Nécessite le recours à Java pour expliciter l'opération :o )\n",
    "\n",
    "L'équivalent Elastic Search est le [scroll](https://www.elastic.co/guide/en/elasticsearch/guide/current/scroll.html).\n",
    "\n",
    "**Remarque:** on comprend vite qu'il n'est pas forcément simple de manipuler une donnée une fois qu'elle est indexée. Vespa étant très tourné vers le ML, il est toutefois possible de vectoriser des documents automatiquement lors de leur upsert. Voir la [doc Vespa sur la gestion en direct des embeddings](https://docs.vespa.ai/en/embedding.html#huggingface-embedder)\n",
    "\n",
    "## Vespa est capable de vectorisation à la volée\n",
    "\n",
    "Vespa (contrairement à ES) est capable de gérer nativement des embedding, de créer des vecteurs à la volée à partir des documents indéxés, de les retrouver dans des index vectoriels (explications détaillées au prochain TP) ..! Voir [ce blog post](https://blog.vespa.ai/combining-matryoshka-with-binary-quantization-using-embedder/) de Vespa sur le sujet."
   ]
  },
  {
   "cell_type": "code",
   "execution_count": 149,
   "id": "c46dc150-fff3-4cfb-81e8-8bb5c8044b98",
   "metadata": {},
   "outputs": [
    {
     "name": "stdout",
     "output_type": "stream",
     "text": [
      "Réponse de Vespa:\n",
      "\n",
      "{\n",
      "  \"id\": \"toplevel\",\n",
      "  \"relevance\": 1.0,\n",
      "  \"fields\": {\n",
      "    \"totalCount\": 557\n",
      "  },\n",
      "  \"coverage\": {\n",
      "    \"coverage\": 100,\n",
      "    \"documents\": 5699,\n",
      "    \"full\": true,\n",
      "    \"nodes\": 1,\n",
      "    \"results\": 1,\n",
      "    \"resultsFull\": 1\n",
      "  },\n",
      "  \"children\": [\n",
      "    {\n",
      "      \"id\": \"index:beer_content/0/db8419f40e4efc774fdce482\",\n",
      "      \"relevance\": 6.78948031198024,\n",
      "      \"source\": \"beer_content\",\n",
      "      \"fields\": {\n",
      "        \"sddocname\": \"beer\",\n",
      "        \"name\": \"Coopers Best Extra Stout\",\n",
      "        \"id\": \"4933\",\n",
      "        \"brewery\": \"Coopers Brewery\",\n",
      "        \"description_beer\": \"Now here's a beer with punch! \\r\\n\\r\\nCoopers Best Extra Stout is a beacon for lovers of a hearty brew. With its robust flavour it is everything a stout should be. \\r\\n\\r\\nBrewed naturally using a top fermentation method, Coopers Stout's unique rich, dark texture comes from specially roasted black malt. \\r\\n\\r\\nCoopers Best Extra Stout contains no additives and no preservatives.\",\n",
      "        \"description_brewery\": \"Coopers Brewery produce a range of Ales,Stouts and Lagers.   Our ale range is brewed by a method of top fermentation, originating in the Middle Ages.  Coopers uses only natural ingredients including malt, hops, sugar, water and a special yeast strain that's over 90 years old.  Coopers do not use preservatives or chemicals in their ale range.   Coopers also produce Stout and Lager beers.  The Lager beers are bottom fermented in cooler conditions, matured for a short period and pasteurised.\",\n",
      "        \"summaryfeatures\": {\n",
      "          \"bm25(description_beer)\": 3.610154107403545,\n",
      "          \"bm25(description_brewery)\": 3.1793262045766957,\n",
      "          \"vespa.summaryFeatures.cached\": 0.0\n",
      "        }\n",
      "      }\n",
      "    }\n",
      "  ]\n",
      "}\n"
     ]
    }
   ],
   "source": [
    "# requête simple\n",
    "resp = vespa.query(\n",
    "    {\n",
    "        \"yql\": \"select * from beer where userQuery()\", \n",
    "        \"hits\": 1, # <-- nombre de résultats voulus\n",
    "        \"query\": \"stout\",\n",
    "        \"presentation.summary\": \"textual\"\n",
    "    }\n",
    ")\n",
    "print(\"Réponse de Vespa:\\n\")\n",
    "print(json.dumps(resp.json[\"root\"], indent=2))"
   ]
  },
  {
   "cell_type": "markdown",
   "id": "459c04bc-29c2-4c96-a2c5-078b8098ec52",
   "metadata": {},
   "source": [
    "# UC-5 : answer question in corpa\n",
    "**Grandes lignes :** trouvons les documents qui répondent à une question. Exemple : à partir de la description vectorisée à UC-4 pour chaque bière, comment trouver les bières qui répondent à une description plus complète ? Exemple:\n",
    "- \"very bitter beer with smoky taste\"\n",
    "- \"fruity sour - balanced sourness\"\n",
    "- \"weird beer\"\n"
   ]
  },
  {
   "cell_type": "code",
   "execution_count": 154,
   "id": "d1bd0e1c-58a8-4d3e-8523-4031834a837f",
   "metadata": {},
   "outputs": [
    {
     "name": "stdout",
     "output_type": "stream",
     "text": [
      "[\n",
      "  {\n",
      "    \"id\": \"index:beer_content/0/805163a06d020be96e66db87\",\n",
      "    \"relevance\": 0.7683171359270097,\n",
      "    \"source\": \"beer_content\",\n",
      "    \"fields\": {\n",
      "      \"sddocname\": \"beer\",\n",
      "      \"name\": \"Colonel Blide's Cask Ale\",\n",
      "      \"id\": \"5852\",\n",
      "      \"brewery\": \"Cricket Hill\",\n",
      "      \"description_beer\": \"A tasty, moderately hoppy, easy to drink beer with an orange marmalade hue with a frothy, off-white head. An herbal hop aroma with a hint of lemon and pine. This beer is not overly bitter, with orangy citrus and pine hop with slight earthy notes! There is a malty biscuit flavor that balances the hops. Makes me wish I had some Fish & Chips!!\",\n",
      "      \"description_brewery\": \"We believe that New Jersey is starting to learn what the rest of the country already knows; that local microbrews are some of the best beers in the world! Finally, curious beer drinkers are stepping out from under the mind-numbing barrage of large brewery advertising and deciding for themselves what they like. Our beers are designed for those curious drinkers. The large breweries use fillers in their beer; Corn or Rice are the most frequently used. Most good beer should be all Barley, in the same way that good hamburgers are all beef. Barley is expensive and the more fillers that are used, the better the profits! Cricket Hill Beers are 100% Barley as are most great beers. Please take the time to taste different local beers. I am certain that those who decide not to let television dictate what they drink are ready for a wonderful adventure into the world of Beer!\",\n",
      "      \"summaryfeatures\": {\n",
      "        \"bm25(description_beer)\": 0.0,\n",
      "        \"bm25(description_brewery)\": 0.0,\n",
      "        \"vespa.summaryFeatures.cached\": 0.0\n",
      "      }\n",
      "    }\n",
      "  },\n",
      "  {\n",
      "    \"id\": \"index:beer_content/0/ac52c62686fc2c14037f9c66\",\n",
      "    \"relevance\": 0.7601251614741228,\n",
      "    \"source\": \"beer_content\",\n",
      "    \"fields\": {\n",
      "      \"sddocname\": \"beer\",\n",
      "      \"name\": \"OktoberFish\",\n",
      "      \"id\": \"3960\",\n",
      "      \"brewery\": \"Flying Fish Brewing Company\",\n",
      "      \"description_beer\": \"First released in 2002, and sold out in two weeks. A tribute to the classic Fest styles of Germany the O'Fish uses European malts hops and yeast. A beautiful reddish color, a savory malt profile and nice hop flavor, make this Fest beer quite drinkable. OktoberFish is great with food and especially great with Lederhosen.\",\n",
      "      \"description_brewery\": \"When Gene Muller founded Flying Fish Brewing Co. in 1995, he did so first on the World Wide Web - making it the world's first virtual microbrewery. That early Web site helped generate positive press coverage and helped attract the investors needed to make the virtual brewery a real one. Muller said the idea was to make the Web site This Old House meets the World Wide Web\\u00ef\\u00bf\\u00bdletting people go behind the taps and see the thousands of details needed to put a microbrewery together.  He also wanted to give beer lovers a chance, via their computers, to roll up their cyber-sleeves and help build the brewery. The site let beer lovers help select and name beers, design t-shirts and labels, volunteer to be a taste-tester and even apply for a job as a brewer. Visitors to the Web site can sign up for FlyingFishMail a monthly e-mail newsletter which now boasts more than 12,000 subscribers. Muller, who got into the brewing field to become a brewer, trained at Chicago's Siebel Institute of Technology, America's oldest brewing school. He quickly realized someone was going to have to run the day-to-day business of the brewery and now serves as President and Head Janitor (though not necessarily in that order). Flying Fish Brewing Company is located in Cherry Hill, New Jersey, approximately seven miles east of Philadelphia. In a state that once boasted 50 breweries, it is the first microbrewery in Southern New Jersey and the first new brewery built in that part of the state in more than half a century. From its opening in late 1996, Flying Fish has tripled its capacity and become the largest of the approximately 20 craft breweries in the state. Head brewer Casey Hughes now produces four full-time styles, as well as a variety of seasonal beers.   The key word to describe all Flying Fish beers is balance. The beers are full-flavored, yet highly drinkable. Flavors harmonize, not fight for individual attention. Hopping is generous, but to style. Seeing beer as equal to, if not superior to, wine, Flying Fish beers are designed to complement food. Because of this effort, one can walk into any fine restaurant in the Philadelphia region and be pretty sure of finding a Flying Fish beer available. Flying Fish beers were the first in the region to be featured at the Great British Beer Festival, Oregon Brewers Festival and Canada's Biere de Mondial Festival. They have also won several medals at the Real Ale Festival in Chicago, the World Beer Championships and is the only New Jersey brewery featured in the 2000 book Best American Beers.\",\n",
      "      \"summaryfeatures\": {\n",
      "        \"bm25(description_beer)\": 0.0,\n",
      "        \"bm25(description_brewery)\": 0.0,\n",
      "        \"vespa.summaryFeatures.cached\": 0.0\n",
      "      }\n",
      "    }\n",
      "  },\n",
      "  {\n",
      "    \"id\": \"index:beer_content/0/367692064bdfc987943e0512\",\n",
      "    \"relevance\": 0.7546273917012022,\n",
      "    \"source\": \"beer_content\",\n",
      "    \"fields\": {\n",
      "      \"sddocname\": \"beer\",\n",
      "      \"name\": \"Cricket's Nocturne\",\n",
      "      \"id\": \"5853\",\n",
      "      \"brewery\": \"Cricket Hill\",\n",
      "      \"description_beer\": \"Cricket's Nocturne: a dark lager that combines a mild crispness with subtle toasty, chocolate notes to make it the perfect thirst quencher on days when there's a chill in the air. It;s a great accompaniment to hearty winter meals, or dessert by the fireside.\",\n",
      "      \"description_brewery\": \"We believe that New Jersey is starting to learn what the rest of the country already knows; that local microbrews are some of the best beers in the world! Finally, curious beer drinkers are stepping out from under the mind-numbing barrage of large brewery advertising and deciding for themselves what they like. Our beers are designed for those curious drinkers. The large breweries use fillers in their beer; Corn or Rice are the most frequently used. Most good beer should be all Barley, in the same way that good hamburgers are all beef. Barley is expensive and the more fillers that are used, the better the profits! Cricket Hill Beers are 100% Barley as are most great beers. Please take the time to taste different local beers. I am certain that those who decide not to let television dictate what they drink are ready for a wonderful adventure into the world of Beer!\",\n",
      "      \"summaryfeatures\": {\n",
      "        \"bm25(description_beer)\": 0.0,\n",
      "        \"bm25(description_brewery)\": 0.0,\n",
      "        \"vespa.summaryFeatures.cached\": 0.0\n",
      "      }\n",
      "    }\n",
      "  }\n",
      "]\n"
     ]
    }
   ],
   "source": [
    "query = \"child friendly beer\"\n",
    "resp = vespa.query(\n",
    "    {\n",
    "        \"yql\": \"select * from beer where {targetHits:3}nearestNeighbor(mrl_embedding, q)\",\n",
    "        \"input.query(q)\": \"embed(mxbai, @text)\",\n",
    "        \"ranking.profile\": \"ann\",\n",
    "        \"text\": query,\n",
    "        \"presentation.summary\": \"textual\"\n",
    "    }\n",
    ")\n",
    "print(json.dumps(resp.json[\"root\"][\"children\"], indent=2))"
   ]
  },
  {
   "cell_type": "markdown",
   "id": "e5fe8a65-bb26-4ad3-8e04-aa108602eaa1",
   "metadata": {},
   "source": [
    "## Index vectoriel : NN et ANN, équivalent ML des index lexicaux\n",
    "Depuis ~2020, le ML permet de représenter des documents textuels par des vecteurs en grande dimension (appelés **embedding**) qui possèdent l'énorme propriété de traduire numériquement/vectoriellement l'information sémantique contenue dans les documents. De surcroit, ces embeddings peuvent se comparer algébriquement très simplement dans le sens où 2 embeddings \"proches\" (dans leur espace) correspondent à des objets proches (dans notre perception). Le uses-case 4 des TP précédent visait à obtenir de tels embeddings à partir d'un service externe.\n",
    "\n",
    "et les algorithmes *Nearest Neighbors* ou plus récemment *Approximated Nearest Neighbors*.\n",
    "### Recherche par plus proche voisins \n",
    "#### Algorithme Nearest Neighbors - NN\n",
    "\n",
    "Puisqu'il est possible de représenter (presque) tout document sous format embedding et que ces derniers ont la propriété d'être comparables entre eux, un nouveau type de recherche s'ouvre : recherche par embeddings les plus proche de l'embedding d'une query. Opérer une recherche à partir d'une query revient à trouver les *plus proches voisins* (Nearest Neighbors - NN) de l'embedding de la query parmi les embeddings de documents.\n",
    "\n",
    "Exemple en dimension 2 : les coordonnées GPS 2D d'une ville sont en quelque sort un embedding basique d'une ville. Trouver les 5 villes les plus proches de Nancy est simple : il suffit de cacluler les distances de Nancy à toutes les villes grâce à leurs coordonnées et de trouver les top5 distances les plus faibles.\n",
    "\n",
    "**Problème:** une telle recherche exhaustive implique $O(n^2)$ calculs où $n$ est le nombre de villes. Si $n=10^6$, le calcul devient difficile.\n",
    "\n",
    "#### Variante Approximative Nearest Neihbors - ANN\n",
    "\n",
    "**Solution proposée:** sachant qu'il est inutile de calculer la distance entre Nancy et Timbuktu ou New-York (celles-ci ne seront jamais dans le top5 proximité), il peut être intéressant de restreindre le champ de recherche afin de ne payer une recherche exhaustive en $O(n^2)$ que pour une poignée de villes qu'on sait déjà être \"proches\". Dans notre exemple, une recherche limitée au département de la ville cible et aux départements limitrophes suffit. \n",
    "\n",
    "Il s'agit d'un début de compréhension de la famille d'algorithmes Approximative Nearest Neihbors (ANN par la suite) qui permet de casser la complexité du problème de recherche de plus proches voisins en hierarchisant l'information. Cette hierarchisation se fait via une structure de donnée particulière ; l'implémentation la plus courante en 2024 est [Hierarchical Navigable Small World - HNSW](https://www.wikiwand.com/en/articles/HNSW_indexes).\n",
    "\n",
    "Remarque : l'algo qui traduit réellement la hierarchisation stricte est plutôt de la famille [K-d tree](https://www.wikiwand.com/en/articles/K-d_tree) mais il est inefficace pour des vecteurs de dimension $k=768+$ comme c'est le cas pour la plupart des embeddings"
   ]
  },
  {
   "cell_type": "code",
   "execution_count": null,
   "id": "ad74b2ff-2bf8-40e7-a925-c5b73c4f8a12",
   "metadata": {},
   "outputs": [],
   "source": []
  }
 ],
 "metadata": {
  "kernelspec": {
   "display_name": "Python 3 (ipykernel)",
   "language": "python",
   "name": "python3"
  },
  "language_info": {
   "codemirror_mode": {
    "name": "ipython",
    "version": 3
   },
   "file_extension": ".py",
   "mimetype": "text/x-python",
   "name": "python",
   "nbconvert_exporter": "python",
   "pygments_lexer": "ipython3",
   "version": "3.11.0rc1"
  }
 },
 "nbformat": 4,
 "nbformat_minor": 5
}
