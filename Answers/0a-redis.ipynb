{
 "cells": [
  {
   "cell_type": "code",
   "execution_count": null,
   "metadata": {},
   "outputs": [],
   "source": [
    "from typing import Any\n",
    "import redis\n",
    "\n",
    "class RedisWrapper:\n",
    "    def __init__(self, redis_client: redis.Redis, api_client: Any, ttl: int) -> None:\n",
    "        self.redis_client = redis_client\n",
    "        self.api_client = api_client\n",
    "        self.ttl = ttl\n",
    "\n",
    "    def get(self, key: str, object_input: Any) -> str:\n",
    "        cached_data = self.redis_client.get(key)\n",
    "        if cached_data:\n",
    "            return cached_data\n",
    "        \n",
    "        # if no data cached for key: fetch it and cache it\n",
    "        response = self.api_client.get(object_input)\n",
    "        self.redis_client.set(key, str(response))\n",
    "        return str(response)"
   ]
  }
 ],
 "metadata": {
  "language_info": {
   "name": "python"
  }
 },
 "nbformat": 4,
 "nbformat_minor": 2
}
