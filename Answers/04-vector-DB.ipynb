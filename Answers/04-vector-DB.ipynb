{
 "cells": [
  {
   "cell_type": "code",
   "execution_count": null,
   "metadata": {},
   "outputs": [],
   "source": [
    "from vespa.application import Vespa\n",
    "import json\n",
    "\n",
    "vespa = Vespa(url=\"http://vespa\", port=8080)\n",
    "vespa.wait_for_application_up(30)"
   ]
  },
  {
   "cell_type": "markdown",
   "metadata": {
    "vscode": {
     "languageId": "plaintext"
    }
   },
   "source": [
    "# Reprise exemple Vespa "
   ]
  },
  {
   "cell_type": "code",
   "execution_count": null,
   "metadata": {},
   "outputs": [],
   "source": [
    "query = \"scottish oak cask beer\"\n",
    "resp = vespa.query(\n",
    "    {\n",
    "        \"yql\": \"select * from beer where {targetHits:3}nearestNeighbor(mrl_embedding, q)\",\n",
    "        \"input.query(q)\": \"embed(mxbai, @text)\",\n",
    "        \"ranking.profile\": \"ann\",\n",
    "        \"presentation.summary\": \"vectorial\",\n",
    "        \"text\": query\n",
    "    }\n",
    ")\n",
    "print(json.dumps(resp.json[\"root\"][\"children\"], indent=2))"
   ]
  },
  {
   "cell_type": "markdown",
   "metadata": {},
   "source": [
    "# Qdrant\n",
    "Répondre à une query en langage naturelle"
   ]
  },
  {
   "cell_type": "code",
   "execution_count": null,
   "metadata": {},
   "outputs": [],
   "source": [
    "from qdrant_client import QdrantClient\n",
    "import numpy as np\n",
    "\n",
    "jina_collection_name = \"beer-jina\"\n",
    "client = QdrantClient(url=\"http://qdrant:6333\", prefer_grpc=True)"
   ]
  },
  {
   "cell_type": "code",
   "execution_count": null,
   "metadata": {},
   "outputs": [],
   "source": [
    "res = client.search(\n",
    "    collection_name=jina_collection_name,\n",
    "    query_vector=vec[1],\n",
    "    limit=3\n",
    ")"
   ]
  }
 ],
 "metadata": {
  "language_info": {
   "name": "python"
  }
 },
 "nbformat": 4,
 "nbformat_minor": 2
}
