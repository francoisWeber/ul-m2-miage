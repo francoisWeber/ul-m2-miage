{
 "cells": [
  {
   "cell_type": "markdown",
   "metadata": {},
   "source": [
    "# Uses cases"
   ]
  },
  {
   "cell_type": "markdown",
   "metadata": {},
   "source": [
    "## UC-1 : description data\n",
    "\n",
    "Attention, plus compliqué qu'en SQL. Voir la [doc spécifique Vespa sur le grouping](https://docs.vespa.ai/en/grouping.html). Ne pas chercher à aller jusqu'au bout.\n",
    "\n",
    "- Q1: Combien y a-t-il de bières dans la DB ?\n",
    "- Q2: Top10 brasseries les plus représentées avec le nombre de bière par brasserie ?\n",
    "- Q3: Top10 des bières les plus fortes (ABV) en France ?\n",
    "- Q4: Par pays, nombre de brasseries qui proposent des bières de type `Porter` et ABV moyen de celles-ci ?\n",
    "- Q5: Mediane du nombre de bière par pays ?"
   ]
  },
  {
   "cell_type": "code",
   "execution_count": null,
   "metadata": {},
   "outputs": [],
   "source": [
    "import json\n",
    "from vespa.application import Vespa\n",
    "import json\n",
    "\n",
    "vespa = Vespa(url=\"http://vespa\", port=8080)\n",
    "vespa.wait_for_application_up(5)\n"
   ]
  },
  {
   "cell_type": "code",
   "execution_count": null,
   "metadata": {},
   "outputs": [],
   "source": [
    "# Q1\n",
    "resp = vespa.query(\n",
    "    {\n",
    "        \"yql\": \"select * from beer where true limit 0 | all( output(count()) )\", \n",
    "        \"hits\": 10\n",
    "    }\n",
    ")\n",
    "print(json.dumps(resp.json[\"root\"][\"children\"], indent=2))"
   ]
  },
  {
   "cell_type": "code",
   "execution_count": null,
   "metadata": {},
   "outputs": [],
   "source": [
    "# Q2\n",
    "resp = vespa.query(\n",
    "    {\n",
    "        \"yql\": \"select * from beer where true limit 0 | all( group(brewery) order(-count()) each(output(count())) )\", \n",
    "        \"hits\": 10\n",
    "    }\n",
    ")\n",
    "print(json.dumps(resp.json[\"root\"][\"children\"][0][\"children\"][0][\"children\"], indent=2))"
   ]
  },
  {
   "cell_type": "code",
   "execution_count": null,
   "metadata": {},
   "outputs": [],
   "source": [
    "# Q3\n",
    "resp = vespa.query(\n",
    "    {\n",
    "        \"yql\": \"select * from beer where country contains 'France' | all( group(name) order(-max(abv)) each(output(max(abv))) )\", \n",
    "        \"hits\": 10\n",
    "    }\n",
    ")\n",
    "print(json.dumps(resp.json[\"root\"][\"children\"][0][\"children\"][0][\"children\"], indent=2))"
   ]
  },
  {
   "cell_type": "code",
   "execution_count": null,
   "metadata": {},
   "outputs": [],
   "source": [
    "# Q4 : double groupby horrible\n",
    "# Q5 : pas de médiane"
   ]
  },
  {
   "cell_type": "markdown",
   "metadata": {},
   "source": [
    "Observation: c'est l'enfer avec Vespa !"
   ]
  },
  {
   "cell_type": "markdown",
   "metadata": {},
   "source": [
    "# UC-2 : préparer un dataset de ranking \n",
    "\n",
    "Plusieurs problèmes pour résoudre ce use-case:\n",
    "- cf intro : un index ne peut pas faire de jointure \n",
    "- cf UC-1 : les grouping sont horribles à réaliser\n",
    "\n",
    "Conclusion : les index ne sont vraiment pas adaptés pour fabriquer des datasets !"
   ]
  },
  {
   "cell_type": "markdown",
   "metadata": {},
   "source": [
    "# UC-3 : récupérer les docs qui parlent d'un mot\n",
    "\n",
    "Peut-on utiliser SQL pour réaliser un mini moteur de recherche ? Pour différentes requêtes (`query` en anglais) textuelles très simples à base de mot-clef, retrouver les bières qui semblent répondre à la demande. Exemples :\n",
    "- trouver les bières ou les brasseries qui parlent de bières \"fine\"\n",
    "- idem pour \"juicy\"\n",
    "- idem pour \"genuine\"\n",
    "- idem pour les bières mâturées dans des \"oak cask\" (fûts en chêne) -> combien y en a-t-il ? $N_1$\n",
    "   - idem pour les bières qui évoquent uniquement \"cask\" -> combien y en a-t-il ? $N_{1,1}$\n",
    "   - idem pour celles ne parlant que de \"oak\" -> combien y en a-t-il ? $N_{1,2}$\n",
    "- idem pour les bières qui évoquent \"oak\" et \"cask\" -> combien y en a-t-il ? $N_{2}$"
   ]
  },
  {
   "cell_type": "code",
   "execution_count": null,
   "metadata": {},
   "outputs": [],
   "source": [
    "query = \"oak cask\"\n",
    "resp = vespa.query(\n",
    "    {\n",
    "        \"hits\": 2, \n",
    "        \"query\": query, \n",
    "        \"ranking.profile\": \"rank-brewery-and-descr\",\n",
    "    }\n",
    ")\n",
    "print(json.dumps(resp.json[\"root\"][\"children\"], indent=2))"
   ]
  }
 ],
 "metadata": {
  "language_info": {
   "name": "python"
  }
 },
 "nbformat": 4,
 "nbformat_minor": 2
}
